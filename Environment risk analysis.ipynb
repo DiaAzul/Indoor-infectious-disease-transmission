{
 "cells": [
  {
   "cell_type": "markdown",
   "metadata": {},
   "source": [
    "# Risk assessment for infectious disease transmission in a microenvironment\n",
    "There is a risk of infectious disease transmission within indoor environments. Infectious diseases may be transmitted through multiple mechanisms including touch, bodily fluids, formites, respiritory droplets (spew or aerosol). This risk assessment tool considers transmission within an indoor microenvironment through respiritory droplets, such as may occur in the transmission of Covid-19.\n",
    "\n",
    "The factors  affect the number of people who might be infected include:\n",
    "* the emission rate of the infected individual\n",
    "* the ventilation of the indoor environment\n",
    "* the inhilation rate of susceptible individuals\n",
    "* the separation distance between infected and susceptible individuals\n",
    "* the duration that infectious and susceptible people are in the environment.\n",
    "\n",
    "The criteria for assessing the risk are set out below, along with a charting tool to visually represent the risk."
   ]
  },
  {
   "cell_type": "markdown",
   "metadata": {},
   "source": [
    "## Exhalation rate\n",
    "\n",
    "Respiritory droplets are emitted from an infectuous person as they breath. Empidemiologists use the term quanta to measure the amount of virus transmitted. One quanta is the amount of virus required to infect a person. This measure, whilst abstract, is used to estimate the amount of virus exhaled by an infectuous person, transported through the environment, then inhaled by a susceptible person. \n",
    "\n",
    "The emission rate, is depdenent upon the amount of virus load present within the persons respiritory system, and the volume of air emitted with each breath. Viral load can vary over the infectuous period. The amount used in the risk assessment assumes an asymptomatic person. An average quanta emission rate is calculated across three activities.\n",
    "\n",
    "The amount of exhaled virus may be reduced if the infectuous person wears a face mask. A reudction in quanta emitted is selectable, including no mask (baseline), cloth mask (home made), surgical mask and N95 mask.\n"
   ]
  },
  {
   "cell_type": "code",
   "execution_count": 9,
   "metadata": {},
   "outputs": [
    {
     "output_type": "stream",
     "name": "stdout",
     "text": "Exhalation risk: 0.67\n"
    }
   ],
   "source": [
    "# Quanta emission rate for SARS-Cov-2 infected asymptomatic subjects\n",
    "activity = {'resting': 98.1, 'standing':147, 'light exercise':317}\n",
    "# Reduction in quanta emission due to face coverings\n",
    "reduction_mask = {'none':0, 'cloth':0.2, 'surgical':0.5, 'N95':0.95}\n",
    "# Base risk for the risk assessment\n",
    "base_risk_exhalation = activity['standing'] * (1 - reduction_mask['none'])\n",
    "# Calculation risk for current environemnt\n",
    "# *************** Select options below *************************#\n",
    "exhalation_risk = activity['resting'] * (1-reduction_mask['none']) / base_risk_exhalation\n",
    "#***************************************************************#\n",
    "#Print Results\n",
    "print(f\"Exhalation risk: {exhalation_risk:0.2f}\")"
   ]
  },
  {
   "cell_type": "markdown",
   "metadata": {},
   "source": [
    "## Ventilation\n",
    "Within an indoor environment, aerosolised virus particles will accumulate in the air over a period of time until removed. Virus particles may be removed either by falling to the floor due to gravity or air exchange with the outside environment. Virus particles can remain suspended in the air for hours, and it is assumed that the primary mode for removing particles from the environment is ventilation. \n",
    "\n",
    "Ventilation may be natural or mechanical. Natural ventilation is the natural flow of air between the inside and outside environments resulting from openings in the buildings structure (e.g. doors, windows, ventilation slots). Building regulations aimed at improving thermal efficiency of housing reduces the amount of natural ventilation which may increase the risk of accumulation of infectious disease particles. Mechanical ventilation uses machinary to exchange air within the buildng. This may be required in environments where there are large numbers of people, heat generating equipment, air-borne pollutants, etc.\n",
    "\n",
    "The concentration of virus particles will be slower in larger buildings with greater air volume, though these spaces may have larger numbers of susceptible people who could become infected.\n",
    "\n",
    "Ideally, all spaces should be large and well ventilated to minimise the build up of aerosolised particles.\n",
    "\n",
    "Note: Outdoor spaces may be considered indoor spaces when there are temperature inversions (e.g. above crowds) which trap aerosols at or near ground level, and when there is little background air movement to disperse any aerosol."
   ]
  },
  {
   "cell_type": "code",
   "execution_count": null,
   "metadata": {},
   "outputs": [],
   "source": []
  },
  {
   "cell_type": "markdown",
   "metadata": {},
   "source": [
    "## Distance\n",
    "The risk of infectious disease transmission increases the closer a susceptible peron is to an infected person. The calculation of this risk for all situations in a specific situation as it depends on the airflow between the infected and susceptible person. For instance the susceptible person's body heat might be sufficient to generate an updraft which pushes infectious particles above their head; an infectious person talking loudly, without a mask, might generate a plume of spew which travels several meters in still air; and, someone wearing a mask might cause particles to be emitted sideways rather than straight ahead. Even within a building, the arrangement of ventilation, heating, obstacles and natural airflow may case particles to move in unpredictable directions and over significant distances.\n",
    "\n",
    "The model assumes that people are equally distributed over the surface area of the microenvironment, and that the air is well enough mixed that the risk of inhalation of an infectious particle is equal for all people at all times. Therefore, the number of potential people infected is related to the density of people within the microenvironment at any one time (other paramters in the risk assessment showing the impact of other factors on the risk of people being infected)"
   ]
  },
  {
   "cell_type": "code",
   "execution_count": null,
   "metadata": {},
   "outputs": [],
   "source": []
  },
  {
   "cell_type": "markdown",
   "metadata": {},
   "source": [
    "## Inhalation rate\n",
    "Inhalation by susceptible people is the reverse of exhalation by infected people. The risk of infection is driven by the inhalation rate (m3 h-1) as modified by any face coverings. With the exception of clinical personal protective equipment the impact of face coverings is considered low. Note, the model excludes risk associated with infection resulting from deposition of infectious droplets on non respiritory mucosal surfaces (e.g. eye).\n",
    "\n",
    "|    Activity      | Inhalation rate  (m3 h-1)     |\n",
    "|:--------------:  |:-------------------------:    |\n",
    "|     Resting      |            0.36               |\n",
    "|    Standing      |            0.54               |\n",
    "| Light Exercise   |            1.16               |"
   ]
  },
  {
   "cell_type": "code",
   "execution_count": 10,
   "metadata": {},
   "outputs": [
    {
     "output_type": "stream",
     "name": "stdout",
     "text": "Exhalation risk: 0.67\n"
    }
   ],
   "source": [
    "# Quanta emission rate for SARS-Cov-2 infected asymptomatic subjects\n",
    "activity = {'resting': 0.36, 'standing':0.54, 'light exercise':1.16}\n",
    "# Reduction in quanta emission due to face coverings\n",
    "reduction_mask = {'none':0, 'cloth':0.2, 'surgical':0.5, 'N95':0.95}\n",
    "# Base risk for the risk assessment\n",
    "base_risk_inhalation = activity['standing'] * (1 - reduction_mask['none'])\n",
    "# Calculation risk for current environemnt\n",
    "# *************** Select options below *************************#\n",
    "exhalation_risk = activity['resting'] * (1-reduction_mask['none']) / base_risk_inhalation\n",
    "#***************************************************************#\n",
    "#Print Results\n",
    "print(f\"Exhalation risk: {exhalation_risk:0.2f}\")"
   ]
  },
  {
   "cell_type": "markdown",
   "metadata": {},
   "source": [
    "## Time\n",
    "The final component of the risk assessment is time, both the amount of time that infectious and susceptible people spend in the environment. The longer the infecious person is in the environment, the greater the concentration build up of infectious material. The longer the susceptible person is in the environment the more chance they have of becoming infected. If the susceptible person arrives some time after the infectious person has left then quanta concentrations will have reduced due to the diluting effect of ventilation.\n",
    "\n",
    "The baseline time assumes that infectious and susceptible people are in the microenvironment at the same time and for an amount of time that would create an X% risk of the susceptible person becoming infected.\n"
   ]
  },
  {
   "cell_type": "code",
   "execution_count": 11,
   "metadata": {},
   "outputs": [],
   "source": [
    "# ***************************\n",
    "exposure_time = 60 # minutes\n",
    "# **************************\n",
    "\n",
    "exposure_time_base = 15 # minutes - the number of minutes in the base environment to achieve a X% risk of infection\n",
    "\n",
    "exposure_time_risk = exposure_time / exposure_time_base"
   ]
  },
  {
   "cell_type": "markdown",
   "metadata": {},
   "source": [
    "## Calculations"
   ]
  },
  {
   "cell_type": "code",
   "execution_count": 12,
   "metadata": {},
   "outputs": [],
   "source": [
    "import plotly.graph_objects as go"
   ]
  },
  {
   "cell_type": "code",
   "execution_count": 13,
   "metadata": {},
   "outputs": [],
   "source": [
    "def risk_assessment_chart(r, chart_title):\n",
    "\n",
    "    categories = [key for key, item in r.items()]\n",
    "    data = [item for key, item in r.items()]\n",
    "\n",
    "    fig = go.Figure()\n",
    "    \n",
    "    fig.add_trace(go.Scatterpolar(\n",
    "        r=data,\n",
    "        theta=categories,\n",
    "        fill='toself'\n",
    "    ))\n",
    "\n",
    "    \n",
    "\n",
    "\n",
    "    fig.update_layout(\n",
    "        showlegend=False,\n",
    "        title=chart_title,\n",
    "        font={\n",
    "            'size':18\n",
    "        },\n",
    "\n",
    "        polar={\n",
    "            'radialaxis':{\n",
    "                'visible':True,\n",
    "                'range':[0,2],\n",
    "                'angle':90,\n",
    "                'tickangle':90,\n",
    "                'tickfont':{\n",
    "                    'size':12\n",
    "                }\n",
    "            },\n",
    "            'angularaxis':{ \n",
    "                'direction':'clockwise'\n",
    "            }\n",
    "        }\n",
    "    )\n",
    "\n",
    "    return fig"
   ]
  },
  {
   "cell_type": "code",
   "execution_count": 14,
   "metadata": {},
   "outputs": [
    {
     "output_type": "display_data",
     "data": {
      "application/vnd.plotly.v1+json": {
       "config": {
        "plotlyServerURL": "https://plot.ly"
       },
       "data": [
        {
         "fill": "toself",
         "r": [
          4,
          0.6666666666666666,
          0.2,
          0.3,
          0.2
         ],
         "theta": [
          "Time",
          "Exhalation",
          "Ventilation",
          "Distance",
          "Inhalation"
         ],
         "type": "scatterpolar"
        }
       ],
       "layout": {
        "font": {
         "size": 18
        },
        "polar": {
         "angularaxis": {
          "direction": "clockwise"
         },
         "radialaxis": {
          "angle": 90,
          "range": [
           0,
           2
          ],
          "tickangle": 90,
          "tickfont": {
           "size": 12
          },
          "visible": true
         }
        },
        "showlegend": false,
        "template": {
         "data": {
          "bar": [
           {
            "error_x": {
             "color": "#2a3f5f"
            },
            "error_y": {
             "color": "#2a3f5f"
            },
            "marker": {
             "line": {
              "color": "#E5ECF6",
              "width": 0.5
             }
            },
            "type": "bar"
           }
          ],
          "barpolar": [
           {
            "marker": {
             "line": {
              "color": "#E5ECF6",
              "width": 0.5
             }
            },
            "type": "barpolar"
           }
          ],
          "carpet": [
           {
            "aaxis": {
             "endlinecolor": "#2a3f5f",
             "gridcolor": "white",
             "linecolor": "white",
             "minorgridcolor": "white",
             "startlinecolor": "#2a3f5f"
            },
            "baxis": {
             "endlinecolor": "#2a3f5f",
             "gridcolor": "white",
             "linecolor": "white",
             "minorgridcolor": "white",
             "startlinecolor": "#2a3f5f"
            },
            "type": "carpet"
           }
          ],
          "choropleth": [
           {
            "colorbar": {
             "outlinewidth": 0,
             "ticks": ""
            },
            "type": "choropleth"
           }
          ],
          "contour": [
           {
            "colorbar": {
             "outlinewidth": 0,
             "ticks": ""
            },
            "colorscale": [
             [
              0,
              "#0d0887"
             ],
             [
              0.1111111111111111,
              "#46039f"
             ],
             [
              0.2222222222222222,
              "#7201a8"
             ],
             [
              0.3333333333333333,
              "#9c179e"
             ],
             [
              0.4444444444444444,
              "#bd3786"
             ],
             [
              0.5555555555555556,
              "#d8576b"
             ],
             [
              0.6666666666666666,
              "#ed7953"
             ],
             [
              0.7777777777777778,
              "#fb9f3a"
             ],
             [
              0.8888888888888888,
              "#fdca26"
             ],
             [
              1,
              "#f0f921"
             ]
            ],
            "type": "contour"
           }
          ],
          "contourcarpet": [
           {
            "colorbar": {
             "outlinewidth": 0,
             "ticks": ""
            },
            "type": "contourcarpet"
           }
          ],
          "heatmap": [
           {
            "colorbar": {
             "outlinewidth": 0,
             "ticks": ""
            },
            "colorscale": [
             [
              0,
              "#0d0887"
             ],
             [
              0.1111111111111111,
              "#46039f"
             ],
             [
              0.2222222222222222,
              "#7201a8"
             ],
             [
              0.3333333333333333,
              "#9c179e"
             ],
             [
              0.4444444444444444,
              "#bd3786"
             ],
             [
              0.5555555555555556,
              "#d8576b"
             ],
             [
              0.6666666666666666,
              "#ed7953"
             ],
             [
              0.7777777777777778,
              "#fb9f3a"
             ],
             [
              0.8888888888888888,
              "#fdca26"
             ],
             [
              1,
              "#f0f921"
             ]
            ],
            "type": "heatmap"
           }
          ],
          "heatmapgl": [
           {
            "colorbar": {
             "outlinewidth": 0,
             "ticks": ""
            },
            "colorscale": [
             [
              0,
              "#0d0887"
             ],
             [
              0.1111111111111111,
              "#46039f"
             ],
             [
              0.2222222222222222,
              "#7201a8"
             ],
             [
              0.3333333333333333,
              "#9c179e"
             ],
             [
              0.4444444444444444,
              "#bd3786"
             ],
             [
              0.5555555555555556,
              "#d8576b"
             ],
             [
              0.6666666666666666,
              "#ed7953"
             ],
             [
              0.7777777777777778,
              "#fb9f3a"
             ],
             [
              0.8888888888888888,
              "#fdca26"
             ],
             [
              1,
              "#f0f921"
             ]
            ],
            "type": "heatmapgl"
           }
          ],
          "histogram": [
           {
            "marker": {
             "colorbar": {
              "outlinewidth": 0,
              "ticks": ""
             }
            },
            "type": "histogram"
           }
          ],
          "histogram2d": [
           {
            "colorbar": {
             "outlinewidth": 0,
             "ticks": ""
            },
            "colorscale": [
             [
              0,
              "#0d0887"
             ],
             [
              0.1111111111111111,
              "#46039f"
             ],
             [
              0.2222222222222222,
              "#7201a8"
             ],
             [
              0.3333333333333333,
              "#9c179e"
             ],
             [
              0.4444444444444444,
              "#bd3786"
             ],
             [
              0.5555555555555556,
              "#d8576b"
             ],
             [
              0.6666666666666666,
              "#ed7953"
             ],
             [
              0.7777777777777778,
              "#fb9f3a"
             ],
             [
              0.8888888888888888,
              "#fdca26"
             ],
             [
              1,
              "#f0f921"
             ]
            ],
            "type": "histogram2d"
           }
          ],
          "histogram2dcontour": [
           {
            "colorbar": {
             "outlinewidth": 0,
             "ticks": ""
            },
            "colorscale": [
             [
              0,
              "#0d0887"
             ],
             [
              0.1111111111111111,
              "#46039f"
             ],
             [
              0.2222222222222222,
              "#7201a8"
             ],
             [
              0.3333333333333333,
              "#9c179e"
             ],
             [
              0.4444444444444444,
              "#bd3786"
             ],
             [
              0.5555555555555556,
              "#d8576b"
             ],
             [
              0.6666666666666666,
              "#ed7953"
             ],
             [
              0.7777777777777778,
              "#fb9f3a"
             ],
             [
              0.8888888888888888,
              "#fdca26"
             ],
             [
              1,
              "#f0f921"
             ]
            ],
            "type": "histogram2dcontour"
           }
          ],
          "mesh3d": [
           {
            "colorbar": {
             "outlinewidth": 0,
             "ticks": ""
            },
            "type": "mesh3d"
           }
          ],
          "parcoords": [
           {
            "line": {
             "colorbar": {
              "outlinewidth": 0,
              "ticks": ""
             }
            },
            "type": "parcoords"
           }
          ],
          "pie": [
           {
            "automargin": true,
            "type": "pie"
           }
          ],
          "scatter": [
           {
            "marker": {
             "colorbar": {
              "outlinewidth": 0,
              "ticks": ""
             }
            },
            "type": "scatter"
           }
          ],
          "scatter3d": [
           {
            "line": {
             "colorbar": {
              "outlinewidth": 0,
              "ticks": ""
             }
            },
            "marker": {
             "colorbar": {
              "outlinewidth": 0,
              "ticks": ""
             }
            },
            "type": "scatter3d"
           }
          ],
          "scattercarpet": [
           {
            "marker": {
             "colorbar": {
              "outlinewidth": 0,
              "ticks": ""
             }
            },
            "type": "scattercarpet"
           }
          ],
          "scattergeo": [
           {
            "marker": {
             "colorbar": {
              "outlinewidth": 0,
              "ticks": ""
             }
            },
            "type": "scattergeo"
           }
          ],
          "scattergl": [
           {
            "marker": {
             "colorbar": {
              "outlinewidth": 0,
              "ticks": ""
             }
            },
            "type": "scattergl"
           }
          ],
          "scattermapbox": [
           {
            "marker": {
             "colorbar": {
              "outlinewidth": 0,
              "ticks": ""
             }
            },
            "type": "scattermapbox"
           }
          ],
          "scatterpolar": [
           {
            "marker": {
             "colorbar": {
              "outlinewidth": 0,
              "ticks": ""
             }
            },
            "type": "scatterpolar"
           }
          ],
          "scatterpolargl": [
           {
            "marker": {
             "colorbar": {
              "outlinewidth": 0,
              "ticks": ""
             }
            },
            "type": "scatterpolargl"
           }
          ],
          "scatterternary": [
           {
            "marker": {
             "colorbar": {
              "outlinewidth": 0,
              "ticks": ""
             }
            },
            "type": "scatterternary"
           }
          ],
          "surface": [
           {
            "colorbar": {
             "outlinewidth": 0,
             "ticks": ""
            },
            "colorscale": [
             [
              0,
              "#0d0887"
             ],
             [
              0.1111111111111111,
              "#46039f"
             ],
             [
              0.2222222222222222,
              "#7201a8"
             ],
             [
              0.3333333333333333,
              "#9c179e"
             ],
             [
              0.4444444444444444,
              "#bd3786"
             ],
             [
              0.5555555555555556,
              "#d8576b"
             ],
             [
              0.6666666666666666,
              "#ed7953"
             ],
             [
              0.7777777777777778,
              "#fb9f3a"
             ],
             [
              0.8888888888888888,
              "#fdca26"
             ],
             [
              1,
              "#f0f921"
             ]
            ],
            "type": "surface"
           }
          ],
          "table": [
           {
            "cells": {
             "fill": {
              "color": "#EBF0F8"
             },
             "line": {
              "color": "white"
             }
            },
            "header": {
             "fill": {
              "color": "#C8D4E3"
             },
             "line": {
              "color": "white"
             }
            },
            "type": "table"
           }
          ]
         },
         "layout": {
          "annotationdefaults": {
           "arrowcolor": "#2a3f5f",
           "arrowhead": 0,
           "arrowwidth": 1
          },
          "coloraxis": {
           "colorbar": {
            "outlinewidth": 0,
            "ticks": ""
           }
          },
          "colorscale": {
           "diverging": [
            [
             0,
             "#8e0152"
            ],
            [
             0.1,
             "#c51b7d"
            ],
            [
             0.2,
             "#de77ae"
            ],
            [
             0.3,
             "#f1b6da"
            ],
            [
             0.4,
             "#fde0ef"
            ],
            [
             0.5,
             "#f7f7f7"
            ],
            [
             0.6,
             "#e6f5d0"
            ],
            [
             0.7,
             "#b8e186"
            ],
            [
             0.8,
             "#7fbc41"
            ],
            [
             0.9,
             "#4d9221"
            ],
            [
             1,
             "#276419"
            ]
           ],
           "sequential": [
            [
             0,
             "#0d0887"
            ],
            [
             0.1111111111111111,
             "#46039f"
            ],
            [
             0.2222222222222222,
             "#7201a8"
            ],
            [
             0.3333333333333333,
             "#9c179e"
            ],
            [
             0.4444444444444444,
             "#bd3786"
            ],
            [
             0.5555555555555556,
             "#d8576b"
            ],
            [
             0.6666666666666666,
             "#ed7953"
            ],
            [
             0.7777777777777778,
             "#fb9f3a"
            ],
            [
             0.8888888888888888,
             "#fdca26"
            ],
            [
             1,
             "#f0f921"
            ]
           ],
           "sequentialminus": [
            [
             0,
             "#0d0887"
            ],
            [
             0.1111111111111111,
             "#46039f"
            ],
            [
             0.2222222222222222,
             "#7201a8"
            ],
            [
             0.3333333333333333,
             "#9c179e"
            ],
            [
             0.4444444444444444,
             "#bd3786"
            ],
            [
             0.5555555555555556,
             "#d8576b"
            ],
            [
             0.6666666666666666,
             "#ed7953"
            ],
            [
             0.7777777777777778,
             "#fb9f3a"
            ],
            [
             0.8888888888888888,
             "#fdca26"
            ],
            [
             1,
             "#f0f921"
            ]
           ]
          },
          "colorway": [
           "#636efa",
           "#EF553B",
           "#00cc96",
           "#ab63fa",
           "#FFA15A",
           "#19d3f3",
           "#FF6692",
           "#B6E880",
           "#FF97FF",
           "#FECB52"
          ],
          "font": {
           "color": "#2a3f5f"
          },
          "geo": {
           "bgcolor": "white",
           "lakecolor": "white",
           "landcolor": "#E5ECF6",
           "showlakes": true,
           "showland": true,
           "subunitcolor": "white"
          },
          "hoverlabel": {
           "align": "left"
          },
          "hovermode": "closest",
          "mapbox": {
           "style": "light"
          },
          "paper_bgcolor": "white",
          "plot_bgcolor": "#E5ECF6",
          "polar": {
           "angularaxis": {
            "gridcolor": "white",
            "linecolor": "white",
            "ticks": ""
           },
           "bgcolor": "#E5ECF6",
           "radialaxis": {
            "gridcolor": "white",
            "linecolor": "white",
            "ticks": ""
           }
          },
          "scene": {
           "xaxis": {
            "backgroundcolor": "#E5ECF6",
            "gridcolor": "white",
            "gridwidth": 2,
            "linecolor": "white",
            "showbackground": true,
            "ticks": "",
            "zerolinecolor": "white"
           },
           "yaxis": {
            "backgroundcolor": "#E5ECF6",
            "gridcolor": "white",
            "gridwidth": 2,
            "linecolor": "white",
            "showbackground": true,
            "ticks": "",
            "zerolinecolor": "white"
           },
           "zaxis": {
            "backgroundcolor": "#E5ECF6",
            "gridcolor": "white",
            "gridwidth": 2,
            "linecolor": "white",
            "showbackground": true,
            "ticks": "",
            "zerolinecolor": "white"
           }
          },
          "shapedefaults": {
           "line": {
            "color": "#2a3f5f"
           }
          },
          "ternary": {
           "aaxis": {
            "gridcolor": "white",
            "linecolor": "white",
            "ticks": ""
           },
           "baxis": {
            "gridcolor": "white",
            "linecolor": "white",
            "ticks": ""
           },
           "bgcolor": "#E5ECF6",
           "caxis": {
            "gridcolor": "white",
            "linecolor": "white",
            "ticks": ""
           }
          },
          "title": {
           "x": 0.05
          },
          "xaxis": {
           "automargin": true,
           "gridcolor": "white",
           "linecolor": "white",
           "ticks": "",
           "title": {
            "standoff": 15
           },
           "zerolinecolor": "white",
           "zerolinewidth": 2
          },
          "yaxis": {
           "automargin": true,
           "gridcolor": "white",
           "linecolor": "white",
           "ticks": "",
           "title": {
            "standoff": 15
           },
           "zerolinecolor": "white",
           "zerolinewidth": 2
          }
         }
        },
        "title": {
         "text": "Outdoors"
        }
       }
      }
     },
     "metadata": {}
    }
   ],
   "source": [
    "r={ 'Time':exposure_time_risk,\n",
    "    'Exhalation':exhalation_risk,\n",
    "    'Ventilation':0.2,\n",
    "    'Distance':0.3,   \n",
    "    'Inhalation':0.2}\n",
    "\n",
    "chart = risk_assessment_chart(r, \"Outdoors\")\n",
    "chart.show()"
   ]
  },
  {
   "cell_type": "code",
   "execution_count": null,
   "metadata": {},
   "outputs": [],
   "source": []
  }
 ],
 "metadata": {
  "language_info": {
   "codemirror_mode": {
    "name": "ipython",
    "version": 3
   },
   "file_extension": ".py",
   "mimetype": "text/x-python",
   "name": "python",
   "nbconvert_exporter": "python",
   "pygments_lexer": "ipython3",
   "version": "3.7.7-final"
  },
  "orig_nbformat": 2,
  "kernelspec": {
   "name": "python3",
   "display_name": "Python 3"
  }
 },
 "nbformat": 4,
 "nbformat_minor": 2
}