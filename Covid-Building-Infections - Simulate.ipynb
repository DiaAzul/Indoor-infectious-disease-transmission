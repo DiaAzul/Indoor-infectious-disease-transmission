{
 "cells": [
  {
   "cell_type": "markdown",
   "metadata": {},
   "source": [
    "# Calculate reproduction rate (R0) for infectious diseases within a micro-environment\n",
    "This model calculates the reproduction rate (R0) of infectious diseases (Covid19) within a micro-environment based upon dispersion of an aerosol within an enclosed space. It assumes the prime method of transmission is an aerosol and that the aerosol is well mixed across the space, i.e. there are no local concentrations which may impact on an individual's probability of being infected.\n",
    "\n",
    "The modelling follows the approach set out in the paper:\n",
    "Buonanno, G., Stabile, L., & Morawska, L. (2020). Estimation of airborne viral emission: Quanta emission rate of SARS-CoV-2 for infection risk assessment [Preprint]. Infectious Diseases (except HIV/AIDS). https://doi.org/10.1101/2020.04.12.20062828"
   ]
  },
  {
   "cell_type": "code",
   "execution_count": 9,
   "metadata": {},
   "outputs": [],
   "source": [
    "import math\n",
    "import plotly.graph_objects as go\n",
    "import simpy\n",
    "import pandas as pd\n",
    "from tqdm.notebook import trange, tqdm, tnrange\n",
    "\n",
    "# Import local libraries\n",
    "from Simulation import Simulation"
   ]
  },
  {
   "cell_type": "code",
   "execution_count": 10,
   "metadata": {},
   "outputs": [],
   "source": [
    "def run_simulation(simulation_name):\n",
    "    periods = 180\n",
    "    \n",
    "    simulation_run = 1\n",
    "    arrivals_per_hour=None # Get arrival rate from configuration\n",
    "    max_arrivals=None\n",
    "    quanta_emission_rate=147\n",
    "    inhalation_rate=0.54\n",
    "\n",
    "    simulation = Simulation(simulation_name, simulation_run, microenvironment=simulation_name, periods=periods)\n",
    "\n",
    "    simulation.run(quanta_emission_rate=quanta_emission_rate, \n",
    "                    inhalation_rate=inhalation_rate, \n",
    "                    report_time=False)\n",
    "\n",
    "    infections = simulation.get_counter('Infections')\n",
    "    infections = infections if infections else 0\n",
    "\n",
    "    total_visitors = simulation.get_counter('Total visitors')\n",
    "\n",
    "    attack_rate = infections / total_visitors\n",
    "\n",
    "    return infections, total_visitors, attack_rate"
   ]
  },
  {
   "cell_type": "code",
   "execution_count": 11,
   "metadata": {
    "tags": []
   },
   "outputs": [
    {
     "output_type": "display_data",
     "data": {
      "text/plain": "HBox(children=(FloatProgress(value=0.0), HTML(value='')))",
      "application/vnd.jupyter.widget-view+json": {
       "version_major": 2,
       "version_minor": 0,
       "model_id": "818d26b7540d4e4783c3a6543c30bb1a"
      }
     },
     "metadata": {}
    },
    {
     "output_type": "stream",
     "name": "stdout",
     "text": "\n"
    }
   ],
   "source": [
    "results = []\n",
    "simulation_name = 'Lounge-Four People-Summer-1 hour' if True else 'Pharmacy-mechanical-Lockdown'\n",
    "for i in trange(100):\n",
    "    results.append(run_simulation(simulation_name))"
   ]
  },
  {
   "cell_type": "code",
   "execution_count": 12,
   "metadata": {},
   "outputs": [
    {
     "output_type": "display_data",
     "data": {
      "application/vnd.plotly.v1+json": {
       "config": {
        "plotlyServerURL": "https://plot.ly"
       },
       "data": [
        {
         "alignmentgroup": "True",
         "bingroup": "x",
         "hovertemplate": "Infections=%{x}<br>count=%{y}<extra></extra>",
         "legendgroup": "",
         "marker": {
          "color": "#636efa"
         },
         "name": "",
         "offsetgroup": "",
         "orientation": "v",
         "showlegend": false,
         "type": "histogram",
         "x": [
          2,
          2,
          2,
          2,
          2,
          1,
          1,
          2,
          1,
          1,
          3,
          0,
          3,
          2,
          3,
          1,
          1,
          1,
          3,
          1,
          1,
          1,
          1,
          1,
          2,
          3,
          1,
          1,
          0,
          1,
          1,
          0,
          1,
          1,
          1,
          1,
          1,
          0,
          1,
          1,
          2,
          1,
          1,
          3,
          2,
          2,
          1,
          1,
          1,
          2,
          2,
          1,
          0,
          2,
          2,
          2,
          2,
          2,
          1,
          3,
          0,
          2,
          1,
          3,
          0,
          3,
          1,
          1,
          2,
          2,
          1,
          1,
          3,
          2,
          0,
          2,
          0,
          1,
          2,
          2,
          0,
          2,
          2,
          3,
          2,
          1,
          2,
          0,
          3,
          1,
          1,
          2,
          3,
          0,
          3,
          0,
          1,
          1,
          2,
          1
         ],
         "xaxis": "x",
         "yaxis": "y"
        }
       ],
       "layout": {
        "barmode": "relative",
        "legend": {
         "tracegroupgap": 0
        },
        "margin": {
         "t": 60
        },
        "template": {
         "data": {
          "bar": [
           {
            "error_x": {
             "color": "#2a3f5f"
            },
            "error_y": {
             "color": "#2a3f5f"
            },
            "marker": {
             "line": {
              "color": "#E5ECF6",
              "width": 0.5
             }
            },
            "type": "bar"
           }
          ],
          "barpolar": [
           {
            "marker": {
             "line": {
              "color": "#E5ECF6",
              "width": 0.5
             }
            },
            "type": "barpolar"
           }
          ],
          "carpet": [
           {
            "aaxis": {
             "endlinecolor": "#2a3f5f",
             "gridcolor": "white",
             "linecolor": "white",
             "minorgridcolor": "white",
             "startlinecolor": "#2a3f5f"
            },
            "baxis": {
             "endlinecolor": "#2a3f5f",
             "gridcolor": "white",
             "linecolor": "white",
             "minorgridcolor": "white",
             "startlinecolor": "#2a3f5f"
            },
            "type": "carpet"
           }
          ],
          "choropleth": [
           {
            "colorbar": {
             "outlinewidth": 0,
             "ticks": ""
            },
            "type": "choropleth"
           }
          ],
          "contour": [
           {
            "colorbar": {
             "outlinewidth": 0,
             "ticks": ""
            },
            "colorscale": [
             [
              0,
              "#0d0887"
             ],
             [
              0.1111111111111111,
              "#46039f"
             ],
             [
              0.2222222222222222,
              "#7201a8"
             ],
             [
              0.3333333333333333,
              "#9c179e"
             ],
             [
              0.4444444444444444,
              "#bd3786"
             ],
             [
              0.5555555555555556,
              "#d8576b"
             ],
             [
              0.6666666666666666,
              "#ed7953"
             ],
             [
              0.7777777777777778,
              "#fb9f3a"
             ],
             [
              0.8888888888888888,
              "#fdca26"
             ],
             [
              1,
              "#f0f921"
             ]
            ],
            "type": "contour"
           }
          ],
          "contourcarpet": [
           {
            "colorbar": {
             "outlinewidth": 0,
             "ticks": ""
            },
            "type": "contourcarpet"
           }
          ],
          "heatmap": [
           {
            "colorbar": {
             "outlinewidth": 0,
             "ticks": ""
            },
            "colorscale": [
             [
              0,
              "#0d0887"
             ],
             [
              0.1111111111111111,
              "#46039f"
             ],
             [
              0.2222222222222222,
              "#7201a8"
             ],
             [
              0.3333333333333333,
              "#9c179e"
             ],
             [
              0.4444444444444444,
              "#bd3786"
             ],
             [
              0.5555555555555556,
              "#d8576b"
             ],
             [
              0.6666666666666666,
              "#ed7953"
             ],
             [
              0.7777777777777778,
              "#fb9f3a"
             ],
             [
              0.8888888888888888,
              "#fdca26"
             ],
             [
              1,
              "#f0f921"
             ]
            ],
            "type": "heatmap"
           }
          ],
          "heatmapgl": [
           {
            "colorbar": {
             "outlinewidth": 0,
             "ticks": ""
            },
            "colorscale": [
             [
              0,
              "#0d0887"
             ],
             [
              0.1111111111111111,
              "#46039f"
             ],
             [
              0.2222222222222222,
              "#7201a8"
             ],
             [
              0.3333333333333333,
              "#9c179e"
             ],
             [
              0.4444444444444444,
              "#bd3786"
             ],
             [
              0.5555555555555556,
              "#d8576b"
             ],
             [
              0.6666666666666666,
              "#ed7953"
             ],
             [
              0.7777777777777778,
              "#fb9f3a"
             ],
             [
              0.8888888888888888,
              "#fdca26"
             ],
             [
              1,
              "#f0f921"
             ]
            ],
            "type": "heatmapgl"
           }
          ],
          "histogram": [
           {
            "marker": {
             "colorbar": {
              "outlinewidth": 0,
              "ticks": ""
             }
            },
            "type": "histogram"
           }
          ],
          "histogram2d": [
           {
            "colorbar": {
             "outlinewidth": 0,
             "ticks": ""
            },
            "colorscale": [
             [
              0,
              "#0d0887"
             ],
             [
              0.1111111111111111,
              "#46039f"
             ],
             [
              0.2222222222222222,
              "#7201a8"
             ],
             [
              0.3333333333333333,
              "#9c179e"
             ],
             [
              0.4444444444444444,
              "#bd3786"
             ],
             [
              0.5555555555555556,
              "#d8576b"
             ],
             [
              0.6666666666666666,
              "#ed7953"
             ],
             [
              0.7777777777777778,
              "#fb9f3a"
             ],
             [
              0.8888888888888888,
              "#fdca26"
             ],
             [
              1,
              "#f0f921"
             ]
            ],
            "type": "histogram2d"
           }
          ],
          "histogram2dcontour": [
           {
            "colorbar": {
             "outlinewidth": 0,
             "ticks": ""
            },
            "colorscale": [
             [
              0,
              "#0d0887"
             ],
             [
              0.1111111111111111,
              "#46039f"
             ],
             [
              0.2222222222222222,
              "#7201a8"
             ],
             [
              0.3333333333333333,
              "#9c179e"
             ],
             [
              0.4444444444444444,
              "#bd3786"
             ],
             [
              0.5555555555555556,
              "#d8576b"
             ],
             [
              0.6666666666666666,
              "#ed7953"
             ],
             [
              0.7777777777777778,
              "#fb9f3a"
             ],
             [
              0.8888888888888888,
              "#fdca26"
             ],
             [
              1,
              "#f0f921"
             ]
            ],
            "type": "histogram2dcontour"
           }
          ],
          "mesh3d": [
           {
            "colorbar": {
             "outlinewidth": 0,
             "ticks": ""
            },
            "type": "mesh3d"
           }
          ],
          "parcoords": [
           {
            "line": {
             "colorbar": {
              "outlinewidth": 0,
              "ticks": ""
             }
            },
            "type": "parcoords"
           }
          ],
          "pie": [
           {
            "automargin": true,
            "type": "pie"
           }
          ],
          "scatter": [
           {
            "marker": {
             "colorbar": {
              "outlinewidth": 0,
              "ticks": ""
             }
            },
            "type": "scatter"
           }
          ],
          "scatter3d": [
           {
            "line": {
             "colorbar": {
              "outlinewidth": 0,
              "ticks": ""
             }
            },
            "marker": {
             "colorbar": {
              "outlinewidth": 0,
              "ticks": ""
             }
            },
            "type": "scatter3d"
           }
          ],
          "scattercarpet": [
           {
            "marker": {
             "colorbar": {
              "outlinewidth": 0,
              "ticks": ""
             }
            },
            "type": "scattercarpet"
           }
          ],
          "scattergeo": [
           {
            "marker": {
             "colorbar": {
              "outlinewidth": 0,
              "ticks": ""
             }
            },
            "type": "scattergeo"
           }
          ],
          "scattergl": [
           {
            "marker": {
             "colorbar": {
              "outlinewidth": 0,
              "ticks": ""
             }
            },
            "type": "scattergl"
           }
          ],
          "scattermapbox": [
           {
            "marker": {
             "colorbar": {
              "outlinewidth": 0,
              "ticks": ""
             }
            },
            "type": "scattermapbox"
           }
          ],
          "scatterpolar": [
           {
            "marker": {
             "colorbar": {
              "outlinewidth": 0,
              "ticks": ""
             }
            },
            "type": "scatterpolar"
           }
          ],
          "scatterpolargl": [
           {
            "marker": {
             "colorbar": {
              "outlinewidth": 0,
              "ticks": ""
             }
            },
            "type": "scatterpolargl"
           }
          ],
          "scatterternary": [
           {
            "marker": {
             "colorbar": {
              "outlinewidth": 0,
              "ticks": ""
             }
            },
            "type": "scatterternary"
           }
          ],
          "surface": [
           {
            "colorbar": {
             "outlinewidth": 0,
             "ticks": ""
            },
            "colorscale": [
             [
              0,
              "#0d0887"
             ],
             [
              0.1111111111111111,
              "#46039f"
             ],
             [
              0.2222222222222222,
              "#7201a8"
             ],
             [
              0.3333333333333333,
              "#9c179e"
             ],
             [
              0.4444444444444444,
              "#bd3786"
             ],
             [
              0.5555555555555556,
              "#d8576b"
             ],
             [
              0.6666666666666666,
              "#ed7953"
             ],
             [
              0.7777777777777778,
              "#fb9f3a"
             ],
             [
              0.8888888888888888,
              "#fdca26"
             ],
             [
              1,
              "#f0f921"
             ]
            ],
            "type": "surface"
           }
          ],
          "table": [
           {
            "cells": {
             "fill": {
              "color": "#EBF0F8"
             },
             "line": {
              "color": "white"
             }
            },
            "header": {
             "fill": {
              "color": "#C8D4E3"
             },
             "line": {
              "color": "white"
             }
            },
            "type": "table"
           }
          ]
         },
         "layout": {
          "annotationdefaults": {
           "arrowcolor": "#2a3f5f",
           "arrowhead": 0,
           "arrowwidth": 1
          },
          "coloraxis": {
           "colorbar": {
            "outlinewidth": 0,
            "ticks": ""
           }
          },
          "colorscale": {
           "diverging": [
            [
             0,
             "#8e0152"
            ],
            [
             0.1,
             "#c51b7d"
            ],
            [
             0.2,
             "#de77ae"
            ],
            [
             0.3,
             "#f1b6da"
            ],
            [
             0.4,
             "#fde0ef"
            ],
            [
             0.5,
             "#f7f7f7"
            ],
            [
             0.6,
             "#e6f5d0"
            ],
            [
             0.7,
             "#b8e186"
            ],
            [
             0.8,
             "#7fbc41"
            ],
            [
             0.9,
             "#4d9221"
            ],
            [
             1,
             "#276419"
            ]
           ],
           "sequential": [
            [
             0,
             "#0d0887"
            ],
            [
             0.1111111111111111,
             "#46039f"
            ],
            [
             0.2222222222222222,
             "#7201a8"
            ],
            [
             0.3333333333333333,
             "#9c179e"
            ],
            [
             0.4444444444444444,
             "#bd3786"
            ],
            [
             0.5555555555555556,
             "#d8576b"
            ],
            [
             0.6666666666666666,
             "#ed7953"
            ],
            [
             0.7777777777777778,
             "#fb9f3a"
            ],
            [
             0.8888888888888888,
             "#fdca26"
            ],
            [
             1,
             "#f0f921"
            ]
           ],
           "sequentialminus": [
            [
             0,
             "#0d0887"
            ],
            [
             0.1111111111111111,
             "#46039f"
            ],
            [
             0.2222222222222222,
             "#7201a8"
            ],
            [
             0.3333333333333333,
             "#9c179e"
            ],
            [
             0.4444444444444444,
             "#bd3786"
            ],
            [
             0.5555555555555556,
             "#d8576b"
            ],
            [
             0.6666666666666666,
             "#ed7953"
            ],
            [
             0.7777777777777778,
             "#fb9f3a"
            ],
            [
             0.8888888888888888,
             "#fdca26"
            ],
            [
             1,
             "#f0f921"
            ]
           ]
          },
          "colorway": [
           "#636efa",
           "#EF553B",
           "#00cc96",
           "#ab63fa",
           "#FFA15A",
           "#19d3f3",
           "#FF6692",
           "#B6E880",
           "#FF97FF",
           "#FECB52"
          ],
          "font": {
           "color": "#2a3f5f"
          },
          "geo": {
           "bgcolor": "white",
           "lakecolor": "white",
           "landcolor": "#E5ECF6",
           "showlakes": true,
           "showland": true,
           "subunitcolor": "white"
          },
          "hoverlabel": {
           "align": "left"
          },
          "hovermode": "closest",
          "mapbox": {
           "style": "light"
          },
          "paper_bgcolor": "white",
          "plot_bgcolor": "#E5ECF6",
          "polar": {
           "angularaxis": {
            "gridcolor": "white",
            "linecolor": "white",
            "ticks": ""
           },
           "bgcolor": "#E5ECF6",
           "radialaxis": {
            "gridcolor": "white",
            "linecolor": "white",
            "ticks": ""
           }
          },
          "scene": {
           "xaxis": {
            "backgroundcolor": "#E5ECF6",
            "gridcolor": "white",
            "gridwidth": 2,
            "linecolor": "white",
            "showbackground": true,
            "ticks": "",
            "zerolinecolor": "white"
           },
           "yaxis": {
            "backgroundcolor": "#E5ECF6",
            "gridcolor": "white",
            "gridwidth": 2,
            "linecolor": "white",
            "showbackground": true,
            "ticks": "",
            "zerolinecolor": "white"
           },
           "zaxis": {
            "backgroundcolor": "#E5ECF6",
            "gridcolor": "white",
            "gridwidth": 2,
            "linecolor": "white",
            "showbackground": true,
            "ticks": "",
            "zerolinecolor": "white"
           }
          },
          "shapedefaults": {
           "line": {
            "color": "#2a3f5f"
           }
          },
          "ternary": {
           "aaxis": {
            "gridcolor": "white",
            "linecolor": "white",
            "ticks": ""
           },
           "baxis": {
            "gridcolor": "white",
            "linecolor": "white",
            "ticks": ""
           },
           "bgcolor": "#E5ECF6",
           "caxis": {
            "gridcolor": "white",
            "linecolor": "white",
            "ticks": ""
           }
          },
          "title": {
           "x": 0.05
          },
          "xaxis": {
           "automargin": true,
           "gridcolor": "white",
           "linecolor": "white",
           "ticks": "",
           "title": {
            "standoff": 15
           },
           "zerolinecolor": "white",
           "zerolinewidth": 2
          },
          "yaxis": {
           "automargin": true,
           "gridcolor": "white",
           "linecolor": "white",
           "ticks": "",
           "title": {
            "standoff": 15
           },
           "zerolinecolor": "white",
           "zerolinewidth": 2
          }
         }
        },
        "title": {
         "text": "Lounge-Four People-Summer-1 hour"
        },
        "xaxis": {
         "anchor": "y",
         "domain": [
          0,
          1
         ],
         "title": {
          "text": "Reproduction rate (number of infections)"
         }
        },
        "yaxis": {
         "anchor": "x",
         "domain": [
          0,
          1
         ],
         "title": {
          "text": "Count of simulations"
         }
        }
       }
      }
     },
     "metadata": {}
    },
    {
     "output_type": "execute_result",
     "data": {
      "text/plain": "Infections        1.460\nTotal visitors    4.000\nAttack rate       0.365\ndtype: float64"
     },
     "metadata": {},
     "execution_count": 12
    }
   ],
   "source": [
    "import plotly.express as px\n",
    "df = pd.DataFrame(results, columns=[\"Infections\", \"Total visitors\", \"Attack rate\"])\n",
    "fig = px.histogram(df, x=\"Infections\")\n",
    "fig.update_layout(\n",
    "    title=simulation_name,\n",
    "    xaxis_title=\"Reproduction rate (number of infections)\",\n",
    "    yaxis_title=\"Count of simulations\")\n",
    "fig.show()\n",
    "df.mean()"
   ]
  },
  {
   "cell_type": "code",
   "execution_count": 13,
   "metadata": {},
   "outputs": [],
   "source": [
    "file_db = pd.read_excel('./Configuration/Environment database.xlsx', header=4, engine='openpyxl')\n",
    "environments = file_db['environment']"
   ]
  },
  {
   "cell_type": "code",
   "execution_count": 14,
   "metadata": {},
   "outputs": [
    {
     "output_type": "execute_result",
     "data": {
      "text/plain": "0           Pharmacy-natural-No Lockdown\n1        Pharmacy-mechanical-No Lockdown\n2              Pharmacy-natural-Lockdown\n3           Pharmacy-mechanical-Lockdown\n4        Supermarket-natural-No Lockdown\n5     Supermarket-mechanical-No Lockdown\n6           Supermarket-natural-Lockdown\n7        Supermarket-mechanical-Lockdown\n8         Restaurant-natural-No Lockdown\n9      Restaurant-mechanical-No Lockdown\n10       Post Office-natural-No Lockdown\n11    Post Office-mechanical-No Lockdown\n12          Post Office-natural-Lockdown\n13       Post Office-mechanical-Lockdown\n14              Bank-natural-No Lockdown\n15           Bank-mechanical-No Lockdown\n16                 Bank-natural-Lockdown\n17              Bank-mechanical-Lockdown\n18      Lounge-Two People-Winter-15 Mins\n19      Lounge-Two People-Winter-30 Mins\n20       Lounge-Two People-Winter-1 hour\n21      Lounge-Two People-Summer-15 Mins\n22      Lounge-Two People-Summer-30 Mins\n23       Lounge-Two People-Summer-1 hour\n24     Lounge-Four People-Winter-15 Mins\n25     Lounge-Four People-Winter-30 Mins\n26      Lounge-Four People-Winter-1 hour\n27     Lounge-Four People-Summer-15 Mins\n28     Lounge-Four People-Summer-30 Mins\n29      Lounge-Four People-Summer-1 hour\nName: environment, dtype: object"
     },
     "metadata": {},
     "execution_count": 14
    }
   ],
   "source": [
    "environments"
   ]
  },
  {
   "cell_type": "code",
   "execution_count": 15,
   "metadata": {},
   "outputs": [],
   "source": [
    "# Filter the lounge environments ********************************* REMOVE ****************\n",
    "# environments = environments[1:3]\n",
    "# print(environments)"
   ]
  },
  {
   "cell_type": "code",
   "execution_count": 8,
   "metadata": {},
   "outputs": [
    {
     "output_type": "display_data",
     "data": {
      "text/plain": "HBox(children=(FloatProgress(value=0.0, description='Pharmacy-natural-No Lockdown', style=ProgressStyle(descri…",
      "application/vnd.jupyter.widget-view+json": {
       "version_major": 2,
       "version_minor": 0,
       "model_id": "9a8a8ca0cca64aa99d3c725ad782a750"
      }
     },
     "metadata": {}
    },
    {
     "output_type": "stream",
     "name": "stdout",
     "text": "\n"
    },
    {
     "output_type": "display_data",
     "data": {
      "text/plain": "HBox(children=(FloatProgress(value=0.0, description='Pharmacy-mechanical-No Lockdown', style=ProgressStyle(des…",
      "application/vnd.jupyter.widget-view+json": {
       "version_major": 2,
       "version_minor": 0,
       "model_id": "6a17f1e2357744a8a8c4d3bba64b8aa6"
      }
     },
     "metadata": {}
    },
    {
     "output_type": "stream",
     "name": "stdout",
     "text": "\n"
    },
    {
     "output_type": "display_data",
     "data": {
      "text/plain": "HBox(children=(FloatProgress(value=0.0, description='Pharmacy-natural-Lockdown', style=ProgressStyle(descripti…",
      "application/vnd.jupyter.widget-view+json": {
       "version_major": 2,
       "version_minor": 0,
       "model_id": "fb9f44251e454b11bd62a4cc4a0656cd"
      }
     },
     "metadata": {}
    },
    {
     "output_type": "stream",
     "name": "stdout",
     "text": "\n"
    },
    {
     "output_type": "display_data",
     "data": {
      "text/plain": "HBox(children=(FloatProgress(value=0.0, description='Pharmacy-mechanical-Lockdown', style=ProgressStyle(descri…",
      "application/vnd.jupyter.widget-view+json": {
       "version_major": 2,
       "version_minor": 0,
       "model_id": "a90f8a3c03974165ba13b5b0e26f4c05"
      }
     },
     "metadata": {}
    },
    {
     "output_type": "stream",
     "name": "stdout",
     "text": "\n"
    },
    {
     "output_type": "display_data",
     "data": {
      "text/plain": "HBox(children=(FloatProgress(value=0.0, description='Supermarket-natural-No Lockdown', style=ProgressStyle(des…",
      "application/vnd.jupyter.widget-view+json": {
       "version_major": 2,
       "version_minor": 0,
       "model_id": "f521e28364254c159f6cbd761ced136f"
      }
     },
     "metadata": {}
    },
    {
     "output_type": "stream",
     "name": "stdout",
     "text": "\n"
    },
    {
     "output_type": "error",
     "ename": "KeyboardInterrupt",
     "evalue": "",
     "traceback": [
      "\u001b[1;31m---------------------------------------------------------------------------\u001b[0m",
      "\u001b[1;31mKeyboardInterrupt\u001b[0m                         Traceback (most recent call last)",
      "\u001b[1;32m<ipython-input-8-a278b6a0361d>\u001b[0m in \u001b[0;36m<module>\u001b[1;34m\u001b[0m\n\u001b[0;32m      4\u001b[0m     \u001b[0mresults\u001b[0m \u001b[1;33m=\u001b[0m \u001b[1;33m[\u001b[0m\u001b[1;33m]\u001b[0m\u001b[1;33m\u001b[0m\u001b[1;33m\u001b[0m\u001b[0m\n\u001b[0;32m      5\u001b[0m     \u001b[1;32mfor\u001b[0m \u001b[0mi\u001b[0m \u001b[1;32min\u001b[0m \u001b[0mtnrange\u001b[0m\u001b[1;33m(\u001b[0m\u001b[1;36m100\u001b[0m\u001b[1;33m,\u001b[0m \u001b[0mdesc\u001b[0m\u001b[1;33m=\u001b[0m\u001b[0menvironment_name\u001b[0m\u001b[1;33m,\u001b[0m \u001b[0mleave\u001b[0m\u001b[1;33m=\u001b[0m\u001b[1;32mTrue\u001b[0m\u001b[1;33m)\u001b[0m\u001b[1;33m:\u001b[0m\u001b[1;33m\u001b[0m\u001b[1;33m\u001b[0m\u001b[0m\n\u001b[1;32m----> 6\u001b[1;33m         \u001b[0mresults\u001b[0m\u001b[1;33m.\u001b[0m\u001b[0mappend\u001b[0m\u001b[1;33m(\u001b[0m\u001b[0mrun_simulation\u001b[0m\u001b[1;33m(\u001b[0m\u001b[0menvironment_name\u001b[0m\u001b[1;33m)\u001b[0m\u001b[1;33m)\u001b[0m\u001b[1;33m\u001b[0m\u001b[1;33m\u001b[0m\u001b[0m\n\u001b[0m\u001b[0;32m      7\u001b[0m \u001b[1;33m\u001b[0m\u001b[0m\n\u001b[0;32m      8\u001b[0m     \u001b[0mdf\u001b[0m \u001b[1;33m=\u001b[0m \u001b[0mpd\u001b[0m\u001b[1;33m.\u001b[0m\u001b[0mDataFrame\u001b[0m\u001b[1;33m(\u001b[0m\u001b[0mresults\u001b[0m\u001b[1;33m,\u001b[0m \u001b[0mcolumns\u001b[0m\u001b[1;33m=\u001b[0m\u001b[1;33m[\u001b[0m\u001b[1;34m\"Infections\"\u001b[0m\u001b[1;33m,\u001b[0m \u001b[1;34m\"Total visitors\"\u001b[0m\u001b[1;33m,\u001b[0m \u001b[1;34m\"Attack rate\"\u001b[0m\u001b[1;33m]\u001b[0m\u001b[1;33m)\u001b[0m\u001b[1;33m\u001b[0m\u001b[1;33m\u001b[0m\u001b[0m\n",
      "\u001b[1;32m<ipython-input-2-a34c63654b41>\u001b[0m in \u001b[0;36mrun_simulation\u001b[1;34m(simulation_name)\u001b[0m\n\u001b[0;32m     12\u001b[0m     simulation.run(quanta_emission_rate=quanta_emission_rate, \n\u001b[0;32m     13\u001b[0m                     \u001b[0minhalation_rate\u001b[0m\u001b[1;33m=\u001b[0m\u001b[0minhalation_rate\u001b[0m\u001b[1;33m,\u001b[0m\u001b[1;33m\u001b[0m\u001b[1;33m\u001b[0m\u001b[0m\n\u001b[1;32m---> 14\u001b[1;33m                     report_time=False)\n\u001b[0m\u001b[0;32m     15\u001b[0m \u001b[1;33m\u001b[0m\u001b[0m\n\u001b[0;32m     16\u001b[0m     \u001b[0minfections\u001b[0m \u001b[1;33m=\u001b[0m \u001b[0msimulation\u001b[0m\u001b[1;33m.\u001b[0m\u001b[0mget_counter\u001b[0m\u001b[1;33m(\u001b[0m\u001b[1;34m'Infections'\u001b[0m\u001b[1;33m)\u001b[0m\u001b[1;33m\u001b[0m\u001b[1;33m\u001b[0m\u001b[0m\n",
      "\u001b[1;32md:\\workspace\\python\\Covid-Building-Infections\\Simulation.py\u001b[0m in \u001b[0;36mrun\u001b[1;34m(self, arrivals_per_hour, quanta_emission_rate, inhalation_rate, max_arrivals, report_time)\u001b[0m\n\u001b[0;32m    224\u001b[0m             \u001b[0mprint\u001b[0m\u001b[1;33m(\u001b[0m\u001b[1;34mf\"Running the model for {self.periods} periods\"\u001b[0m\u001b[1;33m)\u001b[0m\u001b[1;33m\u001b[0m\u001b[1;33m\u001b[0m\u001b[0m\n\u001b[0;32m    225\u001b[0m \u001b[1;33m\u001b[0m\u001b[0m\n\u001b[1;32m--> 226\u001b[1;33m         \u001b[0mself\u001b[0m\u001b[1;33m.\u001b[0m\u001b[0menv\u001b[0m\u001b[1;33m.\u001b[0m\u001b[0mrun\u001b[0m\u001b[1;33m(\u001b[0m\u001b[0muntil\u001b[0m\u001b[1;33m=\u001b[0m\u001b[0mself\u001b[0m\u001b[1;33m.\u001b[0m\u001b[0mperiods\u001b[0m\u001b[1;33m)\u001b[0m\u001b[1;33m\u001b[0m\u001b[1;33m\u001b[0m\u001b[0m\n\u001b[0m\u001b[0;32m    227\u001b[0m \u001b[1;33m\u001b[0m\u001b[0m\n\u001b[0;32m    228\u001b[0m         \u001b[1;32mif\u001b[0m \u001b[0mreport_time\u001b[0m\u001b[1;33m:\u001b[0m\u001b[1;33m\u001b[0m\u001b[1;33m\u001b[0m\u001b[0m\n",
      "\u001b[1;32m~\\Anaconda3\\envs\\DES2020\\lib\\site-packages\\simpy\\core.py\u001b[0m in \u001b[0;36mrun\u001b[1;34m(self, until)\u001b[0m\n\u001b[0;32m    252\u001b[0m         \u001b[1;32mtry\u001b[0m\u001b[1;33m:\u001b[0m\u001b[1;33m\u001b[0m\u001b[1;33m\u001b[0m\u001b[0m\n\u001b[0;32m    253\u001b[0m             \u001b[1;32mwhile\u001b[0m \u001b[1;32mTrue\u001b[0m\u001b[1;33m:\u001b[0m\u001b[1;33m\u001b[0m\u001b[1;33m\u001b[0m\u001b[0m\n\u001b[1;32m--> 254\u001b[1;33m                 \u001b[0mself\u001b[0m\u001b[1;33m.\u001b[0m\u001b[0mstep\u001b[0m\u001b[1;33m(\u001b[0m\u001b[1;33m)\u001b[0m\u001b[1;33m\u001b[0m\u001b[1;33m\u001b[0m\u001b[0m\n\u001b[0m\u001b[0;32m    255\u001b[0m         \u001b[1;32mexcept\u001b[0m \u001b[0mStopSimulation\u001b[0m \u001b[1;32mas\u001b[0m \u001b[0mexc\u001b[0m\u001b[1;33m:\u001b[0m\u001b[1;33m\u001b[0m\u001b[1;33m\u001b[0m\u001b[0m\n\u001b[0;32m    256\u001b[0m             \u001b[1;32mreturn\u001b[0m \u001b[0mexc\u001b[0m\u001b[1;33m.\u001b[0m\u001b[0margs\u001b[0m\u001b[1;33m[\u001b[0m\u001b[1;36m0\u001b[0m\u001b[1;33m]\u001b[0m  \u001b[1;31m# == until.value\u001b[0m\u001b[1;33m\u001b[0m\u001b[1;33m\u001b[0m\u001b[0m\n",
      "\u001b[1;32m~\\Anaconda3\\envs\\DES2020\\lib\\site-packages\\simpy\\core.py\u001b[0m in \u001b[0;36mstep\u001b[1;34m(self)\u001b[0m\n\u001b[0;32m    188\u001b[0m         \"\"\"\n\u001b[0;32m    189\u001b[0m         \u001b[1;32mtry\u001b[0m\u001b[1;33m:\u001b[0m\u001b[1;33m\u001b[0m\u001b[1;33m\u001b[0m\u001b[0m\n\u001b[1;32m--> 190\u001b[1;33m             \u001b[0mself\u001b[0m\u001b[1;33m.\u001b[0m\u001b[0m_now\u001b[0m\u001b[1;33m,\u001b[0m \u001b[0m_\u001b[0m\u001b[1;33m,\u001b[0m \u001b[0m_\u001b[0m\u001b[1;33m,\u001b[0m \u001b[0mevent\u001b[0m \u001b[1;33m=\u001b[0m \u001b[0mheappop\u001b[0m\u001b[1;33m(\u001b[0m\u001b[0mself\u001b[0m\u001b[1;33m.\u001b[0m\u001b[0m_queue\u001b[0m\u001b[1;33m)\u001b[0m\u001b[1;33m\u001b[0m\u001b[1;33m\u001b[0m\u001b[0m\n\u001b[0m\u001b[0;32m    191\u001b[0m         \u001b[1;32mexcept\u001b[0m \u001b[0mIndexError\u001b[0m\u001b[1;33m:\u001b[0m\u001b[1;33m\u001b[0m\u001b[1;33m\u001b[0m\u001b[0m\n\u001b[0;32m    192\u001b[0m             \u001b[1;32mraise\u001b[0m \u001b[0mEmptySchedule\u001b[0m\u001b[1;33m(\u001b[0m\u001b[1;33m)\u001b[0m\u001b[1;33m\u001b[0m\u001b[1;33m\u001b[0m\u001b[0m\n",
      "\u001b[1;31mKeyboardInterrupt\u001b[0m: "
     ]
    }
   ],
   "source": [
    "sim_results = {}\n",
    "for _, environment_name in environments.items():\n",
    "\n",
    "    results = []\n",
    "    for i in tnrange(1000, desc=environment_name, leave=True):\n",
    "        results.append(run_simulation(environment_name))\n",
    "\n",
    "    df = pd.DataFrame(results, columns=[\"Infections\", \"Total visitors\", \"Attack rate\"])\n",
    "\n",
    "    infections_mean = df.mean()['Infections']\n",
    "    infections_sd = df.std()['Infections']\n",
    "    total_visitors_mean = df.mean()['Total visitors']\n",
    "    total_visitors_sd = df.std()['Total visitors']\n",
    "    attack_rate = infections_mean / total_visitors_mean\n",
    "\n",
    "    sim_results[environment_name] = (infections_mean, infections_sd, total_visitors_mean, total_visitors_sd, attack_rate)\n"
   ]
  },
  {
   "cell_type": "code",
   "execution_count": 47,
   "metadata": {},
   "outputs": [
    {
     "output_type": "execute_result",
     "data": {
      "text/plain": "                                    infections mean  infections sd  \\\nPharmacy-natural-No Lockdown                   4.65       2.446911   \nPharmacy-mechanical-No Lockdown                0.78       0.927471   \nPharmacy-natural-Lockdown                      2.12       1.416212   \nPharmacy-mechanical-Lockdown                   0.48       0.611010   \nSupermarket-natural-No Lockdown                2.93       1.492439   \nSupermarket-mechanical-No Lockdown             1.00       0.984732   \nSupermarket-natural-Lockdown                   0.42       0.606030   \nSupermarket-mechanical-Lockdown                0.23       0.489382   \nRestaurant-natural-No Lockdown                43.33       5.635485   \nRestaurant-mechanical-No Lockdown              1.91       1.422013   \nPost Office-natural-No Lockdown                4.62       2.116696   \nPost Office-mechanical-No Lockdown             0.71       0.769297   \nPost Office-natural-Lockdown                   0.29       0.518253   \nPost Office-mechanical-Lockdown                0.18       0.411452   \nBank-natural-No Lockdown                       6.85       2.750115   \nBank-mechanical-No Lockdown                    1.19       1.079609   \nBank-natural-Lockdown                          0.79       0.879566   \nBank-mechanical-Lockdown                       0.27       0.529055   \nLounge-Two People-Winter-15 Mins               0.13       0.337998   \nLounge-Two People-Winter-30 Mins               0.30       0.460566   \nLounge-Two People-Winter-1 hour                0.70       0.460566   \nLounge-Two People-Summer-15 Mins               0.14       0.348735   \nLounge-Two People-Summer-30 Mins               0.19       0.394277   \nLounge-Two People-Summer-1 hour                0.56       0.498888   \nLounge-Four People-Winter-15 Mins              0.27       0.468287   \nLounge-Four People-Winter-30 Mins              0.86       0.791623   \nLounge-Four People-Winter-1 hour               2.10       0.797724   \nLounge-Four People-Summer-15 Mins              0.25       0.479372   \nLounge-Four People-Summer-30 Mins              0.62       0.721670   \nLounge-Four People-Summer-1 hour               1.55       0.833333   \n\n                                    visitors mean  visitors sd  attack rate  \nPharmacy-natural-No Lockdown                180.0          0.0     0.025833  \nPharmacy-mechanical-No Lockdown             180.0          0.0     0.004333  \nPharmacy-natural-Lockdown                    90.0          0.0     0.023556  \nPharmacy-mechanical-Lockdown                 90.0          0.0     0.005333  \nSupermarket-natural-No Lockdown             360.0          0.0     0.008139  \nSupermarket-mechanical-No Lockdown          360.0          0.0     0.002778  \nSupermarket-natural-Lockdown                 60.0          0.0     0.007000  \nSupermarket-mechanical-Lockdown              60.0          0.0     0.003833  \nRestaurant-natural-No Lockdown              160.0          0.0     0.270813  \nRestaurant-mechanical-No Lockdown           160.0          0.0     0.011938  \nPost Office-natural-No Lockdown             360.0          0.0     0.012833  \nPost Office-mechanical-No Lockdown          360.0          0.0     0.001972  \nPost Office-natural-Lockdown                 72.0          0.0     0.004028  \nPost Office-mechanical-Lockdown              72.0          0.0     0.002500  \nBank-natural-No Lockdown                    180.0          0.0     0.038056  \nBank-mechanical-No Lockdown                 180.0          0.0     0.006611  \nBank-natural-Lockdown                        72.0          0.0     0.010972  \nBank-mechanical-Lockdown                     72.0          0.0     0.003750  \nLounge-Two People-Winter-15 Mins              2.0          0.0     0.065000  \nLounge-Two People-Winter-30 Mins              2.0          0.0     0.150000  \nLounge-Two People-Winter-1 hour               2.0          0.0     0.350000  \nLounge-Two People-Summer-15 Mins              2.0          0.0     0.070000  \nLounge-Two People-Summer-30 Mins              2.0          0.0     0.095000  \nLounge-Two People-Summer-1 hour               2.0          0.0     0.280000  \nLounge-Four People-Winter-15 Mins             4.0          0.0     0.067500  \nLounge-Four People-Winter-30 Mins             4.0          0.0     0.215000  \nLounge-Four People-Winter-1 hour              4.0          0.0     0.525000  \nLounge-Four People-Summer-15 Mins             4.0          0.0     0.062500  \nLounge-Four People-Summer-30 Mins             4.0          0.0     0.155000  \nLounge-Four People-Summer-1 hour              4.0          0.0     0.387500  ",
      "text/html": "<div>\n<style scoped>\n    .dataframe tbody tr th:only-of-type {\n        vertical-align: middle;\n    }\n\n    .dataframe tbody tr th {\n        vertical-align: top;\n    }\n\n    .dataframe thead th {\n        text-align: right;\n    }\n</style>\n<table border=\"1\" class=\"dataframe\">\n  <thead>\n    <tr style=\"text-align: right;\">\n      <th></th>\n      <th>infections mean</th>\n      <th>infections sd</th>\n      <th>visitors mean</th>\n      <th>visitors sd</th>\n      <th>attack rate</th>\n    </tr>\n  </thead>\n  <tbody>\n    <tr>\n      <th>Pharmacy-natural-No Lockdown</th>\n      <td>4.65</td>\n      <td>2.446911</td>\n      <td>180.0</td>\n      <td>0.0</td>\n      <td>0.025833</td>\n    </tr>\n    <tr>\n      <th>Pharmacy-mechanical-No Lockdown</th>\n      <td>0.78</td>\n      <td>0.927471</td>\n      <td>180.0</td>\n      <td>0.0</td>\n      <td>0.004333</td>\n    </tr>\n    <tr>\n      <th>Pharmacy-natural-Lockdown</th>\n      <td>2.12</td>\n      <td>1.416212</td>\n      <td>90.0</td>\n      <td>0.0</td>\n      <td>0.023556</td>\n    </tr>\n    <tr>\n      <th>Pharmacy-mechanical-Lockdown</th>\n      <td>0.48</td>\n      <td>0.611010</td>\n      <td>90.0</td>\n      <td>0.0</td>\n      <td>0.005333</td>\n    </tr>\n    <tr>\n      <th>Supermarket-natural-No Lockdown</th>\n      <td>2.93</td>\n      <td>1.492439</td>\n      <td>360.0</td>\n      <td>0.0</td>\n      <td>0.008139</td>\n    </tr>\n    <tr>\n      <th>Supermarket-mechanical-No Lockdown</th>\n      <td>1.00</td>\n      <td>0.984732</td>\n      <td>360.0</td>\n      <td>0.0</td>\n      <td>0.002778</td>\n    </tr>\n    <tr>\n      <th>Supermarket-natural-Lockdown</th>\n      <td>0.42</td>\n      <td>0.606030</td>\n      <td>60.0</td>\n      <td>0.0</td>\n      <td>0.007000</td>\n    </tr>\n    <tr>\n      <th>Supermarket-mechanical-Lockdown</th>\n      <td>0.23</td>\n      <td>0.489382</td>\n      <td>60.0</td>\n      <td>0.0</td>\n      <td>0.003833</td>\n    </tr>\n    <tr>\n      <th>Restaurant-natural-No Lockdown</th>\n      <td>43.33</td>\n      <td>5.635485</td>\n      <td>160.0</td>\n      <td>0.0</td>\n      <td>0.270813</td>\n    </tr>\n    <tr>\n      <th>Restaurant-mechanical-No Lockdown</th>\n      <td>1.91</td>\n      <td>1.422013</td>\n      <td>160.0</td>\n      <td>0.0</td>\n      <td>0.011938</td>\n    </tr>\n    <tr>\n      <th>Post Office-natural-No Lockdown</th>\n      <td>4.62</td>\n      <td>2.116696</td>\n      <td>360.0</td>\n      <td>0.0</td>\n      <td>0.012833</td>\n    </tr>\n    <tr>\n      <th>Post Office-mechanical-No Lockdown</th>\n      <td>0.71</td>\n      <td>0.769297</td>\n      <td>360.0</td>\n      <td>0.0</td>\n      <td>0.001972</td>\n    </tr>\n    <tr>\n      <th>Post Office-natural-Lockdown</th>\n      <td>0.29</td>\n      <td>0.518253</td>\n      <td>72.0</td>\n      <td>0.0</td>\n      <td>0.004028</td>\n    </tr>\n    <tr>\n      <th>Post Office-mechanical-Lockdown</th>\n      <td>0.18</td>\n      <td>0.411452</td>\n      <td>72.0</td>\n      <td>0.0</td>\n      <td>0.002500</td>\n    </tr>\n    <tr>\n      <th>Bank-natural-No Lockdown</th>\n      <td>6.85</td>\n      <td>2.750115</td>\n      <td>180.0</td>\n      <td>0.0</td>\n      <td>0.038056</td>\n    </tr>\n    <tr>\n      <th>Bank-mechanical-No Lockdown</th>\n      <td>1.19</td>\n      <td>1.079609</td>\n      <td>180.0</td>\n      <td>0.0</td>\n      <td>0.006611</td>\n    </tr>\n    <tr>\n      <th>Bank-natural-Lockdown</th>\n      <td>0.79</td>\n      <td>0.879566</td>\n      <td>72.0</td>\n      <td>0.0</td>\n      <td>0.010972</td>\n    </tr>\n    <tr>\n      <th>Bank-mechanical-Lockdown</th>\n      <td>0.27</td>\n      <td>0.529055</td>\n      <td>72.0</td>\n      <td>0.0</td>\n      <td>0.003750</td>\n    </tr>\n    <tr>\n      <th>Lounge-Two People-Winter-15 Mins</th>\n      <td>0.13</td>\n      <td>0.337998</td>\n      <td>2.0</td>\n      <td>0.0</td>\n      <td>0.065000</td>\n    </tr>\n    <tr>\n      <th>Lounge-Two People-Winter-30 Mins</th>\n      <td>0.30</td>\n      <td>0.460566</td>\n      <td>2.0</td>\n      <td>0.0</td>\n      <td>0.150000</td>\n    </tr>\n    <tr>\n      <th>Lounge-Two People-Winter-1 hour</th>\n      <td>0.70</td>\n      <td>0.460566</td>\n      <td>2.0</td>\n      <td>0.0</td>\n      <td>0.350000</td>\n    </tr>\n    <tr>\n      <th>Lounge-Two People-Summer-15 Mins</th>\n      <td>0.14</td>\n      <td>0.348735</td>\n      <td>2.0</td>\n      <td>0.0</td>\n      <td>0.070000</td>\n    </tr>\n    <tr>\n      <th>Lounge-Two People-Summer-30 Mins</th>\n      <td>0.19</td>\n      <td>0.394277</td>\n      <td>2.0</td>\n      <td>0.0</td>\n      <td>0.095000</td>\n    </tr>\n    <tr>\n      <th>Lounge-Two People-Summer-1 hour</th>\n      <td>0.56</td>\n      <td>0.498888</td>\n      <td>2.0</td>\n      <td>0.0</td>\n      <td>0.280000</td>\n    </tr>\n    <tr>\n      <th>Lounge-Four People-Winter-15 Mins</th>\n      <td>0.27</td>\n      <td>0.468287</td>\n      <td>4.0</td>\n      <td>0.0</td>\n      <td>0.067500</td>\n    </tr>\n    <tr>\n      <th>Lounge-Four People-Winter-30 Mins</th>\n      <td>0.86</td>\n      <td>0.791623</td>\n      <td>4.0</td>\n      <td>0.0</td>\n      <td>0.215000</td>\n    </tr>\n    <tr>\n      <th>Lounge-Four People-Winter-1 hour</th>\n      <td>2.10</td>\n      <td>0.797724</td>\n      <td>4.0</td>\n      <td>0.0</td>\n      <td>0.525000</td>\n    </tr>\n    <tr>\n      <th>Lounge-Four People-Summer-15 Mins</th>\n      <td>0.25</td>\n      <td>0.479372</td>\n      <td>4.0</td>\n      <td>0.0</td>\n      <td>0.062500</td>\n    </tr>\n    <tr>\n      <th>Lounge-Four People-Summer-30 Mins</th>\n      <td>0.62</td>\n      <td>0.721670</td>\n      <td>4.0</td>\n      <td>0.0</td>\n      <td>0.155000</td>\n    </tr>\n    <tr>\n      <th>Lounge-Four People-Summer-1 hour</th>\n      <td>1.55</td>\n      <td>0.833333</td>\n      <td>4.0</td>\n      <td>0.0</td>\n      <td>0.387500</td>\n    </tr>\n  </tbody>\n</table>\n</div>"
     },
     "metadata": {},
     "execution_count": 47
    }
   ],
   "source": [
    "df_results = pd.DataFrame.from_dict(sim_results, orient='index', columns=['infections mean', 'infections sd','visitors mean', 'visitors sd', 'attack rate'])\n",
    "df_results"
   ]
  },
  {
   "cell_type": "code",
   "execution_count": 51,
   "metadata": {},
   "outputs": [
    {
     "output_type": "display_data",
     "data": {
      "application/vnd.plotly.v1+json": {
       "config": {
        "plotlyServerURL": "https://plot.ly"
       },
       "data": [
        {
         "customdata": [
          [
           "Pharmacy-natural-No Lockdown"
          ],
          [
           "Pharmacy-mechanical-No Lockdown"
          ],
          [
           "Pharmacy-natural-Lockdown"
          ],
          [
           "Pharmacy-mechanical-Lockdown"
          ],
          [
           "Supermarket-natural-No Lockdown"
          ],
          [
           "Supermarket-mechanical-No Lockdown"
          ],
          [
           "Supermarket-natural-Lockdown"
          ],
          [
           "Supermarket-mechanical-Lockdown"
          ],
          [
           "Restaurant-natural-No Lockdown"
          ],
          [
           "Restaurant-mechanical-No Lockdown"
          ],
          [
           "Post Office-natural-No Lockdown"
          ],
          [
           "Post Office-mechanical-No Lockdown"
          ],
          [
           "Post Office-natural-Lockdown"
          ],
          [
           "Post Office-mechanical-Lockdown"
          ],
          [
           "Bank-natural-No Lockdown"
          ],
          [
           "Bank-mechanical-No Lockdown"
          ],
          [
           "Bank-natural-Lockdown"
          ],
          [
           "Bank-mechanical-Lockdown"
          ],
          [
           "Lounge-Two People-Winter-15 Mins"
          ],
          [
           "Lounge-Two People-Winter-30 Mins"
          ],
          [
           "Lounge-Two People-Winter-1 hour"
          ],
          [
           "Lounge-Two People-Summer-15 Mins"
          ],
          [
           "Lounge-Two People-Summer-30 Mins"
          ],
          [
           "Lounge-Two People-Summer-1 hour"
          ],
          [
           "Lounge-Four People-Winter-15 Mins"
          ],
          [
           "Lounge-Four People-Winter-30 Mins"
          ],
          [
           "Lounge-Four People-Winter-1 hour"
          ],
          [
           "Lounge-Four People-Summer-15 Mins"
          ],
          [
           "Lounge-Four People-Summer-30 Mins"
          ],
          [
           "Lounge-Four People-Summer-1 hour"
          ]
         ],
         "hovertemplate": "infections mean=%{x}<br>attack rate=%{y}<br>hover_data_0=%{customdata[0]}<extra></extra>",
         "legendgroup": "",
         "marker": {
          "color": "#636efa",
          "symbol": "circle"
         },
         "mode": "markers",
         "name": "",
         "showlegend": false,
         "type": "scatter",
         "x": [
          4.65,
          0.78,
          2.12,
          0.48,
          2.93,
          1,
          0.42,
          0.23,
          43.33,
          1.91,
          4.62,
          0.71,
          0.29,
          0.18,
          6.85,
          1.19,
          0.79,
          0.27,
          0.13,
          0.3,
          0.7,
          0.14,
          0.19,
          0.56,
          0.27,
          0.86,
          2.1,
          0.25,
          0.62,
          1.55
         ],
         "xaxis": "x",
         "y": [
          0.025833333333333337,
          0.004333333333333333,
          0.023555555555555555,
          0.005333333333333333,
          0.00813888888888889,
          0.002777777777777778,
          0.007,
          0.0038333333333333336,
          0.2708125,
          0.0119375,
          0.012833333333333334,
          0.001972222222222222,
          0.004027777777777778,
          0.0025,
          0.03805555555555555,
          0.006611111111111111,
          0.010972222222222223,
          0.0037500000000000003,
          0.065,
          0.15,
          0.35,
          0.07,
          0.095,
          0.28,
          0.0675,
          0.215,
          0.525,
          0.0625,
          0.155,
          0.3875
         ],
         "yaxis": "y"
        }
       ],
       "layout": {
        "legend": {
         "tracegroupgap": 0
        },
        "margin": {
         "t": 60
        },
        "template": {
         "data": {
          "bar": [
           {
            "error_x": {
             "color": "#2a3f5f"
            },
            "error_y": {
             "color": "#2a3f5f"
            },
            "marker": {
             "line": {
              "color": "#E5ECF6",
              "width": 0.5
             }
            },
            "type": "bar"
           }
          ],
          "barpolar": [
           {
            "marker": {
             "line": {
              "color": "#E5ECF6",
              "width": 0.5
             }
            },
            "type": "barpolar"
           }
          ],
          "carpet": [
           {
            "aaxis": {
             "endlinecolor": "#2a3f5f",
             "gridcolor": "white",
             "linecolor": "white",
             "minorgridcolor": "white",
             "startlinecolor": "#2a3f5f"
            },
            "baxis": {
             "endlinecolor": "#2a3f5f",
             "gridcolor": "white",
             "linecolor": "white",
             "minorgridcolor": "white",
             "startlinecolor": "#2a3f5f"
            },
            "type": "carpet"
           }
          ],
          "choropleth": [
           {
            "colorbar": {
             "outlinewidth": 0,
             "ticks": ""
            },
            "type": "choropleth"
           }
          ],
          "contour": [
           {
            "colorbar": {
             "outlinewidth": 0,
             "ticks": ""
            },
            "colorscale": [
             [
              0,
              "#0d0887"
             ],
             [
              0.1111111111111111,
              "#46039f"
             ],
             [
              0.2222222222222222,
              "#7201a8"
             ],
             [
              0.3333333333333333,
              "#9c179e"
             ],
             [
              0.4444444444444444,
              "#bd3786"
             ],
             [
              0.5555555555555556,
              "#d8576b"
             ],
             [
              0.6666666666666666,
              "#ed7953"
             ],
             [
              0.7777777777777778,
              "#fb9f3a"
             ],
             [
              0.8888888888888888,
              "#fdca26"
             ],
             [
              1,
              "#f0f921"
             ]
            ],
            "type": "contour"
           }
          ],
          "contourcarpet": [
           {
            "colorbar": {
             "outlinewidth": 0,
             "ticks": ""
            },
            "type": "contourcarpet"
           }
          ],
          "heatmap": [
           {
            "colorbar": {
             "outlinewidth": 0,
             "ticks": ""
            },
            "colorscale": [
             [
              0,
              "#0d0887"
             ],
             [
              0.1111111111111111,
              "#46039f"
             ],
             [
              0.2222222222222222,
              "#7201a8"
             ],
             [
              0.3333333333333333,
              "#9c179e"
             ],
             [
              0.4444444444444444,
              "#bd3786"
             ],
             [
              0.5555555555555556,
              "#d8576b"
             ],
             [
              0.6666666666666666,
              "#ed7953"
             ],
             [
              0.7777777777777778,
              "#fb9f3a"
             ],
             [
              0.8888888888888888,
              "#fdca26"
             ],
             [
              1,
              "#f0f921"
             ]
            ],
            "type": "heatmap"
           }
          ],
          "heatmapgl": [
           {
            "colorbar": {
             "outlinewidth": 0,
             "ticks": ""
            },
            "colorscale": [
             [
              0,
              "#0d0887"
             ],
             [
              0.1111111111111111,
              "#46039f"
             ],
             [
              0.2222222222222222,
              "#7201a8"
             ],
             [
              0.3333333333333333,
              "#9c179e"
             ],
             [
              0.4444444444444444,
              "#bd3786"
             ],
             [
              0.5555555555555556,
              "#d8576b"
             ],
             [
              0.6666666666666666,
              "#ed7953"
             ],
             [
              0.7777777777777778,
              "#fb9f3a"
             ],
             [
              0.8888888888888888,
              "#fdca26"
             ],
             [
              1,
              "#f0f921"
             ]
            ],
            "type": "heatmapgl"
           }
          ],
          "histogram": [
           {
            "marker": {
             "colorbar": {
              "outlinewidth": 0,
              "ticks": ""
             }
            },
            "type": "histogram"
           }
          ],
          "histogram2d": [
           {
            "colorbar": {
             "outlinewidth": 0,
             "ticks": ""
            },
            "colorscale": [
             [
              0,
              "#0d0887"
             ],
             [
              0.1111111111111111,
              "#46039f"
             ],
             [
              0.2222222222222222,
              "#7201a8"
             ],
             [
              0.3333333333333333,
              "#9c179e"
             ],
             [
              0.4444444444444444,
              "#bd3786"
             ],
             [
              0.5555555555555556,
              "#d8576b"
             ],
             [
              0.6666666666666666,
              "#ed7953"
             ],
             [
              0.7777777777777778,
              "#fb9f3a"
             ],
             [
              0.8888888888888888,
              "#fdca26"
             ],
             [
              1,
              "#f0f921"
             ]
            ],
            "type": "histogram2d"
           }
          ],
          "histogram2dcontour": [
           {
            "colorbar": {
             "outlinewidth": 0,
             "ticks": ""
            },
            "colorscale": [
             [
              0,
              "#0d0887"
             ],
             [
              0.1111111111111111,
              "#46039f"
             ],
             [
              0.2222222222222222,
              "#7201a8"
             ],
             [
              0.3333333333333333,
              "#9c179e"
             ],
             [
              0.4444444444444444,
              "#bd3786"
             ],
             [
              0.5555555555555556,
              "#d8576b"
             ],
             [
              0.6666666666666666,
              "#ed7953"
             ],
             [
              0.7777777777777778,
              "#fb9f3a"
             ],
             [
              0.8888888888888888,
              "#fdca26"
             ],
             [
              1,
              "#f0f921"
             ]
            ],
            "type": "histogram2dcontour"
           }
          ],
          "mesh3d": [
           {
            "colorbar": {
             "outlinewidth": 0,
             "ticks": ""
            },
            "type": "mesh3d"
           }
          ],
          "parcoords": [
           {
            "line": {
             "colorbar": {
              "outlinewidth": 0,
              "ticks": ""
             }
            },
            "type": "parcoords"
           }
          ],
          "pie": [
           {
            "automargin": true,
            "type": "pie"
           }
          ],
          "scatter": [
           {
            "marker": {
             "colorbar": {
              "outlinewidth": 0,
              "ticks": ""
             }
            },
            "type": "scatter"
           }
          ],
          "scatter3d": [
           {
            "line": {
             "colorbar": {
              "outlinewidth": 0,
              "ticks": ""
             }
            },
            "marker": {
             "colorbar": {
              "outlinewidth": 0,
              "ticks": ""
             }
            },
            "type": "scatter3d"
           }
          ],
          "scattercarpet": [
           {
            "marker": {
             "colorbar": {
              "outlinewidth": 0,
              "ticks": ""
             }
            },
            "type": "scattercarpet"
           }
          ],
          "scattergeo": [
           {
            "marker": {
             "colorbar": {
              "outlinewidth": 0,
              "ticks": ""
             }
            },
            "type": "scattergeo"
           }
          ],
          "scattergl": [
           {
            "marker": {
             "colorbar": {
              "outlinewidth": 0,
              "ticks": ""
             }
            },
            "type": "scattergl"
           }
          ],
          "scattermapbox": [
           {
            "marker": {
             "colorbar": {
              "outlinewidth": 0,
              "ticks": ""
             }
            },
            "type": "scattermapbox"
           }
          ],
          "scatterpolar": [
           {
            "marker": {
             "colorbar": {
              "outlinewidth": 0,
              "ticks": ""
             }
            },
            "type": "scatterpolar"
           }
          ],
          "scatterpolargl": [
           {
            "marker": {
             "colorbar": {
              "outlinewidth": 0,
              "ticks": ""
             }
            },
            "type": "scatterpolargl"
           }
          ],
          "scatterternary": [
           {
            "marker": {
             "colorbar": {
              "outlinewidth": 0,
              "ticks": ""
             }
            },
            "type": "scatterternary"
           }
          ],
          "surface": [
           {
            "colorbar": {
             "outlinewidth": 0,
             "ticks": ""
            },
            "colorscale": [
             [
              0,
              "#0d0887"
             ],
             [
              0.1111111111111111,
              "#46039f"
             ],
             [
              0.2222222222222222,
              "#7201a8"
             ],
             [
              0.3333333333333333,
              "#9c179e"
             ],
             [
              0.4444444444444444,
              "#bd3786"
             ],
             [
              0.5555555555555556,
              "#d8576b"
             ],
             [
              0.6666666666666666,
              "#ed7953"
             ],
             [
              0.7777777777777778,
              "#fb9f3a"
             ],
             [
              0.8888888888888888,
              "#fdca26"
             ],
             [
              1,
              "#f0f921"
             ]
            ],
            "type": "surface"
           }
          ],
          "table": [
           {
            "cells": {
             "fill": {
              "color": "#EBF0F8"
             },
             "line": {
              "color": "white"
             }
            },
            "header": {
             "fill": {
              "color": "#C8D4E3"
             },
             "line": {
              "color": "white"
             }
            },
            "type": "table"
           }
          ]
         },
         "layout": {
          "annotationdefaults": {
           "arrowcolor": "#2a3f5f",
           "arrowhead": 0,
           "arrowwidth": 1
          },
          "coloraxis": {
           "colorbar": {
            "outlinewidth": 0,
            "ticks": ""
           }
          },
          "colorscale": {
           "diverging": [
            [
             0,
             "#8e0152"
            ],
            [
             0.1,
             "#c51b7d"
            ],
            [
             0.2,
             "#de77ae"
            ],
            [
             0.3,
             "#f1b6da"
            ],
            [
             0.4,
             "#fde0ef"
            ],
            [
             0.5,
             "#f7f7f7"
            ],
            [
             0.6,
             "#e6f5d0"
            ],
            [
             0.7,
             "#b8e186"
            ],
            [
             0.8,
             "#7fbc41"
            ],
            [
             0.9,
             "#4d9221"
            ],
            [
             1,
             "#276419"
            ]
           ],
           "sequential": [
            [
             0,
             "#0d0887"
            ],
            [
             0.1111111111111111,
             "#46039f"
            ],
            [
             0.2222222222222222,
             "#7201a8"
            ],
            [
             0.3333333333333333,
             "#9c179e"
            ],
            [
             0.4444444444444444,
             "#bd3786"
            ],
            [
             0.5555555555555556,
             "#d8576b"
            ],
            [
             0.6666666666666666,
             "#ed7953"
            ],
            [
             0.7777777777777778,
             "#fb9f3a"
            ],
            [
             0.8888888888888888,
             "#fdca26"
            ],
            [
             1,
             "#f0f921"
            ]
           ],
           "sequentialminus": [
            [
             0,
             "#0d0887"
            ],
            [
             0.1111111111111111,
             "#46039f"
            ],
            [
             0.2222222222222222,
             "#7201a8"
            ],
            [
             0.3333333333333333,
             "#9c179e"
            ],
            [
             0.4444444444444444,
             "#bd3786"
            ],
            [
             0.5555555555555556,
             "#d8576b"
            ],
            [
             0.6666666666666666,
             "#ed7953"
            ],
            [
             0.7777777777777778,
             "#fb9f3a"
            ],
            [
             0.8888888888888888,
             "#fdca26"
            ],
            [
             1,
             "#f0f921"
            ]
           ]
          },
          "colorway": [
           "#636efa",
           "#EF553B",
           "#00cc96",
           "#ab63fa",
           "#FFA15A",
           "#19d3f3",
           "#FF6692",
           "#B6E880",
           "#FF97FF",
           "#FECB52"
          ],
          "font": {
           "color": "#2a3f5f"
          },
          "geo": {
           "bgcolor": "white",
           "lakecolor": "white",
           "landcolor": "#E5ECF6",
           "showlakes": true,
           "showland": true,
           "subunitcolor": "white"
          },
          "hoverlabel": {
           "align": "left"
          },
          "hovermode": "closest",
          "mapbox": {
           "style": "light"
          },
          "paper_bgcolor": "white",
          "plot_bgcolor": "#E5ECF6",
          "polar": {
           "angularaxis": {
            "gridcolor": "white",
            "linecolor": "white",
            "ticks": ""
           },
           "bgcolor": "#E5ECF6",
           "radialaxis": {
            "gridcolor": "white",
            "linecolor": "white",
            "ticks": ""
           }
          },
          "scene": {
           "xaxis": {
            "backgroundcolor": "#E5ECF6",
            "gridcolor": "white",
            "gridwidth": 2,
            "linecolor": "white",
            "showbackground": true,
            "ticks": "",
            "zerolinecolor": "white"
           },
           "yaxis": {
            "backgroundcolor": "#E5ECF6",
            "gridcolor": "white",
            "gridwidth": 2,
            "linecolor": "white",
            "showbackground": true,
            "ticks": "",
            "zerolinecolor": "white"
           },
           "zaxis": {
            "backgroundcolor": "#E5ECF6",
            "gridcolor": "white",
            "gridwidth": 2,
            "linecolor": "white",
            "showbackground": true,
            "ticks": "",
            "zerolinecolor": "white"
           }
          },
          "shapedefaults": {
           "line": {
            "color": "#2a3f5f"
           }
          },
          "ternary": {
           "aaxis": {
            "gridcolor": "white",
            "linecolor": "white",
            "ticks": ""
           },
           "baxis": {
            "gridcolor": "white",
            "linecolor": "white",
            "ticks": ""
           },
           "bgcolor": "#E5ECF6",
           "caxis": {
            "gridcolor": "white",
            "linecolor": "white",
            "ticks": ""
           }
          },
          "title": {
           "x": 0.05
          },
          "xaxis": {
           "automargin": true,
           "gridcolor": "white",
           "linecolor": "white",
           "ticks": "",
           "title": {
            "standoff": 15
           },
           "zerolinecolor": "white",
           "zerolinewidth": 2
          },
          "yaxis": {
           "automargin": true,
           "gridcolor": "white",
           "linecolor": "white",
           "ticks": "",
           "title": {
            "standoff": 15
           },
           "zerolinecolor": "white",
           "zerolinewidth": 2
          }
         }
        },
        "title": {
         "text": "Infections vs attack rate"
        },
        "xaxis": {
         "anchor": "y",
         "domain": [
          0,
          1
         ],
         "title": {
          "text": "Infections (mean)"
         }
        },
        "yaxis": {
         "anchor": "x",
         "domain": [
          0,
          1
         ],
         "title": {
          "text": "Attack rate"
         }
        }
       }
      }
     },
     "metadata": {}
    }
   ],
   "source": [
    "fig = px.scatter(df_results, x=\"infections mean\", y=\"attack rate\", hover_data=[df_results.index])\n",
    "fig.update_layout(\n",
    "    title=\"Infections vs attack rate\",\n",
    "    xaxis_title=\"Infections (mean)\",\n",
    "    yaxis_title=\"Attack rate\")\n",
    "fig.show()"
   ]
  },
  {
   "cell_type": "code",
   "execution_count": null,
   "metadata": {},
   "outputs": [],
   "source": []
  }
 ],
 "metadata": {
  "language_info": {
   "codemirror_mode": {
    "name": "ipython",
    "version": 3
   },
   "file_extension": ".py",
   "mimetype": "text/x-python",
   "name": "python",
   "nbconvert_exporter": "python",
   "pygments_lexer": "ipython3",
   "version": "3.7.7-final"
  },
  "orig_nbformat": 2,
  "kernelspec": {
   "name": "python37764bitdes2020conda06b03b1cd12e49f4a2bda6a10d24292b",
   "display_name": "Python 3.7.7 64-bit ('DES2020': conda)"
  }
 },
 "nbformat": 4,
 "nbformat_minor": 2
}