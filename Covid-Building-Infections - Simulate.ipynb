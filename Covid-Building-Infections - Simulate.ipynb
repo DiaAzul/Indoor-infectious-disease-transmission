{
 "cells": [
  {
   "cell_type": "markdown",
   "metadata": {},
   "source": [
    "# Calculate reproduction rate (R0) for infectious diseases within a micro-environment\n",
    "This model calculates the reproduction rate (R0) of infectious diseases (Covid19) within a micro-environment based upon dispersion of an aerosol within an enclosed space. It assumes the prime method of transmission is an aerosol and that the aerosol is well mixed across the space, i.e. there are no local concentrations which may impact on an individual's probability of being infected.\n",
    "\n",
    "The modelling follows the approach set out in the paper:\n",
    "Buonanno, G., Stabile, L., & Morawska, L. (2020). Estimation of airborne viral emission: Quanta emission rate of SARS-CoV-2 for infection risk assessment [Preprint]. Infectious Diseases (except HIV/AIDS). https://doi.org/10.1101/2020.04.12.20062828"
   ]
  },
  {
   "cell_type": "code",
   "execution_count": 1,
   "metadata": {},
   "outputs": [],
   "source": [
    "import math\n",
    "import plotly.graph_objects as go\n",
    "import simpy\n",
    "import pandas as pd\n",
    "from tqdm.notebook import trange, tqdm, tnrange\n",
    "\n",
    "# Import local libraries\n",
    "from Simulation import Simulation"
   ]
  },
  {
   "cell_type": "code",
   "execution_count": 2,
   "metadata": {},
   "outputs": [],
   "source": [
    "def run_simulation(simulation_name):\n",
    "    periods = 180\n",
    "    \n",
    "    simulation_run = 1\n",
    "    arrivals_per_hour=None # Get arrival rate from configuration\n",
    "    max_arrivals=None\n",
    "    quanta_emission_rate=147\n",
    "    inhalation_rate=0.54\n",
    "\n",
    "    simulation = Simulation(simulation_name, simulation_run, microenvironment=simulation_name, periods=periods)\n",
    "\n",
    "    simulation.run(arrivals_per_hour=arrivals_per_hour, \n",
    "                    quanta_emission_rate=quanta_emission_rate, \n",
    "                    inhalation_rate=inhalation_rate, \n",
    "                    max_arrivals=max_arrivals, \n",
    "                    report_time=False)\n",
    "\n",
    "    infections = simulation.get_counter('Infections')\n",
    "    infections = infections if infections else 0\n",
    "    total_visitors = simulation.get_counter('Total visitors')\n",
    "\n",
    "    attack_rate = infections / total_visitors\n",
    "\n",
    "    return infections, attack_rate"
   ]
  },
  {
   "cell_type": "code",
   "execution_count": 3,
   "metadata": {
    "tags": [
     "outputPrepend",
     "outputPrepend",
     "outputPrepend",
     "outputPrepend",
     "outputPrepend",
     "outputPrepend",
     "outputPrepend",
     "outputPrepend",
     "outputPrepend",
     "outputPrepend",
     "outputPrepend",
     "outputPrepend",
     "outputPrepend",
     "outputPrepend",
     "outputPrepend",
     "outputPrepend",
     "outputPrepend",
     "outputPrepend",
     "outputPrepend",
     "outputPrepend",
     "outputPrepend",
     "outputPrepend",
     "outputPrepend",
     "outputPrepend",
     "outputPrepend",
     "outputPrepend",
     "outputPrepend",
     "outputPrepend",
     "outputPrepend",
     "outputPrepend",
     "outputPrepend",
     "outputPrepend",
     "outputPrepend",
     "outputPrepend",
     "outputPrepend",
     "outputPrepend",
     "outputPrepend",
     "outputPrepend",
     "outputPrepend",
     "outputPrepend",
     "outputPrepend",
     "outputPrepend",
     "outputPrepend",
     "outputPrepend",
     "outputPrepend",
     "outputPrepend",
     "outputPrepend",
     "outputPrepend",
     "outputPrepend",
     "outputPrepend",
     "outputPrepend",
     "outputPrepend",
     "outputPrepend",
     "outputPrepend",
     "outputPrepend",
     "outputPrepend",
     "outputPrepend",
     "outputPrepend",
     "outputPrepend",
     "outputPrepend",
     "outputPrepend",
     "outputPrepend",
     "outputPrepend",
     "outputPrepend",
     "outputPrepend",
     "outputPrepend",
     "outputPrepend",
     "outputPrepend",
     "outputPrepend",
     "outputPrepend",
     "outputPrepend",
     "outputPrepend",
     "outputPrepend",
     "outputPrepend",
     "outputPrepend",
     "outputPrepend",
     "outputPrepend",
     "outputPrepend",
     "outputPrepend",
     "outputPrepend",
     "outputPrepend",
     "outputPrepend",
     "outputPrepend",
     "outputPrepend",
     "outputPrepend",
     "outputPrepend",
     "outputPrepend",
     "outputPrepend",
     "outputPrepend",
     "outputPrepend",
     "outputPrepend",
     "outputPrepend",
     "outputPrepend"
    ]
   },
   "outputs": [
    {
     "output_type": "display_data",
     "data": {
      "text/plain": "HBox(children=(FloatProgress(value=0.0, max=1000.0), HTML(value='')))",
      "application/vnd.jupyter.widget-view+json": {
       "version_major": 2,
       "version_minor": 0,
       "model_id": "e2fb4159803044f28af4f0be04b3d89b"
      }
     },
     "metadata": {}
    },
    {
     "output_type": "stream",
     "name": "stdout",
     "text": "\n"
    }
   ],
   "source": [
    "results = []\n",
    "simulation_name = 'Pharmacy-natural-Lockdown' if True else 'Pharmacy-mechanical-Lockdown'\n",
    "for i in trange(1000):\n",
    "    results.append(run_simulation(simulation_name))"
   ]
  },
  {
   "cell_type": "code",
   "execution_count": 4,
   "metadata": {},
   "outputs": [
    {
     "output_type": "display_data",
     "data": {
      "application/vnd.plotly.v1+json": {
       "config": {
        "plotlyServerURL": "https://plot.ly"
       },
       "data": [
        {
         "alignmentgroup": "True",
         "bingroup": "x",
         "hovertemplate": "Infections=%{x}<br>count=%{y}<extra></extra>",
         "legendgroup": "",
         "marker": {
          "color": "#636efa"
         },
         "name": "",
         "offsetgroup": "",
         "orientation": "v",
         "showlegend": false,
         "type": "histogram",
         "x": [
          15,
          13,
          18,
          12,
          15,
          7,
          9,
          17,
          14,
          6,
          17,
          18,
          21,
          5,
          16,
          10,
          13,
          12,
          6,
          12,
          15,
          9,
          11,
          6,
          11,
          10,
          12,
          9,
          6,
          10,
          13,
          13,
          15,
          12,
          10,
          11,
          13,
          13,
          6,
          13,
          13,
          17,
          14,
          13,
          11,
          13,
          16,
          12,
          15,
          11,
          9,
          12,
          19,
          18,
          8,
          14,
          9,
          12,
          13,
          15,
          17,
          15,
          14,
          13,
          11,
          17,
          11,
          8,
          17,
          13,
          11,
          14,
          17,
          12,
          16,
          11,
          7,
          13,
          8,
          16,
          11,
          13,
          16,
          18,
          13,
          11,
          14,
          14,
          14,
          10,
          14,
          9,
          9,
          13,
          10,
          10,
          15,
          16,
          16,
          14,
          15,
          15,
          13,
          9,
          17,
          11,
          20,
          18,
          10,
          14,
          16,
          17,
          11,
          14,
          9,
          6,
          21,
          6,
          16,
          17,
          10,
          12,
          13,
          15,
          7,
          12,
          13,
          10,
          14,
          11,
          14,
          12,
          13,
          14,
          14,
          13,
          12,
          14,
          11,
          9,
          9,
          12,
          8,
          13,
          13,
          12,
          12,
          9,
          10,
          16,
          8,
          9,
          12,
          14,
          15,
          11,
          12,
          10,
          18,
          15,
          11,
          13,
          11,
          12,
          7,
          16,
          12,
          16,
          9,
          15,
          9,
          15,
          15,
          13,
          8,
          18,
          13,
          6,
          5,
          14,
          18,
          8,
          14,
          10,
          12,
          17,
          7,
          9,
          13,
          13,
          12,
          17,
          9,
          7,
          8,
          20,
          14,
          7,
          12,
          17,
          19,
          9,
          15,
          17,
          10,
          15,
          11,
          10,
          12,
          8,
          16,
          16,
          10,
          15,
          10,
          17,
          14,
          11,
          10,
          13,
          10,
          11,
          15,
          17,
          16,
          15,
          8,
          7,
          9,
          15,
          16,
          14,
          18,
          13,
          16,
          14,
          14,
          15,
          12,
          10,
          15,
          11,
          13,
          10,
          15,
          7,
          11,
          12,
          8,
          14,
          17,
          10,
          12,
          14,
          11,
          9,
          13,
          12,
          18,
          10,
          15,
          13,
          10,
          11,
          10,
          13,
          6,
          10,
          7,
          11,
          17,
          14,
          14,
          8,
          14,
          15,
          7,
          17,
          15,
          12,
          13,
          21,
          12,
          10,
          8,
          11,
          16,
          17,
          7,
          14,
          14,
          13,
          7,
          9,
          16,
          16,
          15,
          12,
          11,
          11,
          9,
          16,
          11,
          9,
          15,
          11,
          10,
          15,
          17,
          11,
          10,
          12,
          7,
          15,
          13,
          17,
          12,
          13,
          17,
          11,
          11,
          10,
          15,
          13,
          14,
          19,
          12,
          17,
          12,
          16,
          12,
          15,
          23,
          19,
          16,
          16,
          10,
          6,
          13,
          14,
          16,
          13,
          14,
          11,
          12,
          21,
          7,
          11,
          13,
          7,
          10,
          11,
          16,
          9,
          13,
          8,
          14,
          13,
          13,
          15,
          8,
          9,
          16,
          19,
          13,
          14,
          9,
          8,
          11,
          13,
          8,
          11,
          13,
          11,
          12,
          14,
          11,
          20,
          7,
          17,
          10,
          18,
          15,
          6,
          14,
          12,
          8,
          11,
          14,
          16,
          13,
          17,
          6,
          9,
          18,
          14,
          14,
          11,
          12,
          13,
          12,
          17,
          13,
          10,
          14,
          15,
          18,
          10,
          11,
          9,
          16,
          11,
          16,
          10,
          15,
          12,
          14,
          11,
          8,
          12,
          9,
          8,
          6,
          11,
          9,
          14,
          10,
          16,
          15,
          10,
          10,
          15,
          10,
          12,
          13,
          14,
          16,
          21,
          11,
          18,
          16,
          10,
          14,
          15,
          14,
          15,
          15,
          9,
          12,
          15,
          7,
          12,
          24,
          12,
          18,
          12,
          13,
          15,
          10,
          13,
          4,
          17,
          16,
          14,
          14,
          7,
          9,
          9,
          16,
          11,
          9,
          10,
          21,
          10,
          11,
          13,
          8,
          7,
          9,
          16,
          14,
          12,
          9,
          13,
          10,
          14,
          12,
          17,
          10,
          14,
          11,
          15,
          8,
          15,
          15,
          15,
          12,
          9,
          15,
          6,
          16,
          13,
          15,
          14,
          11,
          14,
          15,
          17,
          9,
          10,
          15,
          11,
          18,
          15,
          13,
          15,
          12,
          15,
          13,
          11,
          15,
          15,
          10,
          13,
          12,
          11,
          14,
          9,
          10,
          15,
          17,
          8,
          16,
          9,
          11,
          11,
          8,
          13,
          16,
          9,
          14,
          11,
          13,
          15,
          13,
          16,
          9,
          11,
          8,
          10,
          15,
          18,
          14,
          13,
          11,
          6,
          12,
          11,
          11,
          8,
          13,
          16,
          7,
          11,
          19,
          12,
          15,
          18,
          11,
          14,
          16,
          15,
          11,
          15,
          16,
          10,
          9,
          10,
          9,
          12,
          4,
          17,
          13,
          15,
          20,
          7,
          6,
          12,
          21,
          15,
          14,
          8,
          18,
          14,
          11,
          7,
          9,
          17,
          10,
          11,
          16,
          17,
          15,
          16,
          11,
          8,
          11,
          8,
          14,
          13,
          10,
          9,
          6,
          16,
          17,
          12,
          14,
          12,
          7,
          13,
          14,
          11,
          14,
          15,
          15,
          14,
          14,
          14,
          18,
          11,
          13,
          7,
          10,
          13,
          5,
          5,
          9,
          10,
          12,
          13,
          11,
          15,
          16,
          13,
          16,
          13,
          17,
          14,
          12,
          16,
          11,
          13,
          12,
          12,
          13,
          11,
          15,
          8,
          11,
          12,
          17,
          14,
          14,
          13,
          11,
          11,
          11,
          15,
          15,
          11,
          10,
          18,
          4,
          23,
          10,
          7,
          18,
          19,
          11,
          14,
          12,
          12,
          17,
          18,
          10,
          15,
          13,
          18,
          11,
          13,
          12,
          12,
          16,
          15,
          11,
          17,
          13,
          9,
          9,
          8,
          17,
          13,
          12,
          13,
          14,
          16,
          11,
          12,
          8,
          10,
          14,
          17,
          10,
          14,
          13,
          11,
          11,
          12,
          16,
          11,
          11,
          17,
          16,
          17,
          11,
          15,
          12,
          12,
          10,
          14,
          14,
          9,
          8,
          9,
          13,
          16,
          12,
          18,
          14,
          16,
          12,
          8,
          10,
          12,
          9,
          12,
          13,
          13,
          10,
          14,
          11,
          9,
          11,
          11,
          17,
          11,
          15,
          14,
          16,
          11,
          15,
          17,
          10,
          14,
          8,
          14,
          10,
          17,
          11,
          18,
          15,
          14,
          14,
          15,
          14,
          16,
          9,
          19,
          17,
          16,
          18,
          9,
          16,
          8,
          11,
          11,
          12,
          7,
          13,
          11,
          19,
          17,
          13,
          19,
          13,
          8,
          17,
          8,
          14,
          21,
          21,
          14,
          17,
          6,
          11,
          13,
          17,
          8,
          19,
          11,
          18,
          13,
          13,
          17,
          13,
          10,
          7,
          11,
          9,
          19,
          22,
          8,
          12,
          13,
          10,
          14,
          11,
          9,
          10,
          15,
          13,
          11,
          14,
          12,
          12,
          8,
          9,
          11,
          13,
          12,
          12,
          14,
          17,
          8,
          11,
          16,
          13,
          11,
          12,
          12,
          15,
          10,
          13,
          12,
          17,
          14,
          16,
          9,
          10,
          9,
          18,
          7,
          14,
          14,
          12,
          13,
          15,
          11,
          13,
          10,
          12,
          12,
          10,
          14,
          11,
          20,
          13,
          12,
          14,
          14,
          13,
          10,
          12,
          11,
          11,
          12,
          13,
          12,
          19,
          15,
          12,
          17,
          15,
          15,
          16,
          12,
          16,
          11,
          13,
          11,
          18,
          11,
          13,
          14,
          13,
          20,
          11,
          16,
          15,
          12,
          16,
          11,
          12,
          13,
          10,
          11,
          15,
          14,
          15,
          16,
          10,
          14,
          11,
          6,
          8,
          19,
          15,
          20,
          7,
          11,
          13,
          13,
          11,
          11,
          9,
          12,
          12,
          13,
          12,
          12,
          9,
          17,
          14,
          13,
          11,
          12,
          19,
          19,
          10,
          12,
          8,
          12,
          12,
          17,
          6,
          12,
          10,
          16,
          13,
          12,
          16,
          10,
          14,
          5,
          12,
          9,
          16,
          14,
          14,
          17,
          12,
          14,
          13,
          16,
          18,
          13,
          10,
          16,
          15,
          16,
          12,
          14,
          19,
          12,
          11,
          12,
          12,
          15,
          12,
          9,
          10,
          10,
          12,
          14,
          8,
          14,
          18,
          10,
          12,
          12
         ],
         "xaxis": "x",
         "yaxis": "y"
        }
       ],
       "layout": {
        "barmode": "relative",
        "legend": {
         "tracegroupgap": 0
        },
        "margin": {
         "t": 60
        },
        "template": {
         "data": {
          "bar": [
           {
            "error_x": {
             "color": "#2a3f5f"
            },
            "error_y": {
             "color": "#2a3f5f"
            },
            "marker": {
             "line": {
              "color": "#E5ECF6",
              "width": 0.5
             }
            },
            "type": "bar"
           }
          ],
          "barpolar": [
           {
            "marker": {
             "line": {
              "color": "#E5ECF6",
              "width": 0.5
             }
            },
            "type": "barpolar"
           }
          ],
          "carpet": [
           {
            "aaxis": {
             "endlinecolor": "#2a3f5f",
             "gridcolor": "white",
             "linecolor": "white",
             "minorgridcolor": "white",
             "startlinecolor": "#2a3f5f"
            },
            "baxis": {
             "endlinecolor": "#2a3f5f",
             "gridcolor": "white",
             "linecolor": "white",
             "minorgridcolor": "white",
             "startlinecolor": "#2a3f5f"
            },
            "type": "carpet"
           }
          ],
          "choropleth": [
           {
            "colorbar": {
             "outlinewidth": 0,
             "ticks": ""
            },
            "type": "choropleth"
           }
          ],
          "contour": [
           {
            "colorbar": {
             "outlinewidth": 0,
             "ticks": ""
            },
            "colorscale": [
             [
              0,
              "#0d0887"
             ],
             [
              0.1111111111111111,
              "#46039f"
             ],
             [
              0.2222222222222222,
              "#7201a8"
             ],
             [
              0.3333333333333333,
              "#9c179e"
             ],
             [
              0.4444444444444444,
              "#bd3786"
             ],
             [
              0.5555555555555556,
              "#d8576b"
             ],
             [
              0.6666666666666666,
              "#ed7953"
             ],
             [
              0.7777777777777778,
              "#fb9f3a"
             ],
             [
              0.8888888888888888,
              "#fdca26"
             ],
             [
              1,
              "#f0f921"
             ]
            ],
            "type": "contour"
           }
          ],
          "contourcarpet": [
           {
            "colorbar": {
             "outlinewidth": 0,
             "ticks": ""
            },
            "type": "contourcarpet"
           }
          ],
          "heatmap": [
           {
            "colorbar": {
             "outlinewidth": 0,
             "ticks": ""
            },
            "colorscale": [
             [
              0,
              "#0d0887"
             ],
             [
              0.1111111111111111,
              "#46039f"
             ],
             [
              0.2222222222222222,
              "#7201a8"
             ],
             [
              0.3333333333333333,
              "#9c179e"
             ],
             [
              0.4444444444444444,
              "#bd3786"
             ],
             [
              0.5555555555555556,
              "#d8576b"
             ],
             [
              0.6666666666666666,
              "#ed7953"
             ],
             [
              0.7777777777777778,
              "#fb9f3a"
             ],
             [
              0.8888888888888888,
              "#fdca26"
             ],
             [
              1,
              "#f0f921"
             ]
            ],
            "type": "heatmap"
           }
          ],
          "heatmapgl": [
           {
            "colorbar": {
             "outlinewidth": 0,
             "ticks": ""
            },
            "colorscale": [
             [
              0,
              "#0d0887"
             ],
             [
              0.1111111111111111,
              "#46039f"
             ],
             [
              0.2222222222222222,
              "#7201a8"
             ],
             [
              0.3333333333333333,
              "#9c179e"
             ],
             [
              0.4444444444444444,
              "#bd3786"
             ],
             [
              0.5555555555555556,
              "#d8576b"
             ],
             [
              0.6666666666666666,
              "#ed7953"
             ],
             [
              0.7777777777777778,
              "#fb9f3a"
             ],
             [
              0.8888888888888888,
              "#fdca26"
             ],
             [
              1,
              "#f0f921"
             ]
            ],
            "type": "heatmapgl"
           }
          ],
          "histogram": [
           {
            "marker": {
             "colorbar": {
              "outlinewidth": 0,
              "ticks": ""
             }
            },
            "type": "histogram"
           }
          ],
          "histogram2d": [
           {
            "colorbar": {
             "outlinewidth": 0,
             "ticks": ""
            },
            "colorscale": [
             [
              0,
              "#0d0887"
             ],
             [
              0.1111111111111111,
              "#46039f"
             ],
             [
              0.2222222222222222,
              "#7201a8"
             ],
             [
              0.3333333333333333,
              "#9c179e"
             ],
             [
              0.4444444444444444,
              "#bd3786"
             ],
             [
              0.5555555555555556,
              "#d8576b"
             ],
             [
              0.6666666666666666,
              "#ed7953"
             ],
             [
              0.7777777777777778,
              "#fb9f3a"
             ],
             [
              0.8888888888888888,
              "#fdca26"
             ],
             [
              1,
              "#f0f921"
             ]
            ],
            "type": "histogram2d"
           }
          ],
          "histogram2dcontour": [
           {
            "colorbar": {
             "outlinewidth": 0,
             "ticks": ""
            },
            "colorscale": [
             [
              0,
              "#0d0887"
             ],
             [
              0.1111111111111111,
              "#46039f"
             ],
             [
              0.2222222222222222,
              "#7201a8"
             ],
             [
              0.3333333333333333,
              "#9c179e"
             ],
             [
              0.4444444444444444,
              "#bd3786"
             ],
             [
              0.5555555555555556,
              "#d8576b"
             ],
             [
              0.6666666666666666,
              "#ed7953"
             ],
             [
              0.7777777777777778,
              "#fb9f3a"
             ],
             [
              0.8888888888888888,
              "#fdca26"
             ],
             [
              1,
              "#f0f921"
             ]
            ],
            "type": "histogram2dcontour"
           }
          ],
          "mesh3d": [
           {
            "colorbar": {
             "outlinewidth": 0,
             "ticks": ""
            },
            "type": "mesh3d"
           }
          ],
          "parcoords": [
           {
            "line": {
             "colorbar": {
              "outlinewidth": 0,
              "ticks": ""
             }
            },
            "type": "parcoords"
           }
          ],
          "pie": [
           {
            "automargin": true,
            "type": "pie"
           }
          ],
          "scatter": [
           {
            "marker": {
             "colorbar": {
              "outlinewidth": 0,
              "ticks": ""
             }
            },
            "type": "scatter"
           }
          ],
          "scatter3d": [
           {
            "line": {
             "colorbar": {
              "outlinewidth": 0,
              "ticks": ""
             }
            },
            "marker": {
             "colorbar": {
              "outlinewidth": 0,
              "ticks": ""
             }
            },
            "type": "scatter3d"
           }
          ],
          "scattercarpet": [
           {
            "marker": {
             "colorbar": {
              "outlinewidth": 0,
              "ticks": ""
             }
            },
            "type": "scattercarpet"
           }
          ],
          "scattergeo": [
           {
            "marker": {
             "colorbar": {
              "outlinewidth": 0,
              "ticks": ""
             }
            },
            "type": "scattergeo"
           }
          ],
          "scattergl": [
           {
            "marker": {
             "colorbar": {
              "outlinewidth": 0,
              "ticks": ""
             }
            },
            "type": "scattergl"
           }
          ],
          "scattermapbox": [
           {
            "marker": {
             "colorbar": {
              "outlinewidth": 0,
              "ticks": ""
             }
            },
            "type": "scattermapbox"
           }
          ],
          "scatterpolar": [
           {
            "marker": {
             "colorbar": {
              "outlinewidth": 0,
              "ticks": ""
             }
            },
            "type": "scatterpolar"
           }
          ],
          "scatterpolargl": [
           {
            "marker": {
             "colorbar": {
              "outlinewidth": 0,
              "ticks": ""
             }
            },
            "type": "scatterpolargl"
           }
          ],
          "scatterternary": [
           {
            "marker": {
             "colorbar": {
              "outlinewidth": 0,
              "ticks": ""
             }
            },
            "type": "scatterternary"
           }
          ],
          "surface": [
           {
            "colorbar": {
             "outlinewidth": 0,
             "ticks": ""
            },
            "colorscale": [
             [
              0,
              "#0d0887"
             ],
             [
              0.1111111111111111,
              "#46039f"
             ],
             [
              0.2222222222222222,
              "#7201a8"
             ],
             [
              0.3333333333333333,
              "#9c179e"
             ],
             [
              0.4444444444444444,
              "#bd3786"
             ],
             [
              0.5555555555555556,
              "#d8576b"
             ],
             [
              0.6666666666666666,
              "#ed7953"
             ],
             [
              0.7777777777777778,
              "#fb9f3a"
             ],
             [
              0.8888888888888888,
              "#fdca26"
             ],
             [
              1,
              "#f0f921"
             ]
            ],
            "type": "surface"
           }
          ],
          "table": [
           {
            "cells": {
             "fill": {
              "color": "#EBF0F8"
             },
             "line": {
              "color": "white"
             }
            },
            "header": {
             "fill": {
              "color": "#C8D4E3"
             },
             "line": {
              "color": "white"
             }
            },
            "type": "table"
           }
          ]
         },
         "layout": {
          "annotationdefaults": {
           "arrowcolor": "#2a3f5f",
           "arrowhead": 0,
           "arrowwidth": 1
          },
          "coloraxis": {
           "colorbar": {
            "outlinewidth": 0,
            "ticks": ""
           }
          },
          "colorscale": {
           "diverging": [
            [
             0,
             "#8e0152"
            ],
            [
             0.1,
             "#c51b7d"
            ],
            [
             0.2,
             "#de77ae"
            ],
            [
             0.3,
             "#f1b6da"
            ],
            [
             0.4,
             "#fde0ef"
            ],
            [
             0.5,
             "#f7f7f7"
            ],
            [
             0.6,
             "#e6f5d0"
            ],
            [
             0.7,
             "#b8e186"
            ],
            [
             0.8,
             "#7fbc41"
            ],
            [
             0.9,
             "#4d9221"
            ],
            [
             1,
             "#276419"
            ]
           ],
           "sequential": [
            [
             0,
             "#0d0887"
            ],
            [
             0.1111111111111111,
             "#46039f"
            ],
            [
             0.2222222222222222,
             "#7201a8"
            ],
            [
             0.3333333333333333,
             "#9c179e"
            ],
            [
             0.4444444444444444,
             "#bd3786"
            ],
            [
             0.5555555555555556,
             "#d8576b"
            ],
            [
             0.6666666666666666,
             "#ed7953"
            ],
            [
             0.7777777777777778,
             "#fb9f3a"
            ],
            [
             0.8888888888888888,
             "#fdca26"
            ],
            [
             1,
             "#f0f921"
            ]
           ],
           "sequentialminus": [
            [
             0,
             "#0d0887"
            ],
            [
             0.1111111111111111,
             "#46039f"
            ],
            [
             0.2222222222222222,
             "#7201a8"
            ],
            [
             0.3333333333333333,
             "#9c179e"
            ],
            [
             0.4444444444444444,
             "#bd3786"
            ],
            [
             0.5555555555555556,
             "#d8576b"
            ],
            [
             0.6666666666666666,
             "#ed7953"
            ],
            [
             0.7777777777777778,
             "#fb9f3a"
            ],
            [
             0.8888888888888888,
             "#fdca26"
            ],
            [
             1,
             "#f0f921"
            ]
           ]
          },
          "colorway": [
           "#636efa",
           "#EF553B",
           "#00cc96",
           "#ab63fa",
           "#FFA15A",
           "#19d3f3",
           "#FF6692",
           "#B6E880",
           "#FF97FF",
           "#FECB52"
          ],
          "font": {
           "color": "#2a3f5f"
          },
          "geo": {
           "bgcolor": "white",
           "lakecolor": "white",
           "landcolor": "#E5ECF6",
           "showlakes": true,
           "showland": true,
           "subunitcolor": "white"
          },
          "hoverlabel": {
           "align": "left"
          },
          "hovermode": "closest",
          "mapbox": {
           "style": "light"
          },
          "paper_bgcolor": "white",
          "plot_bgcolor": "#E5ECF6",
          "polar": {
           "angularaxis": {
            "gridcolor": "white",
            "linecolor": "white",
            "ticks": ""
           },
           "bgcolor": "#E5ECF6",
           "radialaxis": {
            "gridcolor": "white",
            "linecolor": "white",
            "ticks": ""
           }
          },
          "scene": {
           "xaxis": {
            "backgroundcolor": "#E5ECF6",
            "gridcolor": "white",
            "gridwidth": 2,
            "linecolor": "white",
            "showbackground": true,
            "ticks": "",
            "zerolinecolor": "white"
           },
           "yaxis": {
            "backgroundcolor": "#E5ECF6",
            "gridcolor": "white",
            "gridwidth": 2,
            "linecolor": "white",
            "showbackground": true,
            "ticks": "",
            "zerolinecolor": "white"
           },
           "zaxis": {
            "backgroundcolor": "#E5ECF6",
            "gridcolor": "white",
            "gridwidth": 2,
            "linecolor": "white",
            "showbackground": true,
            "ticks": "",
            "zerolinecolor": "white"
           }
          },
          "shapedefaults": {
           "line": {
            "color": "#2a3f5f"
           }
          },
          "ternary": {
           "aaxis": {
            "gridcolor": "white",
            "linecolor": "white",
            "ticks": ""
           },
           "baxis": {
            "gridcolor": "white",
            "linecolor": "white",
            "ticks": ""
           },
           "bgcolor": "#E5ECF6",
           "caxis": {
            "gridcolor": "white",
            "linecolor": "white",
            "ticks": ""
           }
          },
          "title": {
           "x": 0.05
          },
          "xaxis": {
           "automargin": true,
           "gridcolor": "white",
           "linecolor": "white",
           "ticks": "",
           "title": {
            "standoff": 15
           },
           "zerolinecolor": "white",
           "zerolinewidth": 2
          },
          "yaxis": {
           "automargin": true,
           "gridcolor": "white",
           "linecolor": "white",
           "ticks": "",
           "title": {
            "standoff": 15
           },
           "zerolinecolor": "white",
           "zerolinewidth": 2
          }
         }
        },
        "xaxis": {
         "anchor": "y",
         "domain": [
          0,
          1
         ],
         "title": {
          "text": "Infections"
         }
        },
        "yaxis": {
         "anchor": "x",
         "domain": [
          0,
          1
         ],
         "title": {
          "text": "count"
         }
        }
       }
      }
     },
     "metadata": {}
    },
    {
     "output_type": "execute_result",
     "data": {
      "text/plain": "Infections     12.686000\nAttack rate     0.140956\ndtype: float64"
     },
     "metadata": {},
     "execution_count": 4
    }
   ],
   "source": [
    "import plotly.express as px\n",
    "df = pd.DataFrame(results, columns=[\"Infections\", \"Attack rate\"])\n",
    "fig = px.histogram(df, x=\"Infections\")\n",
    "fig.show()\n",
    "df.mean()"
   ]
  },
  {
   "cell_type": "code",
   "execution_count": 5,
   "metadata": {},
   "outputs": [],
   "source": [
    "file_db = pd.read_excel('./Configuration/Environment database.xlsx', header=4, engine='openpyxl')\n",
    "environments = file_db['environment']"
   ]
  },
  {
   "cell_type": "code",
   "execution_count": 6,
   "metadata": {},
   "outputs": [
    {
     "output_type": "execute_result",
     "data": {
      "text/plain": "0           Pharmacy-natural-No Lockdown\n1        Pharmacy-mechanical-No Lockdown\n2              Pharmacy-natural-Lockdown\n3           Pharmacy-mechanical-Lockdown\n4        Supermarket-natural-No Lockdown\n5     Supermarket-mechanical-No Lockdown\n6           Supermarket-natural-Lockdown\n7        Supermarket-mechanical-Lockdown\n8         Restaurant-natural-No Lockdown\n9      Restaurant-mechanical-No Lockdown\n10       Post Office-natural-No Lockdown\n11    Post Office-mechanical-No Lockdown\n12          Post Office-natural-Lockdown\n13       Post Office-mechanical-Lockdown\n14              Bank-natural-No Lockdown\n15           Bank-mechanical-No Lockdown\n16                 Bank-natural-Lockdown\n17              Bank-mechanical-Lockdown\nName: environment, dtype: object"
     },
     "metadata": {},
     "execution_count": 6
    }
   ],
   "source": [
    "environments"
   ]
  },
  {
   "cell_type": "code",
   "execution_count": 7,
   "metadata": {},
   "outputs": [
    {
     "output_type": "display_data",
     "data": {
      "text/plain": "HBox(children=(FloatProgress(value=0.0, description='Pharmacy-natural-No Lockdown', max=1000.0, style=Progress…",
      "application/vnd.jupyter.widget-view+json": {
       "version_major": 2,
       "version_minor": 0,
       "model_id": "5d1e824eceae45e8b688fa58ddc2e05f"
      }
     },
     "metadata": {}
    },
    {
     "output_type": "stream",
     "name": "stdout",
     "text": "\n"
    },
    {
     "output_type": "display_data",
     "data": {
      "text/plain": "HBox(children=(FloatProgress(value=0.0, description='Pharmacy-mechanical-No Lockdown', max=1000.0, style=Progr…",
      "application/vnd.jupyter.widget-view+json": {
       "version_major": 2,
       "version_minor": 0,
       "model_id": "f2032d90b62d4a519439a3d51b732d33"
      }
     },
     "metadata": {}
    },
    {
     "output_type": "stream",
     "name": "stdout",
     "text": "\n"
    },
    {
     "output_type": "display_data",
     "data": {
      "text/plain": "HBox(children=(FloatProgress(value=0.0, description='Pharmacy-natural-Lockdown', max=1000.0, style=ProgressSty…",
      "application/vnd.jupyter.widget-view+json": {
       "version_major": 2,
       "version_minor": 0,
       "model_id": "ecf486ada92948f2ab6656986ddf96b6"
      }
     },
     "metadata": {}
    },
    {
     "output_type": "stream",
     "name": "stdout",
     "text": "\n"
    },
    {
     "output_type": "display_data",
     "data": {
      "text/plain": "HBox(children=(FloatProgress(value=0.0, description='Pharmacy-mechanical-Lockdown', max=1000.0, style=Progress…",
      "application/vnd.jupyter.widget-view+json": {
       "version_major": 2,
       "version_minor": 0,
       "model_id": "fda90db7e8174ba7a66642e9e9a7ab2e"
      }
     },
     "metadata": {}
    },
    {
     "output_type": "stream",
     "name": "stdout",
     "text": "\n"
    },
    {
     "output_type": "display_data",
     "data": {
      "text/plain": "HBox(children=(FloatProgress(value=0.0, description='Supermarket-natural-No Lockdown', max=1000.0, style=Progr…",
      "application/vnd.jupyter.widget-view+json": {
       "version_major": 2,
       "version_minor": 0,
       "model_id": "eb3a4a1e3ae14bc19a6ab6b7646d784b"
      }
     },
     "metadata": {}
    },
    {
     "output_type": "stream",
     "name": "stdout",
     "text": "\n"
    },
    {
     "output_type": "display_data",
     "data": {
      "text/plain": "HBox(children=(FloatProgress(value=0.0, description='Supermarket-mechanical-No Lockdown', max=1000.0, style=Pr…",
      "application/vnd.jupyter.widget-view+json": {
       "version_major": 2,
       "version_minor": 0,
       "model_id": "ee51c5ca00df4719b66e2a224227c9bf"
      }
     },
     "metadata": {}
    },
    {
     "output_type": "stream",
     "name": "stdout",
     "text": "\n"
    },
    {
     "output_type": "display_data",
     "data": {
      "text/plain": "HBox(children=(FloatProgress(value=0.0, description='Supermarket-natural-Lockdown', max=1000.0, style=Progress…",
      "application/vnd.jupyter.widget-view+json": {
       "version_major": 2,
       "version_minor": 0,
       "model_id": "5470a719721a448db951e255213afa25"
      }
     },
     "metadata": {}
    },
    {
     "output_type": "stream",
     "name": "stdout",
     "text": "\n"
    },
    {
     "output_type": "display_data",
     "data": {
      "text/plain": "HBox(children=(FloatProgress(value=0.0, description='Supermarket-mechanical-Lockdown', max=1000.0, style=Progr…",
      "application/vnd.jupyter.widget-view+json": {
       "version_major": 2,
       "version_minor": 0,
       "model_id": "63390ed3e7444a00a08f8cb229dcbae1"
      }
     },
     "metadata": {}
    },
    {
     "output_type": "stream",
     "name": "stdout",
     "text": "\n"
    },
    {
     "output_type": "display_data",
     "data": {
      "text/plain": "HBox(children=(FloatProgress(value=0.0, description='Restaurant-natural-No Lockdown', max=1000.0, style=Progre…",
      "application/vnd.jupyter.widget-view+json": {
       "version_major": 2,
       "version_minor": 0,
       "model_id": "4cb0801a50f847958e70df4e242e7d07"
      }
     },
     "metadata": {}
    },
    {
     "output_type": "stream",
     "name": "stdout",
     "text": "\n"
    },
    {
     "output_type": "display_data",
     "data": {
      "text/plain": "HBox(children=(FloatProgress(value=0.0, description='Restaurant-mechanical-No Lockdown', max=1000.0, style=Pro…",
      "application/vnd.jupyter.widget-view+json": {
       "version_major": 2,
       "version_minor": 0,
       "model_id": "c929425d303349eaa7b8de7f6103ec1f"
      }
     },
     "metadata": {}
    },
    {
     "output_type": "stream",
     "name": "stdout",
     "text": "\n"
    },
    {
     "output_type": "display_data",
     "data": {
      "text/plain": "HBox(children=(FloatProgress(value=0.0, description='Post Office-natural-No Lockdown', max=1000.0, style=Progr…",
      "application/vnd.jupyter.widget-view+json": {
       "version_major": 2,
       "version_minor": 0,
       "model_id": "45667c9fc87144af81b7bf31cf40fb66"
      }
     },
     "metadata": {}
    },
    {
     "output_type": "stream",
     "name": "stdout",
     "text": "\n"
    },
    {
     "output_type": "display_data",
     "data": {
      "text/plain": "HBox(children=(FloatProgress(value=0.0, description='Post Office-mechanical-No Lockdown', max=1000.0, style=Pr…",
      "application/vnd.jupyter.widget-view+json": {
       "version_major": 2,
       "version_minor": 0,
       "model_id": "3e5014a703d142248db1c68412dae025"
      }
     },
     "metadata": {}
    },
    {
     "output_type": "stream",
     "name": "stdout",
     "text": "\n"
    },
    {
     "output_type": "display_data",
     "data": {
      "text/plain": "HBox(children=(FloatProgress(value=0.0, description='Post Office-natural-Lockdown', max=1000.0, style=Progress…",
      "application/vnd.jupyter.widget-view+json": {
       "version_major": 2,
       "version_minor": 0,
       "model_id": "5dfb71466a1049fa9aaf7268d29d8030"
      }
     },
     "metadata": {}
    },
    {
     "output_type": "stream",
     "name": "stdout",
     "text": "\n"
    },
    {
     "output_type": "display_data",
     "data": {
      "text/plain": "HBox(children=(FloatProgress(value=0.0, description='Post Office-mechanical-Lockdown', max=1000.0, style=Progr…",
      "application/vnd.jupyter.widget-view+json": {
       "version_major": 2,
       "version_minor": 0,
       "model_id": "2f8f7acc556f432d996a4c044c517ef1"
      }
     },
     "metadata": {}
    },
    {
     "output_type": "stream",
     "name": "stdout",
     "text": "\n"
    },
    {
     "output_type": "display_data",
     "data": {
      "text/plain": "HBox(children=(FloatProgress(value=0.0, description='Bank-natural-No Lockdown', max=1000.0, style=ProgressStyl…",
      "application/vnd.jupyter.widget-view+json": {
       "version_major": 2,
       "version_minor": 0,
       "model_id": "df3a20534ddc4c7d82cf393c2d2be278"
      }
     },
     "metadata": {}
    },
    {
     "output_type": "stream",
     "name": "stdout",
     "text": "\n"
    },
    {
     "output_type": "display_data",
     "data": {
      "text/plain": "HBox(children=(FloatProgress(value=0.0, description='Bank-mechanical-No Lockdown', max=1000.0, style=ProgressS…",
      "application/vnd.jupyter.widget-view+json": {
       "version_major": 2,
       "version_minor": 0,
       "model_id": "a6520cdc83e7476da3579a05db036066"
      }
     },
     "metadata": {}
    },
    {
     "output_type": "stream",
     "name": "stdout",
     "text": "\n"
    },
    {
     "output_type": "display_data",
     "data": {
      "text/plain": "HBox(children=(FloatProgress(value=0.0, description='Bank-natural-Lockdown', max=1000.0, style=ProgressStyle(d…",
      "application/vnd.jupyter.widget-view+json": {
       "version_major": 2,
       "version_minor": 0,
       "model_id": "b461da05c8304aa3a05ed11554957f44"
      }
     },
     "metadata": {}
    },
    {
     "output_type": "stream",
     "name": "stdout",
     "text": "\n"
    },
    {
     "output_type": "display_data",
     "data": {
      "text/plain": "HBox(children=(FloatProgress(value=0.0, description='Bank-mechanical-Lockdown', max=1000.0, style=ProgressStyl…",
      "application/vnd.jupyter.widget-view+json": {
       "version_major": 2,
       "version_minor": 0,
       "model_id": "8a410eb1cf8e47a699eb86bc272a7685"
      }
     },
     "metadata": {}
    },
    {
     "output_type": "stream",
     "name": "stdout",
     "text": "\n"
    }
   ],
   "source": [
    "sim_results = {}\n",
    "for _, environment_name in environments.items():\n",
    "\n",
    "    results = []\n",
    "    for i in tnrange(1000, desc=environment_name, leave=True):\n",
    "        results.append(run_simulation(environment_name))\n",
    "\n",
    "    df = pd.DataFrame(results, columns=[\"Infections\", \"Attack rate\"])\n",
    "    Infections = df.mean()['Infections']\n",
    "    sim_results[environment_name] = Infections\n"
   ]
  },
  {
   "cell_type": "code",
   "execution_count": 8,
   "metadata": {},
   "outputs": [
    {
     "output_type": "execute_result",
     "data": {
      "text/plain": "{'Pharmacy-natural-No Lockdown': 25.609,\n 'Pharmacy-mechanical-No Lockdown': 5.573,\n 'Pharmacy-natural-Lockdown': 12.854,\n 'Pharmacy-mechanical-Lockdown': 2.761,\n 'Supermarket-natural-No Lockdown': 0.008,\n 'Supermarket-mechanical-No Lockdown': 0.003,\n 'Supermarket-natural-Lockdown': 0.003,\n 'Supermarket-mechanical-Lockdown': 0.001,\n 'Restaurant-natural-No Lockdown': 150.438,\n 'Restaurant-mechanical-No Lockdown': 60.312,\n 'Post Office-natural-No Lockdown': 38.344,\n 'Post Office-mechanical-No Lockdown': 7.307,\n 'Post Office-natural-Lockdown': 1.98,\n 'Post Office-mechanical-Lockdown': 0.473,\n 'Bank-natural-No Lockdown': 50.694,\n 'Bank-mechanical-No Lockdown': 10.166,\n 'Bank-natural-Lockdown': 5.598,\n 'Bank-mechanical-Lockdown': 1.453}"
     },
     "metadata": {},
     "execution_count": 8
    }
   ],
   "source": [
    "sim_results"
   ]
  },
  {
   "cell_type": "code",
   "execution_count": null,
   "metadata": {},
   "outputs": [],
   "source": []
  }
 ],
 "metadata": {
  "language_info": {
   "codemirror_mode": {
    "name": "ipython",
    "version": 3
   },
   "file_extension": ".py",
   "mimetype": "text/x-python",
   "name": "python",
   "nbconvert_exporter": "python",
   "pygments_lexer": "ipython3",
   "version": "3.7.7-final"
  },
  "orig_nbformat": 2,
  "kernelspec": {
   "name": "python37764bitdes2020conda06b03b1cd12e49f4a2bda6a10d24292b",
   "display_name": "Python 3.7.7 64-bit ('DES2020': conda)"
  }
 },
 "nbformat": 4,
 "nbformat_minor": 2
}