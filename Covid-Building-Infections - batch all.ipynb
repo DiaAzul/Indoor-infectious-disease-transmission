{
 "cells": [
  {
   "cell_type": "markdown",
   "metadata": {},
   "source": [
    "# Calculate reproduction rate (R0) for infectious diseases within a micro-environment\n",
    "This model calculates the reproduction rate (R0) of infectious diseases (Covid19) within a micro-environment based upon dispersion of an aerosol within an enclosed space. It assumes the prime method of transmission is an aerosol and that the aerosol is well mixed across the space, i.e. there are no local concentrations which may impact on an individual's probability of being infected.\n",
    "\n",
    "** This notebook batch runs all of the environments defined within the configuration file using a multiprocess. The process is defined within a separate file so that it will run under windows **\n",
    "\n",
    "The modelling follows the approach set out in the paper:\n",
    "Buonanno, G., Stabile, L., & Morawska, L. (2020). Estimation of airborne viral emission: Quanta emission rate of SARS-CoV-2 for infection risk assessment [Preprint]. Infectious Diseases (except HIV/AIDS). https://doi.org/10.1101/2020.04.12.20062828"
   ]
  },
  {
   "cell_type": "code",
   "execution_count": 12,
   "metadata": {},
   "outputs": [],
   "source": [
    "import math\n",
    "import plotly.graph_objects as go\n",
    "import plotly.express as px\n",
    "import simpy\n",
    "import pandas as pd\n",
    "import numpy as np\n",
    "from tqdm.notebook import trange, tqdm, tnrange\n",
    "\n",
    "# Import local libraries\n",
    "from Simulation import Simulation"
   ]
  },
  {
   "cell_type": "code",
   "execution_count": 13,
   "metadata": {},
   "outputs": [],
   "source": [
    "file_db = pd.read_excel('./Configuration/Environment database.xlsx', header=4, engine='openpyxl')\n",
    "environments = file_db['environment']"
   ]
  },
  {
   "cell_type": "code",
   "execution_count": 14,
   "metadata": {},
   "outputs": [
    {
     "output_type": "display_data",
     "data": {
      "text/plain": "HBox(children=(FloatProgress(value=0.0, description='Pharmacy-natural-No Lockdown', max=1000.0, style=Progress…",
      "application/vnd.jupyter.widget-view+json": {
       "version_major": 2,
       "version_minor": 0,
       "model_id": "1d06acbc960c4d2aa72f8630057849b0"
      }
     },
     "metadata": {}
    },
    {
     "output_type": "stream",
     "name": "stdout",
     "text": "\n"
    },
    {
     "output_type": "display_data",
     "data": {
      "text/plain": "HBox(children=(FloatProgress(value=0.0, description='Pharmacy-mechanical-No Lockdown', max=1000.0, style=Progr…",
      "application/vnd.jupyter.widget-view+json": {
       "version_major": 2,
       "version_minor": 0,
       "model_id": "c7ab6984d2034fe08e9d9606d9427b83"
      }
     },
     "metadata": {}
    },
    {
     "output_type": "stream",
     "name": "stdout",
     "text": "\n"
    },
    {
     "output_type": "display_data",
     "data": {
      "text/plain": "HBox(children=(FloatProgress(value=0.0, description='Pharmacy-natural-Lockdown', max=1000.0, style=ProgressSty…",
      "application/vnd.jupyter.widget-view+json": {
       "version_major": 2,
       "version_minor": 0,
       "model_id": "9c76cbe9f68744f28062fadb675ee12b"
      }
     },
     "metadata": {}
    },
    {
     "output_type": "stream",
     "name": "stdout",
     "text": "\n"
    },
    {
     "output_type": "display_data",
     "data": {
      "text/plain": "HBox(children=(FloatProgress(value=0.0, description='Pharmacy-mechanical-Lockdown', max=1000.0, style=Progress…",
      "application/vnd.jupyter.widget-view+json": {
       "version_major": 2,
       "version_minor": 0,
       "model_id": "4b76818e2e284cd5b1e2384109540de0"
      }
     },
     "metadata": {}
    },
    {
     "output_type": "stream",
     "name": "stdout",
     "text": "\n"
    },
    {
     "output_type": "display_data",
     "data": {
      "text/plain": "HBox(children=(FloatProgress(value=0.0, description='Supermarket-natural-No Lockdown', max=1000.0, style=Progr…",
      "application/vnd.jupyter.widget-view+json": {
       "version_major": 2,
       "version_minor": 0,
       "model_id": "cadcfd4a60a54ca98380b51405783421"
      }
     },
     "metadata": {}
    },
    {
     "output_type": "stream",
     "name": "stdout",
     "text": "\n"
    },
    {
     "output_type": "display_data",
     "data": {
      "text/plain": "HBox(children=(FloatProgress(value=0.0, description='Supermarket-mechanical-No Lockdown', max=1000.0, style=Pr…",
      "application/vnd.jupyter.widget-view+json": {
       "version_major": 2,
       "version_minor": 0,
       "model_id": "83b6c29724fe458a994411ff55d250ed"
      }
     },
     "metadata": {}
    },
    {
     "output_type": "stream",
     "name": "stdout",
     "text": "\n"
    },
    {
     "output_type": "display_data",
     "data": {
      "text/plain": "HBox(children=(FloatProgress(value=0.0, description='Supermarket-natural-Lockdown', max=1000.0, style=Progress…",
      "application/vnd.jupyter.widget-view+json": {
       "version_major": 2,
       "version_minor": 0,
       "model_id": "5738f721dcf1408fbac428c933aaef5c"
      }
     },
     "metadata": {}
    },
    {
     "output_type": "stream",
     "name": "stdout",
     "text": "\n"
    },
    {
     "output_type": "display_data",
     "data": {
      "text/plain": "HBox(children=(FloatProgress(value=0.0, description='Supermarket-mechanical-Lockdown', max=1000.0, style=Progr…",
      "application/vnd.jupyter.widget-view+json": {
       "version_major": 2,
       "version_minor": 0,
       "model_id": "5f7ccb4c06e2428bb333b110fe64407b"
      }
     },
     "metadata": {}
    },
    {
     "output_type": "stream",
     "name": "stdout",
     "text": "\n"
    },
    {
     "output_type": "display_data",
     "data": {
      "text/plain": "HBox(children=(FloatProgress(value=0.0, description='Restaurant-natural-No Lockdown', max=1000.0, style=Progre…",
      "application/vnd.jupyter.widget-view+json": {
       "version_major": 2,
       "version_minor": 0,
       "model_id": "75d2d7a6437f486798e0a817f29e0799"
      }
     },
     "metadata": {}
    },
    {
     "output_type": "stream",
     "name": "stdout",
     "text": "\n"
    },
    {
     "output_type": "display_data",
     "data": {
      "text/plain": "HBox(children=(FloatProgress(value=0.0, description='Restaurant-mechanical-No Lockdown', max=1000.0, style=Pro…",
      "application/vnd.jupyter.widget-view+json": {
       "version_major": 2,
       "version_minor": 0,
       "model_id": "d7397d088f474d738ef534bf8f002ac7"
      }
     },
     "metadata": {}
    },
    {
     "output_type": "stream",
     "name": "stdout",
     "text": "\n"
    },
    {
     "output_type": "display_data",
     "data": {
      "text/plain": "HBox(children=(FloatProgress(value=0.0, description='Restaurant-Outdoor-No Lockdown', max=1000.0, style=Progre…",
      "application/vnd.jupyter.widget-view+json": {
       "version_major": 2,
       "version_minor": 0,
       "model_id": "14e289c342dc427a964564a80ecc5943"
      }
     },
     "metadata": {}
    },
    {
     "output_type": "stream",
     "name": "stdout",
     "text": "\n"
    },
    {
     "output_type": "display_data",
     "data": {
      "text/plain": "HBox(children=(FloatProgress(value=0.0, description='Post Office-natural-No Lockdown', max=1000.0, style=Progr…",
      "application/vnd.jupyter.widget-view+json": {
       "version_major": 2,
       "version_minor": 0,
       "model_id": "986c2bcdb82d4c2b8ad021579910a4b1"
      }
     },
     "metadata": {}
    },
    {
     "output_type": "stream",
     "name": "stdout",
     "text": "\n"
    },
    {
     "output_type": "display_data",
     "data": {
      "text/plain": "HBox(children=(FloatProgress(value=0.0, description='Post Office-mechanical-No Lockdown', max=1000.0, style=Pr…",
      "application/vnd.jupyter.widget-view+json": {
       "version_major": 2,
       "version_minor": 0,
       "model_id": "748d0998b52143bd8fdabc9d659c4b1a"
      }
     },
     "metadata": {}
    },
    {
     "output_type": "stream",
     "name": "stdout",
     "text": "\n"
    },
    {
     "output_type": "display_data",
     "data": {
      "text/plain": "HBox(children=(FloatProgress(value=0.0, description='Post Office-natural-Lockdown', max=1000.0, style=Progress…",
      "application/vnd.jupyter.widget-view+json": {
       "version_major": 2,
       "version_minor": 0,
       "model_id": "7f858c71a53e4538b8aaa3a815aee573"
      }
     },
     "metadata": {}
    },
    {
     "output_type": "stream",
     "name": "stdout",
     "text": "\n"
    },
    {
     "output_type": "display_data",
     "data": {
      "text/plain": "HBox(children=(FloatProgress(value=0.0, description='Post Office-mechanical-Lockdown', max=1000.0, style=Progr…",
      "application/vnd.jupyter.widget-view+json": {
       "version_major": 2,
       "version_minor": 0,
       "model_id": "0962d03664304b5f81d7eff256e31b3d"
      }
     },
     "metadata": {}
    },
    {
     "output_type": "stream",
     "name": "stdout",
     "text": "\n"
    },
    {
     "output_type": "display_data",
     "data": {
      "text/plain": "HBox(children=(FloatProgress(value=0.0, description='Bank-natural-No Lockdown', max=1000.0, style=ProgressStyl…",
      "application/vnd.jupyter.widget-view+json": {
       "version_major": 2,
       "version_minor": 0,
       "model_id": "08669dc412c2459d8d9d32f48f90e150"
      }
     },
     "metadata": {}
    },
    {
     "output_type": "stream",
     "name": "stdout",
     "text": "\n"
    },
    {
     "output_type": "display_data",
     "data": {
      "text/plain": "HBox(children=(FloatProgress(value=0.0, description='Bank-mechanical-No Lockdown', max=1000.0, style=ProgressS…",
      "application/vnd.jupyter.widget-view+json": {
       "version_major": 2,
       "version_minor": 0,
       "model_id": "364c73cff036426cbc5e85a491c7ab5a"
      }
     },
     "metadata": {}
    },
    {
     "output_type": "stream",
     "name": "stdout",
     "text": "\n"
    },
    {
     "output_type": "display_data",
     "data": {
      "text/plain": "HBox(children=(FloatProgress(value=0.0, description='Bank-natural-Lockdown', max=1000.0, style=ProgressStyle(d…",
      "application/vnd.jupyter.widget-view+json": {
       "version_major": 2,
       "version_minor": 0,
       "model_id": "d5f50e0707df495f87d9a2e4f0f8af04"
      }
     },
     "metadata": {}
    },
    {
     "output_type": "stream",
     "name": "stdout",
     "text": "\n"
    },
    {
     "output_type": "display_data",
     "data": {
      "text/plain": "HBox(children=(FloatProgress(value=0.0, description='Bank-mechanical-Lockdown', max=1000.0, style=ProgressStyl…",
      "application/vnd.jupyter.widget-view+json": {
       "version_major": 2,
       "version_minor": 0,
       "model_id": "81e69423e17845c29776e3c28c04e476"
      }
     },
     "metadata": {}
    },
    {
     "output_type": "stream",
     "name": "stdout",
     "text": "\n"
    },
    {
     "output_type": "display_data",
     "data": {
      "text/plain": "HBox(children=(FloatProgress(value=0.0, description='Lounge-Two People-Winter-15 Mins', max=1000.0, style=Prog…",
      "application/vnd.jupyter.widget-view+json": {
       "version_major": 2,
       "version_minor": 0,
       "model_id": "c12a4e0a8c80405da4826d9d7f3f39bf"
      }
     },
     "metadata": {}
    },
    {
     "output_type": "stream",
     "name": "stdout",
     "text": "\n"
    },
    {
     "output_type": "display_data",
     "data": {
      "text/plain": "HBox(children=(FloatProgress(value=0.0, description='Lounge-Two People-Winter-30 Mins', max=1000.0, style=Prog…",
      "application/vnd.jupyter.widget-view+json": {
       "version_major": 2,
       "version_minor": 0,
       "model_id": "ae520fa404bc47a88d15427263fb045a"
      }
     },
     "metadata": {}
    },
    {
     "output_type": "stream",
     "name": "stdout",
     "text": "\n"
    },
    {
     "output_type": "display_data",
     "data": {
      "text/plain": "HBox(children=(FloatProgress(value=0.0, description='Lounge-Two People-Winter-1 hour', max=1000.0, style=Progr…",
      "application/vnd.jupyter.widget-view+json": {
       "version_major": 2,
       "version_minor": 0,
       "model_id": "cb9934a552dc489c9d0dd1e79e5b0ce7"
      }
     },
     "metadata": {}
    },
    {
     "output_type": "stream",
     "name": "stdout",
     "text": "\n"
    },
    {
     "output_type": "display_data",
     "data": {
      "text/plain": "HBox(children=(FloatProgress(value=0.0, description='Lounge-Two People-Summer-15 Mins', max=1000.0, style=Prog…",
      "application/vnd.jupyter.widget-view+json": {
       "version_major": 2,
       "version_minor": 0,
       "model_id": "52c2afe783254a19ae4df9a7f1d5179c"
      }
     },
     "metadata": {}
    },
    {
     "output_type": "stream",
     "name": "stdout",
     "text": "\n"
    },
    {
     "output_type": "display_data",
     "data": {
      "text/plain": "HBox(children=(FloatProgress(value=0.0, description='Lounge-Two People-Summer-30 Mins', max=1000.0, style=Prog…",
      "application/vnd.jupyter.widget-view+json": {
       "version_major": 2,
       "version_minor": 0,
       "model_id": "92f7429d6fbc4c7380db11e0df0b2cf2"
      }
     },
     "metadata": {}
    },
    {
     "output_type": "stream",
     "name": "stdout",
     "text": "\n"
    },
    {
     "output_type": "display_data",
     "data": {
      "text/plain": "HBox(children=(FloatProgress(value=0.0, description='Lounge-Two People-Summer-1 hour', max=1000.0, style=Progr…",
      "application/vnd.jupyter.widget-view+json": {
       "version_major": 2,
       "version_minor": 0,
       "model_id": "ba17c3ae2f9d4c029b376857adcca2d8"
      }
     },
     "metadata": {}
    },
    {
     "output_type": "stream",
     "name": "stdout",
     "text": "\n"
    },
    {
     "output_type": "display_data",
     "data": {
      "text/plain": "HBox(children=(FloatProgress(value=0.0, description='Lounge-Two People-Outdoor-15 Mins', max=1000.0, style=Pro…",
      "application/vnd.jupyter.widget-view+json": {
       "version_major": 2,
       "version_minor": 0,
       "model_id": "dad494de248946409e5190d19720d2b6"
      }
     },
     "metadata": {}
    },
    {
     "output_type": "stream",
     "name": "stdout",
     "text": "\n"
    },
    {
     "output_type": "display_data",
     "data": {
      "text/plain": "HBox(children=(FloatProgress(value=0.0, description='Lounge-Two People-Outdoor-30 Mins', max=1000.0, style=Pro…",
      "application/vnd.jupyter.widget-view+json": {
       "version_major": 2,
       "version_minor": 0,
       "model_id": "fb5ac2aad1904964bbb5999c1de82620"
      }
     },
     "metadata": {}
    },
    {
     "output_type": "stream",
     "name": "stdout",
     "text": "\n"
    },
    {
     "output_type": "display_data",
     "data": {
      "text/plain": "HBox(children=(FloatProgress(value=0.0, description='Lounge-Two People-Outdoor-1 hour', max=1000.0, style=Prog…",
      "application/vnd.jupyter.widget-view+json": {
       "version_major": 2,
       "version_minor": 0,
       "model_id": "ddfa309fe7a44c14b8257e3338d660c0"
      }
     },
     "metadata": {}
    },
    {
     "output_type": "stream",
     "name": "stdout",
     "text": "\n"
    },
    {
     "output_type": "display_data",
     "data": {
      "text/plain": "HBox(children=(FloatProgress(value=0.0, description='Lounge-Six People-Winter-15 Mins', max=1000.0, style=Prog…",
      "application/vnd.jupyter.widget-view+json": {
       "version_major": 2,
       "version_minor": 0,
       "model_id": "ee8bb5986c09496ba77e9c2dac82dba8"
      }
     },
     "metadata": {}
    },
    {
     "output_type": "stream",
     "name": "stdout",
     "text": "\n"
    },
    {
     "output_type": "display_data",
     "data": {
      "text/plain": "HBox(children=(FloatProgress(value=0.0, description='Lounge-Six People-Winter-30 Mins', max=1000.0, style=Prog…",
      "application/vnd.jupyter.widget-view+json": {
       "version_major": 2,
       "version_minor": 0,
       "model_id": "ecba3865740b4ce787421ffb4428a9b7"
      }
     },
     "metadata": {}
    },
    {
     "output_type": "stream",
     "name": "stdout",
     "text": "\n"
    },
    {
     "output_type": "display_data",
     "data": {
      "text/plain": "HBox(children=(FloatProgress(value=0.0, description='Lounge-Six People-Winter-1 hour', max=1000.0, style=Progr…",
      "application/vnd.jupyter.widget-view+json": {
       "version_major": 2,
       "version_minor": 0,
       "model_id": "b65a6eed8f2344a294bb82ec5ffbb32b"
      }
     },
     "metadata": {}
    },
    {
     "output_type": "stream",
     "name": "stdout",
     "text": "\n"
    },
    {
     "output_type": "display_data",
     "data": {
      "text/plain": "HBox(children=(FloatProgress(value=0.0, description='Lounge-Six People-Summer-15 Mins', max=1000.0, style=Prog…",
      "application/vnd.jupyter.widget-view+json": {
       "version_major": 2,
       "version_minor": 0,
       "model_id": "f366bbfbc8f44ffcb874f23a3deab169"
      }
     },
     "metadata": {}
    },
    {
     "output_type": "stream",
     "name": "stdout",
     "text": "\n"
    },
    {
     "output_type": "display_data",
     "data": {
      "text/plain": "HBox(children=(FloatProgress(value=0.0, description='Lounge-Six People-Summer-30 Mins', max=1000.0, style=Prog…",
      "application/vnd.jupyter.widget-view+json": {
       "version_major": 2,
       "version_minor": 0,
       "model_id": "ffde930dde38425c8a2b20dceef7d814"
      }
     },
     "metadata": {}
    },
    {
     "output_type": "stream",
     "name": "stdout",
     "text": "\n"
    },
    {
     "output_type": "display_data",
     "data": {
      "text/plain": "HBox(children=(FloatProgress(value=0.0, description='Lounge-Six People-Summer-1 hour', max=1000.0, style=Progr…",
      "application/vnd.jupyter.widget-view+json": {
       "version_major": 2,
       "version_minor": 0,
       "model_id": "2256e5dc81784a1b9ad1b1910464781d"
      }
     },
     "metadata": {}
    },
    {
     "output_type": "stream",
     "name": "stdout",
     "text": "\n"
    },
    {
     "output_type": "display_data",
     "data": {
      "text/plain": "HBox(children=(FloatProgress(value=0.0, description='Lounge-Six People-Outdoor-15 Mins', max=1000.0, style=Pro…",
      "application/vnd.jupyter.widget-view+json": {
       "version_major": 2,
       "version_minor": 0,
       "model_id": "a8b3647635e64a149f1e470abed663bb"
      }
     },
     "metadata": {}
    },
    {
     "output_type": "stream",
     "name": "stdout",
     "text": "\n"
    },
    {
     "output_type": "display_data",
     "data": {
      "text/plain": "HBox(children=(FloatProgress(value=0.0, description='Lounge-Six People-Outdoor-30 Mins', max=1000.0, style=Pro…",
      "application/vnd.jupyter.widget-view+json": {
       "version_major": 2,
       "version_minor": 0,
       "model_id": "6c54e0864d484bab87ce5f0169fcadf2"
      }
     },
     "metadata": {}
    },
    {
     "output_type": "stream",
     "name": "stdout",
     "text": "\n"
    },
    {
     "output_type": "display_data",
     "data": {
      "text/plain": "HBox(children=(FloatProgress(value=0.0, description='Lounge-Six People-Outdoor-1 hour', max=1000.0, style=Prog…",
      "application/vnd.jupyter.widget-view+json": {
       "version_major": 2,
       "version_minor": 0,
       "model_id": "1de454dd6d8e4e169341e41bc862bbfd"
      }
     },
     "metadata": {}
    },
    {
     "output_type": "stream",
     "name": "stdout",
     "text": "\n"
    }
   ],
   "source": [
    "import multiprocess as mp\n",
    "from run_parallel_simulation import run_parallel_simulation\n",
    "sim_results = {}\n",
    "\n",
    "for _, environment_name in environments.items():\n",
    "\n",
    "    results = []\n",
    "\n",
    "    max_iter = 1000\n",
    "    with mp.Pool(max(1, int(os.cpu_count()*2/3-1))) as pool:\n",
    "        results = list(tqdm(pool.imap(run_parallel_simulation, iter([environment_name] * max_iter)), desc=environment_name, total=max_iter))\n",
    "\n",
    "    df = pd.DataFrame(results, columns=[\"Infections\", \"Total visitors\", \"Attack rate\"])\n",
    "\n",
    "    infections_mean = df.mean()['Infections']\n",
    "    infections_sd = df.std()['Infections']\n",
    "    total_visitors_mean = df.mean()['Total visitors']\n",
    "    total_visitors_sd = df.std()['Total visitors']\n",
    "    attack_rate = infections_mean / total_visitors_mean\n",
    "\n",
    "    sim_results[environment_name] = (infections_mean, infections_sd, total_visitors_mean, total_visitors_sd, attack_rate)\n"
   ]
  },
  {
   "cell_type": "code",
   "execution_count": 15,
   "metadata": {},
   "outputs": [
    {
     "output_type": "execute_result",
     "data": {
      "text/plain": "                                    infections mean  infections sd  \\\nPharmacy-natural-No Lockdown                  4.576       2.079555   \nPharmacy-mechanical-No Lockdown               0.921       0.909718   \nPharmacy-natural-Lockdown                     2.295       1.469740   \nPharmacy-mechanical-Lockdown                  0.462       0.667084   \nSupermarket-natural-No Lockdown               2.911       1.698813   \nSupermarket-mechanical-No Lockdown            1.098       1.017562   \nSupermarket-natural-Lockdown                  0.458       0.677270   \nSupermarket-mechanical-Lockdown               0.198       0.439305   \nRestaurant-natural-No Lockdown               43.516       5.485785   \nRestaurant-mechanical-No Lockdown             1.926       1.353646   \nRestaurant-Outdoor-No Lockdown                4.851       2.122570   \nPost Office-natural-No Lockdown               4.696       2.175849   \nPost Office-mechanical-No Lockdown            0.878       0.918673   \nPost Office-natural-Lockdown                  0.317       0.539260   \nPost Office-mechanical-Lockdown               0.095       0.300108   \nBank-natural-No Lockdown                      7.029       2.596324   \nBank-mechanical-No Lockdown                   1.244       1.089794   \nBank-natural-Lockdown                         0.978       1.003256   \nBank-mechanical-Lockdown                      0.248       0.496732   \nLounge-Two People-Winter-15 Mins              0.086       0.280504   \nLounge-Two People-Winter-30 Mins              0.281       0.449712   \nLounge-Two People-Winter-1 hour               0.724       0.447240   \nLounge-Two People-Summer-15 Mins              0.072       0.258617   \nLounge-Two People-Summer-30 Mins              0.203       0.402434   \nLounge-Two People-Summer-1 hour               0.494       0.500214   \nLounge-Two People-Outdoor-15 Mins             0.001       0.031623   \nLounge-Two People-Outdoor-30 Mins             0.007       0.083414   \nLounge-Two People-Outdoor-1 hour              0.021       0.143456   \nLounge-Six People-Winter-15 Mins              0.575       0.675893   \nLounge-Six People-Winter-30 Mins              1.711       1.048131   \nLounge-Six People-Winter-1 hour               3.696       0.970838   \nLounge-Six People-Summer-15 Mins              0.418       0.629024   \nLounge-Six People-Summer-30 Mins              0.991       0.898736   \nLounge-Six People-Summer-1 hour               2.005       1.063064   \nLounge-Six People-Outdoor-15 Mins             0.006       0.077266   \nLounge-Six People-Outdoor-30 Mins             0.028       0.171012   \nLounge-Six People-Outdoor-1 hour              0.115       0.337474   \n\n                                    visitors mean  visitors sd  attack rate  \nPharmacy-natural-No Lockdown                180.0          0.0     0.025422  \nPharmacy-mechanical-No Lockdown             180.0          0.0     0.005117  \nPharmacy-natural-Lockdown                    90.0          0.0     0.025500  \nPharmacy-mechanical-Lockdown                 90.0          0.0     0.005133  \nSupermarket-natural-No Lockdown             360.0          0.0     0.008086  \nSupermarket-mechanical-No Lockdown          360.0          0.0     0.003050  \nSupermarket-natural-Lockdown                 60.0          0.0     0.007633  \nSupermarket-mechanical-Lockdown              60.0          0.0     0.003300  \nRestaurant-natural-No Lockdown              160.0          0.0     0.271975  \nRestaurant-mechanical-No Lockdown           160.0          0.0     0.012037  \nRestaurant-Outdoor-No Lockdown              160.0          0.0     0.030319  \nPost Office-natural-No Lockdown             360.0          0.0     0.013044  \nPost Office-mechanical-No Lockdown          360.0          0.0     0.002439  \nPost Office-natural-Lockdown                 72.0          0.0     0.004403  \nPost Office-mechanical-Lockdown              72.0          0.0     0.001319  \nBank-natural-No Lockdown                    180.0          0.0     0.039050  \nBank-mechanical-No Lockdown                 180.0          0.0     0.006911  \nBank-natural-Lockdown                        72.0          0.0     0.013583  \nBank-mechanical-Lockdown                     72.0          0.0     0.003444  \nLounge-Two People-Winter-15 Mins              2.0          0.0     0.043000  \nLounge-Two People-Winter-30 Mins              2.0          0.0     0.140500  \nLounge-Two People-Winter-1 hour               2.0          0.0     0.362000  \nLounge-Two People-Summer-15 Mins              2.0          0.0     0.036000  \nLounge-Two People-Summer-30 Mins              2.0          0.0     0.101500  \nLounge-Two People-Summer-1 hour               2.0          0.0     0.247000  \nLounge-Two People-Outdoor-15 Mins             2.0          0.0     0.000500  \nLounge-Two People-Outdoor-30 Mins             2.0          0.0     0.003500  \nLounge-Two People-Outdoor-1 hour              2.0          0.0     0.010500  \nLounge-Six People-Winter-15 Mins              6.0          0.0     0.095833  \nLounge-Six People-Winter-30 Mins              6.0          0.0     0.285167  \nLounge-Six People-Winter-1 hour               6.0          0.0     0.616000  \nLounge-Six People-Summer-15 Mins              6.0          0.0     0.069667  \nLounge-Six People-Summer-30 Mins              6.0          0.0     0.165167  \nLounge-Six People-Summer-1 hour               6.0          0.0     0.334167  \nLounge-Six People-Outdoor-15 Mins             6.0          0.0     0.001000  \nLounge-Six People-Outdoor-30 Mins             6.0          0.0     0.004667  \nLounge-Six People-Outdoor-1 hour              6.0          0.0     0.019167  ",
      "text/html": "<div>\n<style scoped>\n    .dataframe tbody tr th:only-of-type {\n        vertical-align: middle;\n    }\n\n    .dataframe tbody tr th {\n        vertical-align: top;\n    }\n\n    .dataframe thead th {\n        text-align: right;\n    }\n</style>\n<table border=\"1\" class=\"dataframe\">\n  <thead>\n    <tr style=\"text-align: right;\">\n      <th></th>\n      <th>infections mean</th>\n      <th>infections sd</th>\n      <th>visitors mean</th>\n      <th>visitors sd</th>\n      <th>attack rate</th>\n    </tr>\n  </thead>\n  <tbody>\n    <tr>\n      <th>Pharmacy-natural-No Lockdown</th>\n      <td>4.576</td>\n      <td>2.079555</td>\n      <td>180.0</td>\n      <td>0.0</td>\n      <td>0.025422</td>\n    </tr>\n    <tr>\n      <th>Pharmacy-mechanical-No Lockdown</th>\n      <td>0.921</td>\n      <td>0.909718</td>\n      <td>180.0</td>\n      <td>0.0</td>\n      <td>0.005117</td>\n    </tr>\n    <tr>\n      <th>Pharmacy-natural-Lockdown</th>\n      <td>2.295</td>\n      <td>1.469740</td>\n      <td>90.0</td>\n      <td>0.0</td>\n      <td>0.025500</td>\n    </tr>\n    <tr>\n      <th>Pharmacy-mechanical-Lockdown</th>\n      <td>0.462</td>\n      <td>0.667084</td>\n      <td>90.0</td>\n      <td>0.0</td>\n      <td>0.005133</td>\n    </tr>\n    <tr>\n      <th>Supermarket-natural-No Lockdown</th>\n      <td>2.911</td>\n      <td>1.698813</td>\n      <td>360.0</td>\n      <td>0.0</td>\n      <td>0.008086</td>\n    </tr>\n    <tr>\n      <th>Supermarket-mechanical-No Lockdown</th>\n      <td>1.098</td>\n      <td>1.017562</td>\n      <td>360.0</td>\n      <td>0.0</td>\n      <td>0.003050</td>\n    </tr>\n    <tr>\n      <th>Supermarket-natural-Lockdown</th>\n      <td>0.458</td>\n      <td>0.677270</td>\n      <td>60.0</td>\n      <td>0.0</td>\n      <td>0.007633</td>\n    </tr>\n    <tr>\n      <th>Supermarket-mechanical-Lockdown</th>\n      <td>0.198</td>\n      <td>0.439305</td>\n      <td>60.0</td>\n      <td>0.0</td>\n      <td>0.003300</td>\n    </tr>\n    <tr>\n      <th>Restaurant-natural-No Lockdown</th>\n      <td>43.516</td>\n      <td>5.485785</td>\n      <td>160.0</td>\n      <td>0.0</td>\n      <td>0.271975</td>\n    </tr>\n    <tr>\n      <th>Restaurant-mechanical-No Lockdown</th>\n      <td>1.926</td>\n      <td>1.353646</td>\n      <td>160.0</td>\n      <td>0.0</td>\n      <td>0.012037</td>\n    </tr>\n    <tr>\n      <th>Restaurant-Outdoor-No Lockdown</th>\n      <td>4.851</td>\n      <td>2.122570</td>\n      <td>160.0</td>\n      <td>0.0</td>\n      <td>0.030319</td>\n    </tr>\n    <tr>\n      <th>Post Office-natural-No Lockdown</th>\n      <td>4.696</td>\n      <td>2.175849</td>\n      <td>360.0</td>\n      <td>0.0</td>\n      <td>0.013044</td>\n    </tr>\n    <tr>\n      <th>Post Office-mechanical-No Lockdown</th>\n      <td>0.878</td>\n      <td>0.918673</td>\n      <td>360.0</td>\n      <td>0.0</td>\n      <td>0.002439</td>\n    </tr>\n    <tr>\n      <th>Post Office-natural-Lockdown</th>\n      <td>0.317</td>\n      <td>0.539260</td>\n      <td>72.0</td>\n      <td>0.0</td>\n      <td>0.004403</td>\n    </tr>\n    <tr>\n      <th>Post Office-mechanical-Lockdown</th>\n      <td>0.095</td>\n      <td>0.300108</td>\n      <td>72.0</td>\n      <td>0.0</td>\n      <td>0.001319</td>\n    </tr>\n    <tr>\n      <th>Bank-natural-No Lockdown</th>\n      <td>7.029</td>\n      <td>2.596324</td>\n      <td>180.0</td>\n      <td>0.0</td>\n      <td>0.039050</td>\n    </tr>\n    <tr>\n      <th>Bank-mechanical-No Lockdown</th>\n      <td>1.244</td>\n      <td>1.089794</td>\n      <td>180.0</td>\n      <td>0.0</td>\n      <td>0.006911</td>\n    </tr>\n    <tr>\n      <th>Bank-natural-Lockdown</th>\n      <td>0.978</td>\n      <td>1.003256</td>\n      <td>72.0</td>\n      <td>0.0</td>\n      <td>0.013583</td>\n    </tr>\n    <tr>\n      <th>Bank-mechanical-Lockdown</th>\n      <td>0.248</td>\n      <td>0.496732</td>\n      <td>72.0</td>\n      <td>0.0</td>\n      <td>0.003444</td>\n    </tr>\n    <tr>\n      <th>Lounge-Two People-Winter-15 Mins</th>\n      <td>0.086</td>\n      <td>0.280504</td>\n      <td>2.0</td>\n      <td>0.0</td>\n      <td>0.043000</td>\n    </tr>\n    <tr>\n      <th>Lounge-Two People-Winter-30 Mins</th>\n      <td>0.281</td>\n      <td>0.449712</td>\n      <td>2.0</td>\n      <td>0.0</td>\n      <td>0.140500</td>\n    </tr>\n    <tr>\n      <th>Lounge-Two People-Winter-1 hour</th>\n      <td>0.724</td>\n      <td>0.447240</td>\n      <td>2.0</td>\n      <td>0.0</td>\n      <td>0.362000</td>\n    </tr>\n    <tr>\n      <th>Lounge-Two People-Summer-15 Mins</th>\n      <td>0.072</td>\n      <td>0.258617</td>\n      <td>2.0</td>\n      <td>0.0</td>\n      <td>0.036000</td>\n    </tr>\n    <tr>\n      <th>Lounge-Two People-Summer-30 Mins</th>\n      <td>0.203</td>\n      <td>0.402434</td>\n      <td>2.0</td>\n      <td>0.0</td>\n      <td>0.101500</td>\n    </tr>\n    <tr>\n      <th>Lounge-Two People-Summer-1 hour</th>\n      <td>0.494</td>\n      <td>0.500214</td>\n      <td>2.0</td>\n      <td>0.0</td>\n      <td>0.247000</td>\n    </tr>\n    <tr>\n      <th>Lounge-Two People-Outdoor-15 Mins</th>\n      <td>0.001</td>\n      <td>0.031623</td>\n      <td>2.0</td>\n      <td>0.0</td>\n      <td>0.000500</td>\n    </tr>\n    <tr>\n      <th>Lounge-Two People-Outdoor-30 Mins</th>\n      <td>0.007</td>\n      <td>0.083414</td>\n      <td>2.0</td>\n      <td>0.0</td>\n      <td>0.003500</td>\n    </tr>\n    <tr>\n      <th>Lounge-Two People-Outdoor-1 hour</th>\n      <td>0.021</td>\n      <td>0.143456</td>\n      <td>2.0</td>\n      <td>0.0</td>\n      <td>0.010500</td>\n    </tr>\n    <tr>\n      <th>Lounge-Six People-Winter-15 Mins</th>\n      <td>0.575</td>\n      <td>0.675893</td>\n      <td>6.0</td>\n      <td>0.0</td>\n      <td>0.095833</td>\n    </tr>\n    <tr>\n      <th>Lounge-Six People-Winter-30 Mins</th>\n      <td>1.711</td>\n      <td>1.048131</td>\n      <td>6.0</td>\n      <td>0.0</td>\n      <td>0.285167</td>\n    </tr>\n    <tr>\n      <th>Lounge-Six People-Winter-1 hour</th>\n      <td>3.696</td>\n      <td>0.970838</td>\n      <td>6.0</td>\n      <td>0.0</td>\n      <td>0.616000</td>\n    </tr>\n    <tr>\n      <th>Lounge-Six People-Summer-15 Mins</th>\n      <td>0.418</td>\n      <td>0.629024</td>\n      <td>6.0</td>\n      <td>0.0</td>\n      <td>0.069667</td>\n    </tr>\n    <tr>\n      <th>Lounge-Six People-Summer-30 Mins</th>\n      <td>0.991</td>\n      <td>0.898736</td>\n      <td>6.0</td>\n      <td>0.0</td>\n      <td>0.165167</td>\n    </tr>\n    <tr>\n      <th>Lounge-Six People-Summer-1 hour</th>\n      <td>2.005</td>\n      <td>1.063064</td>\n      <td>6.0</td>\n      <td>0.0</td>\n      <td>0.334167</td>\n    </tr>\n    <tr>\n      <th>Lounge-Six People-Outdoor-15 Mins</th>\n      <td>0.006</td>\n      <td>0.077266</td>\n      <td>6.0</td>\n      <td>0.0</td>\n      <td>0.001000</td>\n    </tr>\n    <tr>\n      <th>Lounge-Six People-Outdoor-30 Mins</th>\n      <td>0.028</td>\n      <td>0.171012</td>\n      <td>6.0</td>\n      <td>0.0</td>\n      <td>0.004667</td>\n    </tr>\n    <tr>\n      <th>Lounge-Six People-Outdoor-1 hour</th>\n      <td>0.115</td>\n      <td>0.337474</td>\n      <td>6.0</td>\n      <td>0.0</td>\n      <td>0.019167</td>\n    </tr>\n  </tbody>\n</table>\n</div>"
     },
     "metadata": {},
     "execution_count": 15
    }
   ],
   "source": [
    "df_results = pd.DataFrame.from_dict(sim_results, orient='index', columns=['infections mean', 'infections sd','visitors mean', 'visitors sd', 'attack rate'])\n",
    "df_results"
   ]
  },
  {
   "cell_type": "code",
   "execution_count": 16,
   "metadata": {},
   "outputs": [
    {
     "output_type": "display_data",
     "data": {
      "application/vnd.plotly.v1+json": {
       "config": {
        "plotlyServerURL": "https://plot.ly"
       },
       "data": [
        {
         "customdata": [
          [
           "Pharmacy-natural-No Lockdown"
          ],
          [
           "Pharmacy-mechanical-No Lockdown"
          ],
          [
           "Pharmacy-natural-Lockdown"
          ],
          [
           "Pharmacy-mechanical-Lockdown"
          ],
          [
           "Supermarket-natural-No Lockdown"
          ],
          [
           "Supermarket-mechanical-No Lockdown"
          ],
          [
           "Supermarket-natural-Lockdown"
          ],
          [
           "Supermarket-mechanical-Lockdown"
          ],
          [
           "Restaurant-natural-No Lockdown"
          ],
          [
           "Restaurant-mechanical-No Lockdown"
          ],
          [
           "Restaurant-Outdoor-No Lockdown"
          ],
          [
           "Post Office-natural-No Lockdown"
          ],
          [
           "Post Office-mechanical-No Lockdown"
          ],
          [
           "Post Office-natural-Lockdown"
          ],
          [
           "Post Office-mechanical-Lockdown"
          ],
          [
           "Bank-natural-No Lockdown"
          ],
          [
           "Bank-mechanical-No Lockdown"
          ],
          [
           "Bank-natural-Lockdown"
          ],
          [
           "Bank-mechanical-Lockdown"
          ],
          [
           "Lounge-Two People-Winter-15 Mins"
          ],
          [
           "Lounge-Two People-Winter-30 Mins"
          ],
          [
           "Lounge-Two People-Winter-1 hour"
          ],
          [
           "Lounge-Two People-Summer-15 Mins"
          ],
          [
           "Lounge-Two People-Summer-30 Mins"
          ],
          [
           "Lounge-Two People-Summer-1 hour"
          ],
          [
           "Lounge-Two People-Outdoor-15 Mins"
          ],
          [
           "Lounge-Two People-Outdoor-30 Mins"
          ],
          [
           "Lounge-Two People-Outdoor-1 hour"
          ],
          [
           "Lounge-Six People-Winter-15 Mins"
          ],
          [
           "Lounge-Six People-Winter-30 Mins"
          ],
          [
           "Lounge-Six People-Winter-1 hour"
          ],
          [
           "Lounge-Six People-Summer-15 Mins"
          ],
          [
           "Lounge-Six People-Summer-30 Mins"
          ],
          [
           "Lounge-Six People-Summer-1 hour"
          ],
          [
           "Lounge-Six People-Outdoor-15 Mins"
          ],
          [
           "Lounge-Six People-Outdoor-30 Mins"
          ],
          [
           "Lounge-Six People-Outdoor-1 hour"
          ]
         ],
         "hovertemplate": "visitors mean=%{x}<br>attack rate=%{y}<br>hover_data_0=%{customdata[0]}<extra></extra>",
         "legendgroup": "",
         "marker": {
          "color": "#636efa",
          "symbol": "circle"
         },
         "mode": "markers",
         "name": "",
         "showlegend": false,
         "type": "scatter",
         "x": [
          180,
          180,
          90,
          90,
          360,
          360,
          60,
          60,
          160,
          160,
          160,
          360,
          360,
          72,
          72,
          180,
          180,
          72,
          72,
          2,
          2,
          2,
          2,
          2,
          2,
          2,
          2,
          2,
          6,
          6,
          6,
          6,
          6,
          6,
          6,
          6,
          6
         ],
         "xaxis": "x",
         "y": [
          0.02542222222222222,
          0.005116666666666667,
          0.0255,
          0.0051333333333333335,
          0.008086111111111112,
          0.00305,
          0.007633333333333334,
          0.0033,
          0.27197499999999997,
          0.0120375,
          0.03031875,
          0.013044444444444444,
          0.002438888888888889,
          0.004402777777777778,
          0.0013194444444444445,
          0.03905,
          0.006911111111111111,
          0.013583333333333333,
          0.0034444444444444444,
          0.043,
          0.1405,
          0.362,
          0.036,
          0.1015,
          0.247,
          0.0005,
          0.0035,
          0.0105,
          0.09583333333333333,
          0.2851666666666667,
          0.616,
          0.06966666666666667,
          0.16516666666666666,
          0.33416666666666667,
          0.001,
          0.004666666666666667,
          0.01916666666666667
         ],
         "yaxis": "y"
        }
       ],
       "layout": {
        "legend": {
         "tracegroupgap": 0
        },
        "margin": {
         "t": 60
        },
        "template": {
         "data": {
          "bar": [
           {
            "error_x": {
             "color": "#2a3f5f"
            },
            "error_y": {
             "color": "#2a3f5f"
            },
            "marker": {
             "line": {
              "color": "#E5ECF6",
              "width": 0.5
             }
            },
            "type": "bar"
           }
          ],
          "barpolar": [
           {
            "marker": {
             "line": {
              "color": "#E5ECF6",
              "width": 0.5
             }
            },
            "type": "barpolar"
           }
          ],
          "carpet": [
           {
            "aaxis": {
             "endlinecolor": "#2a3f5f",
             "gridcolor": "white",
             "linecolor": "white",
             "minorgridcolor": "white",
             "startlinecolor": "#2a3f5f"
            },
            "baxis": {
             "endlinecolor": "#2a3f5f",
             "gridcolor": "white",
             "linecolor": "white",
             "minorgridcolor": "white",
             "startlinecolor": "#2a3f5f"
            },
            "type": "carpet"
           }
          ],
          "choropleth": [
           {
            "colorbar": {
             "outlinewidth": 0,
             "ticks": ""
            },
            "type": "choropleth"
           }
          ],
          "contour": [
           {
            "colorbar": {
             "outlinewidth": 0,
             "ticks": ""
            },
            "colorscale": [
             [
              0,
              "#0d0887"
             ],
             [
              0.1111111111111111,
              "#46039f"
             ],
             [
              0.2222222222222222,
              "#7201a8"
             ],
             [
              0.3333333333333333,
              "#9c179e"
             ],
             [
              0.4444444444444444,
              "#bd3786"
             ],
             [
              0.5555555555555556,
              "#d8576b"
             ],
             [
              0.6666666666666666,
              "#ed7953"
             ],
             [
              0.7777777777777778,
              "#fb9f3a"
             ],
             [
              0.8888888888888888,
              "#fdca26"
             ],
             [
              1,
              "#f0f921"
             ]
            ],
            "type": "contour"
           }
          ],
          "contourcarpet": [
           {
            "colorbar": {
             "outlinewidth": 0,
             "ticks": ""
            },
            "type": "contourcarpet"
           }
          ],
          "heatmap": [
           {
            "colorbar": {
             "outlinewidth": 0,
             "ticks": ""
            },
            "colorscale": [
             [
              0,
              "#0d0887"
             ],
             [
              0.1111111111111111,
              "#46039f"
             ],
             [
              0.2222222222222222,
              "#7201a8"
             ],
             [
              0.3333333333333333,
              "#9c179e"
             ],
             [
              0.4444444444444444,
              "#bd3786"
             ],
             [
              0.5555555555555556,
              "#d8576b"
             ],
             [
              0.6666666666666666,
              "#ed7953"
             ],
             [
              0.7777777777777778,
              "#fb9f3a"
             ],
             [
              0.8888888888888888,
              "#fdca26"
             ],
             [
              1,
              "#f0f921"
             ]
            ],
            "type": "heatmap"
           }
          ],
          "heatmapgl": [
           {
            "colorbar": {
             "outlinewidth": 0,
             "ticks": ""
            },
            "colorscale": [
             [
              0,
              "#0d0887"
             ],
             [
              0.1111111111111111,
              "#46039f"
             ],
             [
              0.2222222222222222,
              "#7201a8"
             ],
             [
              0.3333333333333333,
              "#9c179e"
             ],
             [
              0.4444444444444444,
              "#bd3786"
             ],
             [
              0.5555555555555556,
              "#d8576b"
             ],
             [
              0.6666666666666666,
              "#ed7953"
             ],
             [
              0.7777777777777778,
              "#fb9f3a"
             ],
             [
              0.8888888888888888,
              "#fdca26"
             ],
             [
              1,
              "#f0f921"
             ]
            ],
            "type": "heatmapgl"
           }
          ],
          "histogram": [
           {
            "marker": {
             "colorbar": {
              "outlinewidth": 0,
              "ticks": ""
             }
            },
            "type": "histogram"
           }
          ],
          "histogram2d": [
           {
            "colorbar": {
             "outlinewidth": 0,
             "ticks": ""
            },
            "colorscale": [
             [
              0,
              "#0d0887"
             ],
             [
              0.1111111111111111,
              "#46039f"
             ],
             [
              0.2222222222222222,
              "#7201a8"
             ],
             [
              0.3333333333333333,
              "#9c179e"
             ],
             [
              0.4444444444444444,
              "#bd3786"
             ],
             [
              0.5555555555555556,
              "#d8576b"
             ],
             [
              0.6666666666666666,
              "#ed7953"
             ],
             [
              0.7777777777777778,
              "#fb9f3a"
             ],
             [
              0.8888888888888888,
              "#fdca26"
             ],
             [
              1,
              "#f0f921"
             ]
            ],
            "type": "histogram2d"
           }
          ],
          "histogram2dcontour": [
           {
            "colorbar": {
             "outlinewidth": 0,
             "ticks": ""
            },
            "colorscale": [
             [
              0,
              "#0d0887"
             ],
             [
              0.1111111111111111,
              "#46039f"
             ],
             [
              0.2222222222222222,
              "#7201a8"
             ],
             [
              0.3333333333333333,
              "#9c179e"
             ],
             [
              0.4444444444444444,
              "#bd3786"
             ],
             [
              0.5555555555555556,
              "#d8576b"
             ],
             [
              0.6666666666666666,
              "#ed7953"
             ],
             [
              0.7777777777777778,
              "#fb9f3a"
             ],
             [
              0.8888888888888888,
              "#fdca26"
             ],
             [
              1,
              "#f0f921"
             ]
            ],
            "type": "histogram2dcontour"
           }
          ],
          "mesh3d": [
           {
            "colorbar": {
             "outlinewidth": 0,
             "ticks": ""
            },
            "type": "mesh3d"
           }
          ],
          "parcoords": [
           {
            "line": {
             "colorbar": {
              "outlinewidth": 0,
              "ticks": ""
             }
            },
            "type": "parcoords"
           }
          ],
          "pie": [
           {
            "automargin": true,
            "type": "pie"
           }
          ],
          "scatter": [
           {
            "marker": {
             "colorbar": {
              "outlinewidth": 0,
              "ticks": ""
             }
            },
            "type": "scatter"
           }
          ],
          "scatter3d": [
           {
            "line": {
             "colorbar": {
              "outlinewidth": 0,
              "ticks": ""
             }
            },
            "marker": {
             "colorbar": {
              "outlinewidth": 0,
              "ticks": ""
             }
            },
            "type": "scatter3d"
           }
          ],
          "scattercarpet": [
           {
            "marker": {
             "colorbar": {
              "outlinewidth": 0,
              "ticks": ""
             }
            },
            "type": "scattercarpet"
           }
          ],
          "scattergeo": [
           {
            "marker": {
             "colorbar": {
              "outlinewidth": 0,
              "ticks": ""
             }
            },
            "type": "scattergeo"
           }
          ],
          "scattergl": [
           {
            "marker": {
             "colorbar": {
              "outlinewidth": 0,
              "ticks": ""
             }
            },
            "type": "scattergl"
           }
          ],
          "scattermapbox": [
           {
            "marker": {
             "colorbar": {
              "outlinewidth": 0,
              "ticks": ""
             }
            },
            "type": "scattermapbox"
           }
          ],
          "scatterpolar": [
           {
            "marker": {
             "colorbar": {
              "outlinewidth": 0,
              "ticks": ""
             }
            },
            "type": "scatterpolar"
           }
          ],
          "scatterpolargl": [
           {
            "marker": {
             "colorbar": {
              "outlinewidth": 0,
              "ticks": ""
             }
            },
            "type": "scatterpolargl"
           }
          ],
          "scatterternary": [
           {
            "marker": {
             "colorbar": {
              "outlinewidth": 0,
              "ticks": ""
             }
            },
            "type": "scatterternary"
           }
          ],
          "surface": [
           {
            "colorbar": {
             "outlinewidth": 0,
             "ticks": ""
            },
            "colorscale": [
             [
              0,
              "#0d0887"
             ],
             [
              0.1111111111111111,
              "#46039f"
             ],
             [
              0.2222222222222222,
              "#7201a8"
             ],
             [
              0.3333333333333333,
              "#9c179e"
             ],
             [
              0.4444444444444444,
              "#bd3786"
             ],
             [
              0.5555555555555556,
              "#d8576b"
             ],
             [
              0.6666666666666666,
              "#ed7953"
             ],
             [
              0.7777777777777778,
              "#fb9f3a"
             ],
             [
              0.8888888888888888,
              "#fdca26"
             ],
             [
              1,
              "#f0f921"
             ]
            ],
            "type": "surface"
           }
          ],
          "table": [
           {
            "cells": {
             "fill": {
              "color": "#EBF0F8"
             },
             "line": {
              "color": "white"
             }
            },
            "header": {
             "fill": {
              "color": "#C8D4E3"
             },
             "line": {
              "color": "white"
             }
            },
            "type": "table"
           }
          ]
         },
         "layout": {
          "annotationdefaults": {
           "arrowcolor": "#2a3f5f",
           "arrowhead": 0,
           "arrowwidth": 1
          },
          "coloraxis": {
           "colorbar": {
            "outlinewidth": 0,
            "ticks": ""
           }
          },
          "colorscale": {
           "diverging": [
            [
             0,
             "#8e0152"
            ],
            [
             0.1,
             "#c51b7d"
            ],
            [
             0.2,
             "#de77ae"
            ],
            [
             0.3,
             "#f1b6da"
            ],
            [
             0.4,
             "#fde0ef"
            ],
            [
             0.5,
             "#f7f7f7"
            ],
            [
             0.6,
             "#e6f5d0"
            ],
            [
             0.7,
             "#b8e186"
            ],
            [
             0.8,
             "#7fbc41"
            ],
            [
             0.9,
             "#4d9221"
            ],
            [
             1,
             "#276419"
            ]
           ],
           "sequential": [
            [
             0,
             "#0d0887"
            ],
            [
             0.1111111111111111,
             "#46039f"
            ],
            [
             0.2222222222222222,
             "#7201a8"
            ],
            [
             0.3333333333333333,
             "#9c179e"
            ],
            [
             0.4444444444444444,
             "#bd3786"
            ],
            [
             0.5555555555555556,
             "#d8576b"
            ],
            [
             0.6666666666666666,
             "#ed7953"
            ],
            [
             0.7777777777777778,
             "#fb9f3a"
            ],
            [
             0.8888888888888888,
             "#fdca26"
            ],
            [
             1,
             "#f0f921"
            ]
           ],
           "sequentialminus": [
            [
             0,
             "#0d0887"
            ],
            [
             0.1111111111111111,
             "#46039f"
            ],
            [
             0.2222222222222222,
             "#7201a8"
            ],
            [
             0.3333333333333333,
             "#9c179e"
            ],
            [
             0.4444444444444444,
             "#bd3786"
            ],
            [
             0.5555555555555556,
             "#d8576b"
            ],
            [
             0.6666666666666666,
             "#ed7953"
            ],
            [
             0.7777777777777778,
             "#fb9f3a"
            ],
            [
             0.8888888888888888,
             "#fdca26"
            ],
            [
             1,
             "#f0f921"
            ]
           ]
          },
          "colorway": [
           "#636efa",
           "#EF553B",
           "#00cc96",
           "#ab63fa",
           "#FFA15A",
           "#19d3f3",
           "#FF6692",
           "#B6E880",
           "#FF97FF",
           "#FECB52"
          ],
          "font": {
           "color": "#2a3f5f"
          },
          "geo": {
           "bgcolor": "white",
           "lakecolor": "white",
           "landcolor": "#E5ECF6",
           "showlakes": true,
           "showland": true,
           "subunitcolor": "white"
          },
          "hoverlabel": {
           "align": "left"
          },
          "hovermode": "closest",
          "mapbox": {
           "style": "light"
          },
          "paper_bgcolor": "white",
          "plot_bgcolor": "#E5ECF6",
          "polar": {
           "angularaxis": {
            "gridcolor": "white",
            "linecolor": "white",
            "ticks": ""
           },
           "bgcolor": "#E5ECF6",
           "radialaxis": {
            "gridcolor": "white",
            "linecolor": "white",
            "ticks": ""
           }
          },
          "scene": {
           "xaxis": {
            "backgroundcolor": "#E5ECF6",
            "gridcolor": "white",
            "gridwidth": 2,
            "linecolor": "white",
            "showbackground": true,
            "ticks": "",
            "zerolinecolor": "white"
           },
           "yaxis": {
            "backgroundcolor": "#E5ECF6",
            "gridcolor": "white",
            "gridwidth": 2,
            "linecolor": "white",
            "showbackground": true,
            "ticks": "",
            "zerolinecolor": "white"
           },
           "zaxis": {
            "backgroundcolor": "#E5ECF6",
            "gridcolor": "white",
            "gridwidth": 2,
            "linecolor": "white",
            "showbackground": true,
            "ticks": "",
            "zerolinecolor": "white"
           }
          },
          "shapedefaults": {
           "line": {
            "color": "#2a3f5f"
           }
          },
          "ternary": {
           "aaxis": {
            "gridcolor": "white",
            "linecolor": "white",
            "ticks": ""
           },
           "baxis": {
            "gridcolor": "white",
            "linecolor": "white",
            "ticks": ""
           },
           "bgcolor": "#E5ECF6",
           "caxis": {
            "gridcolor": "white",
            "linecolor": "white",
            "ticks": ""
           }
          },
          "title": {
           "x": 0.05
          },
          "xaxis": {
           "automargin": true,
           "gridcolor": "white",
           "linecolor": "white",
           "ticks": "",
           "title": {
            "standoff": 15
           },
           "zerolinecolor": "white",
           "zerolinewidth": 2
          },
          "yaxis": {
           "automargin": true,
           "gridcolor": "white",
           "linecolor": "white",
           "ticks": "",
           "title": {
            "standoff": 15
           },
           "zerolinecolor": "white",
           "zerolinewidth": 2
          }
         }
        },
        "title": {
         "text": "Infections vs attack rate"
        },
        "xaxis": {
         "anchor": "y",
         "domain": [
          0,
          1
         ],
         "title": {
          "text": "Infections (mean)"
         }
        },
        "yaxis": {
         "anchor": "x",
         "domain": [
          0,
          1
         ],
         "title": {
          "text": "Attack rate"
         }
        }
       }
      }
     },
     "metadata": {}
    }
   ],
   "source": [
    "fig = px.scatter(df_results, x=\"visitors mean\", y=\"attack rate\", hover_data=[df_results.index])\n",
    "fig.update_layout(\n",
    "    title=\"Infections vs attack rate\",\n",
    "    xaxis_title=\"Infections (mean)\",\n",
    "    yaxis_title=\"Attack rate\")\n",
    "fig.show()"
   ]
  },
  {
   "cell_type": "code",
   "execution_count": 17,
   "metadata": {},
   "outputs": [],
   "source": [
    "df_results.to_excel('./output/environment reproduction rates.xlsx', 'reproduction rates')"
   ]
  },
  {
   "cell_type": "code",
   "execution_count": null,
   "metadata": {},
   "outputs": [],
   "source": []
  }
 ],
 "metadata": {
  "language_info": {
   "codemirror_mode": {
    "name": "ipython",
    "version": 3
   },
   "file_extension": ".py",
   "mimetype": "text/x-python",
   "name": "python",
   "nbconvert_exporter": "python",
   "pygments_lexer": "ipython3",
   "version": "3.7.7-final"
  },
  "orig_nbformat": 2,
  "kernelspec": {
   "name": "python37764bitdes2020conda06b03b1cd12e49f4a2bda6a10d24292b",
   "display_name": "Python 3.7.7 64-bit ('DES2020': conda)"
  }
 },
 "nbformat": 4,
 "nbformat_minor": 2
}