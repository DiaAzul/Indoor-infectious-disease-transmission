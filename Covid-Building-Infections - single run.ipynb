{
 "cells": [
  {
   "cell_type": "markdown",
   "metadata": {},
   "source": [
    "# Calculate reproduction rate (R0) for infectious diseases within a micro-environment\n",
    "This model calculates the reproduction rate (R0) of infectious diseases (Covid19) within a micro-environment based upon dispersion of an aerosol within an enclosed space. It assumes the prime method of transmission is an aerosol and that the aerosol is well mixed across the space, i.e. there are no local concentrations which may impact on an individual's probability of being infected.\n",
    "\n",
    "The modelling follows the approach set out in the paper:\n",
    "Buonanno, G., Stabile, L., & Morawska, L. (2020). Estimation of airborne viral emission: Quanta emission rate of SARS-CoV-2 for infection risk assessment [Preprint]. Infectious Diseases (except HIV/AIDS). https://doi.org/10.1101/2020.04.12.20062828"
   ]
  },
  {
   "cell_type": "code",
   "execution_count": 1,
   "metadata": {},
   "outputs": [],
   "source": [
    "import math\n",
    "import plotly.graph_objects as go\n",
    "import simpy\n",
    "import pandas as pd\n",
    "import numpy as np\n",
    "from tqdm.notebook import trange, tqdm, tnrange\n",
    "\n",
    "# Import local libraries\n",
    "from Simulation import Simulation"
   ]
  },
  {
   "cell_type": "code",
   "execution_count": 2,
   "metadata": {},
   "outputs": [],
   "source": [
    "def run_simulation(simulation_name):\n",
    "    periods = 180\n",
    "    \n",
    "    simulation_run = 1\n",
    "    arrivals_per_hour=None # Get arrival rate from configuration\n",
    "    max_arrivals=None\n",
    "    quanta_emission_rate=147\n",
    "    inhalation_rate=0.54\n",
    "\n",
    "    simulation = Simulation(simulation_name, simulation_run, microenvironment=simulation_name, periods=periods)\n",
    "\n",
    "    simulation.run(quanta_emission_rate=quanta_emission_rate, \n",
    "                    inhalation_rate=inhalation_rate, \n",
    "                    report_time=False)\n",
    "\n",
    "    infections = simulation.get_counter('Infections')\n",
    "    infections = infections if infections else 0\n",
    "\n",
    "    total_visitors = simulation.get_counter('Total visitors')\n",
    "\n",
    "    attack_rate = infections / total_visitors\n",
    "\n",
    "    return infections, total_visitors, attack_rate"
   ]
  },
  {
   "cell_type": "code",
   "execution_count": 14,
   "metadata": {
    "tags": []
   },
   "outputs": [
    {
     "output_type": "display_data",
     "data": {
      "text/plain": "HBox(children=(FloatProgress(value=0.0), HTML(value='')))",
      "application/vnd.jupyter.widget-view+json": {
       "version_major": 2,
       "version_minor": 0,
       "model_id": "b3acef80c5d8499695658bfd3edbc6ad"
      }
     },
     "metadata": {}
    },
    {
     "output_type": "stream",
     "name": "stdout",
     "text": "\n"
    }
   ],
   "source": [
    "results = []\n",
    "simulation_name = 'Restaurant-natural-No Lockdown' if True else 'Pharmacy-mechanical-Lockdown'\n",
    "for i in trange(100):\n",
    "    results.append(run_simulation(simulation_name))"
   ]
  },
  {
   "cell_type": "code",
   "execution_count": 15,
   "metadata": {},
   "outputs": [
    {
     "output_type": "display_data",
     "data": {
      "application/vnd.plotly.v1+json": {
       "config": {
        "plotlyServerURL": "https://plot.ly"
       },
       "data": [
        {
         "alignmentgroup": "True",
         "bingroup": "x",
         "hovertemplate": "Infections=%{x}<br>count=%{y}<extra></extra>",
         "legendgroup": "",
         "marker": {
          "color": "#636efa"
         },
         "name": "",
         "offsetgroup": "",
         "orientation": "v",
         "showlegend": false,
         "type": "histogram",
         "x": [
          34,
          42,
          40,
          42,
          51,
          53,
          43,
          35,
          37,
          45,
          55,
          39,
          34,
          43,
          45,
          41,
          39,
          45,
          48,
          40,
          47,
          39,
          47,
          42,
          40,
          45,
          40,
          44,
          57,
          41,
          41,
          36,
          39,
          52,
          47,
          29,
          35,
          40,
          43,
          37,
          51,
          41,
          48,
          57,
          40,
          44,
          43,
          45,
          40,
          44,
          33,
          53,
          31,
          36,
          38,
          47,
          51,
          42,
          42,
          47,
          52,
          44,
          51,
          47,
          49,
          43,
          43,
          38,
          54,
          43,
          47,
          37,
          46,
          43,
          50,
          53,
          51,
          47,
          38,
          47,
          39,
          41,
          49,
          42,
          48,
          35,
          45,
          47,
          37,
          54,
          55,
          35,
          52,
          45,
          58,
          37,
          38,
          49,
          33,
          42
         ],
         "xaxis": "x",
         "yaxis": "y"
        }
       ],
       "layout": {
        "barmode": "relative",
        "legend": {
         "tracegroupgap": 0
        },
        "margin": {
         "t": 60
        },
        "template": {
         "data": {
          "bar": [
           {
            "error_x": {
             "color": "#2a3f5f"
            },
            "error_y": {
             "color": "#2a3f5f"
            },
            "marker": {
             "line": {
              "color": "#E5ECF6",
              "width": 0.5
             }
            },
            "type": "bar"
           }
          ],
          "barpolar": [
           {
            "marker": {
             "line": {
              "color": "#E5ECF6",
              "width": 0.5
             }
            },
            "type": "barpolar"
           }
          ],
          "carpet": [
           {
            "aaxis": {
             "endlinecolor": "#2a3f5f",
             "gridcolor": "white",
             "linecolor": "white",
             "minorgridcolor": "white",
             "startlinecolor": "#2a3f5f"
            },
            "baxis": {
             "endlinecolor": "#2a3f5f",
             "gridcolor": "white",
             "linecolor": "white",
             "minorgridcolor": "white",
             "startlinecolor": "#2a3f5f"
            },
            "type": "carpet"
           }
          ],
          "choropleth": [
           {
            "colorbar": {
             "outlinewidth": 0,
             "ticks": ""
            },
            "type": "choropleth"
           }
          ],
          "contour": [
           {
            "colorbar": {
             "outlinewidth": 0,
             "ticks": ""
            },
            "colorscale": [
             [
              0,
              "#0d0887"
             ],
             [
              0.1111111111111111,
              "#46039f"
             ],
             [
              0.2222222222222222,
              "#7201a8"
             ],
             [
              0.3333333333333333,
              "#9c179e"
             ],
             [
              0.4444444444444444,
              "#bd3786"
             ],
             [
              0.5555555555555556,
              "#d8576b"
             ],
             [
              0.6666666666666666,
              "#ed7953"
             ],
             [
              0.7777777777777778,
              "#fb9f3a"
             ],
             [
              0.8888888888888888,
              "#fdca26"
             ],
             [
              1,
              "#f0f921"
             ]
            ],
            "type": "contour"
           }
          ],
          "contourcarpet": [
           {
            "colorbar": {
             "outlinewidth": 0,
             "ticks": ""
            },
            "type": "contourcarpet"
           }
          ],
          "heatmap": [
           {
            "colorbar": {
             "outlinewidth": 0,
             "ticks": ""
            },
            "colorscale": [
             [
              0,
              "#0d0887"
             ],
             [
              0.1111111111111111,
              "#46039f"
             ],
             [
              0.2222222222222222,
              "#7201a8"
             ],
             [
              0.3333333333333333,
              "#9c179e"
             ],
             [
              0.4444444444444444,
              "#bd3786"
             ],
             [
              0.5555555555555556,
              "#d8576b"
             ],
             [
              0.6666666666666666,
              "#ed7953"
             ],
             [
              0.7777777777777778,
              "#fb9f3a"
             ],
             [
              0.8888888888888888,
              "#fdca26"
             ],
             [
              1,
              "#f0f921"
             ]
            ],
            "type": "heatmap"
           }
          ],
          "heatmapgl": [
           {
            "colorbar": {
             "outlinewidth": 0,
             "ticks": ""
            },
            "colorscale": [
             [
              0,
              "#0d0887"
             ],
             [
              0.1111111111111111,
              "#46039f"
             ],
             [
              0.2222222222222222,
              "#7201a8"
             ],
             [
              0.3333333333333333,
              "#9c179e"
             ],
             [
              0.4444444444444444,
              "#bd3786"
             ],
             [
              0.5555555555555556,
              "#d8576b"
             ],
             [
              0.6666666666666666,
              "#ed7953"
             ],
             [
              0.7777777777777778,
              "#fb9f3a"
             ],
             [
              0.8888888888888888,
              "#fdca26"
             ],
             [
              1,
              "#f0f921"
             ]
            ],
            "type": "heatmapgl"
           }
          ],
          "histogram": [
           {
            "marker": {
             "colorbar": {
              "outlinewidth": 0,
              "ticks": ""
             }
            },
            "type": "histogram"
           }
          ],
          "histogram2d": [
           {
            "colorbar": {
             "outlinewidth": 0,
             "ticks": ""
            },
            "colorscale": [
             [
              0,
              "#0d0887"
             ],
             [
              0.1111111111111111,
              "#46039f"
             ],
             [
              0.2222222222222222,
              "#7201a8"
             ],
             [
              0.3333333333333333,
              "#9c179e"
             ],
             [
              0.4444444444444444,
              "#bd3786"
             ],
             [
              0.5555555555555556,
              "#d8576b"
             ],
             [
              0.6666666666666666,
              "#ed7953"
             ],
             [
              0.7777777777777778,
              "#fb9f3a"
             ],
             [
              0.8888888888888888,
              "#fdca26"
             ],
             [
              1,
              "#f0f921"
             ]
            ],
            "type": "histogram2d"
           }
          ],
          "histogram2dcontour": [
           {
            "colorbar": {
             "outlinewidth": 0,
             "ticks": ""
            },
            "colorscale": [
             [
              0,
              "#0d0887"
             ],
             [
              0.1111111111111111,
              "#46039f"
             ],
             [
              0.2222222222222222,
              "#7201a8"
             ],
             [
              0.3333333333333333,
              "#9c179e"
             ],
             [
              0.4444444444444444,
              "#bd3786"
             ],
             [
              0.5555555555555556,
              "#d8576b"
             ],
             [
              0.6666666666666666,
              "#ed7953"
             ],
             [
              0.7777777777777778,
              "#fb9f3a"
             ],
             [
              0.8888888888888888,
              "#fdca26"
             ],
             [
              1,
              "#f0f921"
             ]
            ],
            "type": "histogram2dcontour"
           }
          ],
          "mesh3d": [
           {
            "colorbar": {
             "outlinewidth": 0,
             "ticks": ""
            },
            "type": "mesh3d"
           }
          ],
          "parcoords": [
           {
            "line": {
             "colorbar": {
              "outlinewidth": 0,
              "ticks": ""
             }
            },
            "type": "parcoords"
           }
          ],
          "pie": [
           {
            "automargin": true,
            "type": "pie"
           }
          ],
          "scatter": [
           {
            "marker": {
             "colorbar": {
              "outlinewidth": 0,
              "ticks": ""
             }
            },
            "type": "scatter"
           }
          ],
          "scatter3d": [
           {
            "line": {
             "colorbar": {
              "outlinewidth": 0,
              "ticks": ""
             }
            },
            "marker": {
             "colorbar": {
              "outlinewidth": 0,
              "ticks": ""
             }
            },
            "type": "scatter3d"
           }
          ],
          "scattercarpet": [
           {
            "marker": {
             "colorbar": {
              "outlinewidth": 0,
              "ticks": ""
             }
            },
            "type": "scattercarpet"
           }
          ],
          "scattergeo": [
           {
            "marker": {
             "colorbar": {
              "outlinewidth": 0,
              "ticks": ""
             }
            },
            "type": "scattergeo"
           }
          ],
          "scattergl": [
           {
            "marker": {
             "colorbar": {
              "outlinewidth": 0,
              "ticks": ""
             }
            },
            "type": "scattergl"
           }
          ],
          "scattermapbox": [
           {
            "marker": {
             "colorbar": {
              "outlinewidth": 0,
              "ticks": ""
             }
            },
            "type": "scattermapbox"
           }
          ],
          "scatterpolar": [
           {
            "marker": {
             "colorbar": {
              "outlinewidth": 0,
              "ticks": ""
             }
            },
            "type": "scatterpolar"
           }
          ],
          "scatterpolargl": [
           {
            "marker": {
             "colorbar": {
              "outlinewidth": 0,
              "ticks": ""
             }
            },
            "type": "scatterpolargl"
           }
          ],
          "scatterternary": [
           {
            "marker": {
             "colorbar": {
              "outlinewidth": 0,
              "ticks": ""
             }
            },
            "type": "scatterternary"
           }
          ],
          "surface": [
           {
            "colorbar": {
             "outlinewidth": 0,
             "ticks": ""
            },
            "colorscale": [
             [
              0,
              "#0d0887"
             ],
             [
              0.1111111111111111,
              "#46039f"
             ],
             [
              0.2222222222222222,
              "#7201a8"
             ],
             [
              0.3333333333333333,
              "#9c179e"
             ],
             [
              0.4444444444444444,
              "#bd3786"
             ],
             [
              0.5555555555555556,
              "#d8576b"
             ],
             [
              0.6666666666666666,
              "#ed7953"
             ],
             [
              0.7777777777777778,
              "#fb9f3a"
             ],
             [
              0.8888888888888888,
              "#fdca26"
             ],
             [
              1,
              "#f0f921"
             ]
            ],
            "type": "surface"
           }
          ],
          "table": [
           {
            "cells": {
             "fill": {
              "color": "#EBF0F8"
             },
             "line": {
              "color": "white"
             }
            },
            "header": {
             "fill": {
              "color": "#C8D4E3"
             },
             "line": {
              "color": "white"
             }
            },
            "type": "table"
           }
          ]
         },
         "layout": {
          "annotationdefaults": {
           "arrowcolor": "#2a3f5f",
           "arrowhead": 0,
           "arrowwidth": 1
          },
          "coloraxis": {
           "colorbar": {
            "outlinewidth": 0,
            "ticks": ""
           }
          },
          "colorscale": {
           "diverging": [
            [
             0,
             "#8e0152"
            ],
            [
             0.1,
             "#c51b7d"
            ],
            [
             0.2,
             "#de77ae"
            ],
            [
             0.3,
             "#f1b6da"
            ],
            [
             0.4,
             "#fde0ef"
            ],
            [
             0.5,
             "#f7f7f7"
            ],
            [
             0.6,
             "#e6f5d0"
            ],
            [
             0.7,
             "#b8e186"
            ],
            [
             0.8,
             "#7fbc41"
            ],
            [
             0.9,
             "#4d9221"
            ],
            [
             1,
             "#276419"
            ]
           ],
           "sequential": [
            [
             0,
             "#0d0887"
            ],
            [
             0.1111111111111111,
             "#46039f"
            ],
            [
             0.2222222222222222,
             "#7201a8"
            ],
            [
             0.3333333333333333,
             "#9c179e"
            ],
            [
             0.4444444444444444,
             "#bd3786"
            ],
            [
             0.5555555555555556,
             "#d8576b"
            ],
            [
             0.6666666666666666,
             "#ed7953"
            ],
            [
             0.7777777777777778,
             "#fb9f3a"
            ],
            [
             0.8888888888888888,
             "#fdca26"
            ],
            [
             1,
             "#f0f921"
            ]
           ],
           "sequentialminus": [
            [
             0,
             "#0d0887"
            ],
            [
             0.1111111111111111,
             "#46039f"
            ],
            [
             0.2222222222222222,
             "#7201a8"
            ],
            [
             0.3333333333333333,
             "#9c179e"
            ],
            [
             0.4444444444444444,
             "#bd3786"
            ],
            [
             0.5555555555555556,
             "#d8576b"
            ],
            [
             0.6666666666666666,
             "#ed7953"
            ],
            [
             0.7777777777777778,
             "#fb9f3a"
            ],
            [
             0.8888888888888888,
             "#fdca26"
            ],
            [
             1,
             "#f0f921"
            ]
           ]
          },
          "colorway": [
           "#636efa",
           "#EF553B",
           "#00cc96",
           "#ab63fa",
           "#FFA15A",
           "#19d3f3",
           "#FF6692",
           "#B6E880",
           "#FF97FF",
           "#FECB52"
          ],
          "font": {
           "color": "#2a3f5f"
          },
          "geo": {
           "bgcolor": "white",
           "lakecolor": "white",
           "landcolor": "#E5ECF6",
           "showlakes": true,
           "showland": true,
           "subunitcolor": "white"
          },
          "hoverlabel": {
           "align": "left"
          },
          "hovermode": "closest",
          "mapbox": {
           "style": "light"
          },
          "paper_bgcolor": "white",
          "plot_bgcolor": "#E5ECF6",
          "polar": {
           "angularaxis": {
            "gridcolor": "white",
            "linecolor": "white",
            "ticks": ""
           },
           "bgcolor": "#E5ECF6",
           "radialaxis": {
            "gridcolor": "white",
            "linecolor": "white",
            "ticks": ""
           }
          },
          "scene": {
           "xaxis": {
            "backgroundcolor": "#E5ECF6",
            "gridcolor": "white",
            "gridwidth": 2,
            "linecolor": "white",
            "showbackground": true,
            "ticks": "",
            "zerolinecolor": "white"
           },
           "yaxis": {
            "backgroundcolor": "#E5ECF6",
            "gridcolor": "white",
            "gridwidth": 2,
            "linecolor": "white",
            "showbackground": true,
            "ticks": "",
            "zerolinecolor": "white"
           },
           "zaxis": {
            "backgroundcolor": "#E5ECF6",
            "gridcolor": "white",
            "gridwidth": 2,
            "linecolor": "white",
            "showbackground": true,
            "ticks": "",
            "zerolinecolor": "white"
           }
          },
          "shapedefaults": {
           "line": {
            "color": "#2a3f5f"
           }
          },
          "ternary": {
           "aaxis": {
            "gridcolor": "white",
            "linecolor": "white",
            "ticks": ""
           },
           "baxis": {
            "gridcolor": "white",
            "linecolor": "white",
            "ticks": ""
           },
           "bgcolor": "#E5ECF6",
           "caxis": {
            "gridcolor": "white",
            "linecolor": "white",
            "ticks": ""
           }
          },
          "title": {
           "x": 0.05
          },
          "xaxis": {
           "automargin": true,
           "gridcolor": "white",
           "linecolor": "white",
           "ticks": "",
           "title": {
            "standoff": 15
           },
           "zerolinecolor": "white",
           "zerolinewidth": 2
          },
          "yaxis": {
           "automargin": true,
           "gridcolor": "white",
           "linecolor": "white",
           "ticks": "",
           "title": {
            "standoff": 15
           },
           "zerolinecolor": "white",
           "zerolinewidth": 2
          }
         }
        },
        "title": {
         "text": "Restaurant-natural-No Lockdown"
        },
        "xaxis": {
         "anchor": "y",
         "domain": [
          0,
          1
         ],
         "title": {
          "text": "Reproduction rate (number of infections)"
         }
        },
        "yaxis": {
         "anchor": "x",
         "domain": [
          0,
          1
         ],
         "title": {
          "text": "Count of simulations"
         }
        }
       }
      }
     },
     "metadata": {}
    },
    {
     "output_type": "execute_result",
     "data": {
      "text/plain": "Infections         43.690000\nTotal visitors    160.000000\nAttack rate         0.273062\ndtype: float64"
     },
     "metadata": {},
     "execution_count": 15
    }
   ],
   "source": [
    "import plotly.express as px\n",
    "df = pd.DataFrame(results, columns=[\"Infections\", \"Total visitors\", \"Attack rate\"])\n",
    "fig = px.histogram(df, x=\"Infections\")\n",
    "fig.update_layout(\n",
    "    title=simulation_name,\n",
    "    xaxis_title=\"Reproduction rate (number of infections)\",\n",
    "    yaxis_title=\"Count of simulations\")\n",
    "fig.show()\n",
    "df.mean()"
   ]
  },
  {
   "cell_type": "code",
   "execution_count": 9,
   "metadata": {},
   "outputs": [],
   "source": [
    "file_db = pd.read_excel('./Configuration/Environment database.xlsx', header=4, engine='openpyxl')\n",
    "environments = file_db['environment']"
   ]
  },
  {
   "cell_type": "code",
   "execution_count": 10,
   "metadata": {},
   "outputs": [
    {
     "output_type": "execute_result",
     "data": {
      "text/plain": "0           Pharmacy-natural-No Lockdown\n1        Pharmacy-mechanical-No Lockdown\n2              Pharmacy-natural-Lockdown\n3           Pharmacy-mechanical-Lockdown\n4        Supermarket-natural-No Lockdown\n5     Supermarket-mechanical-No Lockdown\n6           Supermarket-natural-Lockdown\n7        Supermarket-mechanical-Lockdown\n8         Restaurant-natural-No Lockdown\n9      Restaurant-mechanical-No Lockdown\n10       Post Office-natural-No Lockdown\n11    Post Office-mechanical-No Lockdown\n12          Post Office-natural-Lockdown\n13       Post Office-mechanical-Lockdown\n14              Bank-natural-No Lockdown\n15           Bank-mechanical-No Lockdown\n16                 Bank-natural-Lockdown\n17              Bank-mechanical-Lockdown\n18      Lounge-Two People-Winter-15 Mins\n19      Lounge-Two People-Winter-30 Mins\n20       Lounge-Two People-Winter-1 hour\n21      Lounge-Two People-Summer-15 Mins\n22      Lounge-Two People-Summer-30 Mins\n23       Lounge-Two People-Summer-1 hour\n24     Lounge-Four People-Winter-15 Mins\n25     Lounge-Four People-Winter-30 Mins\n26      Lounge-Four People-Winter-1 hour\n27     Lounge-Four People-Summer-15 Mins\n28     Lounge-Four People-Summer-30 Mins\n29      Lounge-Four People-Summer-1 hour\nName: environment, dtype: object"
     },
     "metadata": {},
     "execution_count": 10
    }
   ],
   "source": [
    "environments"
   ]
  },
  {
   "cell_type": "markdown",
   "metadata": {},
   "source": []
  },
  {
   "cell_type": "code",
   "execution_count": 8,
   "metadata": {},
   "outputs": [
    {
     "output_type": "display_data",
     "data": {
      "text/plain": "HBox(children=(FloatProgress(value=0.0, description='Pharmacy-natural-No Lockdown', max=1000.0, style=Progress…",
      "application/vnd.jupyter.widget-view+json": {
       "version_major": 2,
       "version_minor": 0,
       "model_id": "ceb22b2cf23a430c8f7caa7f45e24f12"
      }
     },
     "metadata": {}
    },
    {
     "output_type": "stream",
     "name": "stdout",
     "text": "\n"
    },
    {
     "output_type": "display_data",
     "data": {
      "text/plain": "HBox(children=(FloatProgress(value=0.0, description='Pharmacy-mechanical-No Lockdown', max=1000.0, style=Progr…",
      "application/vnd.jupyter.widget-view+json": {
       "version_major": 2,
       "version_minor": 0,
       "model_id": "3f5fcb372ca64d42ba00a81c23d1f368"
      }
     },
     "metadata": {}
    },
    {
     "output_type": "stream",
     "name": "stdout",
     "text": "\n"
    },
    {
     "output_type": "display_data",
     "data": {
      "text/plain": "HBox(children=(FloatProgress(value=0.0, description='Pharmacy-natural-Lockdown', max=1000.0, style=ProgressSty…",
      "application/vnd.jupyter.widget-view+json": {
       "version_major": 2,
       "version_minor": 0,
       "model_id": "55251e0ae74741b6a13bb0ff4af21cab"
      }
     },
     "metadata": {}
    },
    {
     "output_type": "stream",
     "name": "stdout",
     "text": "\n"
    },
    {
     "output_type": "display_data",
     "data": {
      "text/plain": "HBox(children=(FloatProgress(value=0.0, description='Pharmacy-mechanical-Lockdown', max=1000.0, style=Progress…",
      "application/vnd.jupyter.widget-view+json": {
       "version_major": 2,
       "version_minor": 0,
       "model_id": "32438470393d4f7d86cd54f922f50554"
      }
     },
     "metadata": {}
    },
    {
     "output_type": "stream",
     "name": "stdout",
     "text": "\n"
    },
    {
     "output_type": "display_data",
     "data": {
      "text/plain": "HBox(children=(FloatProgress(value=0.0, description='Supermarket-natural-No Lockdown', max=1000.0, style=Progr…",
      "application/vnd.jupyter.widget-view+json": {
       "version_major": 2,
       "version_minor": 0,
       "model_id": "f31d8ad5e92247bb9051ca987a86b5eb"
      }
     },
     "metadata": {}
    },
    {
     "output_type": "stream",
     "name": "stdout",
     "text": "\n"
    },
    {
     "output_type": "display_data",
     "data": {
      "text/plain": "HBox(children=(FloatProgress(value=0.0, description='Supermarket-mechanical-No Lockdown', max=1000.0, style=Pr…",
      "application/vnd.jupyter.widget-view+json": {
       "version_major": 2,
       "version_minor": 0,
       "model_id": "47169299345d4affab8eafd7b0b2a2b6"
      }
     },
     "metadata": {}
    },
    {
     "output_type": "stream",
     "name": "stdout",
     "text": "\n"
    },
    {
     "output_type": "display_data",
     "data": {
      "text/plain": "HBox(children=(FloatProgress(value=0.0, description='Supermarket-natural-Lockdown', max=1000.0, style=Progress…",
      "application/vnd.jupyter.widget-view+json": {
       "version_major": 2,
       "version_minor": 0,
       "model_id": "7d88d7b784ec4280ad1fd06b0f12c01c"
      }
     },
     "metadata": {}
    },
    {
     "output_type": "stream",
     "name": "stdout",
     "text": "\n"
    },
    {
     "output_type": "display_data",
     "data": {
      "text/plain": "HBox(children=(FloatProgress(value=0.0, description='Supermarket-mechanical-Lockdown', max=1000.0, style=Progr…",
      "application/vnd.jupyter.widget-view+json": {
       "version_major": 2,
       "version_minor": 0,
       "model_id": "5ef5befb65f343eba37df04603d5cd11"
      }
     },
     "metadata": {}
    },
    {
     "output_type": "stream",
     "name": "stdout",
     "text": "\n"
    },
    {
     "output_type": "display_data",
     "data": {
      "text/plain": "HBox(children=(FloatProgress(value=0.0, description='Restaurant-natural-No Lockdown', max=1000.0, style=Progre…",
      "application/vnd.jupyter.widget-view+json": {
       "version_major": 2,
       "version_minor": 0,
       "model_id": "ae226487876e4164ae35b1ef62487654"
      }
     },
     "metadata": {}
    },
    {
     "output_type": "stream",
     "name": "stdout",
     "text": "\n"
    },
    {
     "output_type": "display_data",
     "data": {
      "text/plain": "HBox(children=(FloatProgress(value=0.0, description='Restaurant-mechanical-No Lockdown', max=1000.0, style=Pro…",
      "application/vnd.jupyter.widget-view+json": {
       "version_major": 2,
       "version_minor": 0,
       "model_id": "b564d0f5ecbc49a580c838a746ebae00"
      }
     },
     "metadata": {}
    },
    {
     "output_type": "stream",
     "name": "stdout",
     "text": "\n"
    },
    {
     "output_type": "display_data",
     "data": {
      "text/plain": "HBox(children=(FloatProgress(value=0.0, description='Post Office-natural-No Lockdown', max=1000.0, style=Progr…",
      "application/vnd.jupyter.widget-view+json": {
       "version_major": 2,
       "version_minor": 0,
       "model_id": "4988f235e20d498e987cf1c900b10278"
      }
     },
     "metadata": {}
    },
    {
     "output_type": "stream",
     "name": "stdout",
     "text": "\n"
    },
    {
     "output_type": "display_data",
     "data": {
      "text/plain": "HBox(children=(FloatProgress(value=0.0, description='Post Office-mechanical-No Lockdown', max=1000.0, style=Pr…",
      "application/vnd.jupyter.widget-view+json": {
       "version_major": 2,
       "version_minor": 0,
       "model_id": "5c95ffa744f842e2acc8150cbc25b082"
      }
     },
     "metadata": {}
    },
    {
     "output_type": "stream",
     "name": "stdout",
     "text": "\n"
    },
    {
     "output_type": "display_data",
     "data": {
      "text/plain": "HBox(children=(FloatProgress(value=0.0, description='Post Office-natural-Lockdown', max=1000.0, style=Progress…",
      "application/vnd.jupyter.widget-view+json": {
       "version_major": 2,
       "version_minor": 0,
       "model_id": "f168d08af95245d585c9675f4aa58d50"
      }
     },
     "metadata": {}
    },
    {
     "output_type": "stream",
     "name": "stdout",
     "text": "\n"
    },
    {
     "output_type": "display_data",
     "data": {
      "text/plain": "HBox(children=(FloatProgress(value=0.0, description='Post Office-mechanical-Lockdown', max=1000.0, style=Progr…",
      "application/vnd.jupyter.widget-view+json": {
       "version_major": 2,
       "version_minor": 0,
       "model_id": "304d9f4524da4eefa08cface504f62d9"
      }
     },
     "metadata": {}
    },
    {
     "output_type": "stream",
     "name": "stdout",
     "text": "\n"
    },
    {
     "output_type": "display_data",
     "data": {
      "text/plain": "HBox(children=(FloatProgress(value=0.0, description='Bank-natural-No Lockdown', max=1000.0, style=ProgressStyl…",
      "application/vnd.jupyter.widget-view+json": {
       "version_major": 2,
       "version_minor": 0,
       "model_id": "84fa2b5b7caa4989bb6eecab47431a64"
      }
     },
     "metadata": {}
    },
    {
     "output_type": "stream",
     "name": "stdout",
     "text": "\n"
    },
    {
     "output_type": "display_data",
     "data": {
      "text/plain": "HBox(children=(FloatProgress(value=0.0, description='Bank-mechanical-No Lockdown', max=1000.0, style=ProgressS…",
      "application/vnd.jupyter.widget-view+json": {
       "version_major": 2,
       "version_minor": 0,
       "model_id": "e3836377a27245e7a7486f14692eb72f"
      }
     },
     "metadata": {}
    },
    {
     "output_type": "stream",
     "name": "stdout",
     "text": "\n"
    },
    {
     "output_type": "display_data",
     "data": {
      "text/plain": "HBox(children=(FloatProgress(value=0.0, description='Bank-natural-Lockdown', max=1000.0, style=ProgressStyle(d…",
      "application/vnd.jupyter.widget-view+json": {
       "version_major": 2,
       "version_minor": 0,
       "model_id": "0421820ca7754f36b671650e386a94da"
      }
     },
     "metadata": {}
    },
    {
     "output_type": "stream",
     "name": "stdout",
     "text": "\n"
    },
    {
     "output_type": "display_data",
     "data": {
      "text/plain": "HBox(children=(FloatProgress(value=0.0, description='Bank-mechanical-Lockdown', max=1000.0, style=ProgressStyl…",
      "application/vnd.jupyter.widget-view+json": {
       "version_major": 2,
       "version_minor": 0,
       "model_id": "374632463c974ce389620c823d1e14b1"
      }
     },
     "metadata": {}
    },
    {
     "output_type": "stream",
     "name": "stdout",
     "text": "\n"
    },
    {
     "output_type": "display_data",
     "data": {
      "text/plain": "HBox(children=(FloatProgress(value=0.0, description='Lounge-Two People-Winter-15 Mins', max=1000.0, style=Prog…",
      "application/vnd.jupyter.widget-view+json": {
       "version_major": 2,
       "version_minor": 0,
       "model_id": "8ed3c5d8d80e4a8eb79b39bc0178f688"
      }
     },
     "metadata": {}
    },
    {
     "output_type": "stream",
     "name": "stdout",
     "text": "\n"
    },
    {
     "output_type": "display_data",
     "data": {
      "text/plain": "HBox(children=(FloatProgress(value=0.0, description='Lounge-Two People-Winter-30 Mins', max=1000.0, style=Prog…",
      "application/vnd.jupyter.widget-view+json": {
       "version_major": 2,
       "version_minor": 0,
       "model_id": "672a006c2eb14ed6bbf9bd2111360428"
      }
     },
     "metadata": {}
    },
    {
     "output_type": "stream",
     "name": "stdout",
     "text": "\n"
    },
    {
     "output_type": "display_data",
     "data": {
      "text/plain": "HBox(children=(FloatProgress(value=0.0, description='Lounge-Two People-Winter-1 hour', max=1000.0, style=Progr…",
      "application/vnd.jupyter.widget-view+json": {
       "version_major": 2,
       "version_minor": 0,
       "model_id": "55ee6606a1d64ba3b46331b9aa5f17fa"
      }
     },
     "metadata": {}
    },
    {
     "output_type": "stream",
     "name": "stdout",
     "text": "\n"
    },
    {
     "output_type": "display_data",
     "data": {
      "text/plain": "HBox(children=(FloatProgress(value=0.0, description='Lounge-Two People-Summer-15 Mins', max=1000.0, style=Prog…",
      "application/vnd.jupyter.widget-view+json": {
       "version_major": 2,
       "version_minor": 0,
       "model_id": "338a63d2973f4b3b86b4cd4b33f98f06"
      }
     },
     "metadata": {}
    },
    {
     "output_type": "stream",
     "name": "stdout",
     "text": "\n"
    },
    {
     "output_type": "display_data",
     "data": {
      "text/plain": "HBox(children=(FloatProgress(value=0.0, description='Lounge-Two People-Summer-30 Mins', max=1000.0, style=Prog…",
      "application/vnd.jupyter.widget-view+json": {
       "version_major": 2,
       "version_minor": 0,
       "model_id": "99b5511b34cb40fb851e1b97744d4105"
      }
     },
     "metadata": {}
    },
    {
     "output_type": "stream",
     "name": "stdout",
     "text": "\n"
    },
    {
     "output_type": "display_data",
     "data": {
      "text/plain": "HBox(children=(FloatProgress(value=0.0, description='Lounge-Two People-Summer-1 hour', max=1000.0, style=Progr…",
      "application/vnd.jupyter.widget-view+json": {
       "version_major": 2,
       "version_minor": 0,
       "model_id": "8efcdf668d12420f97568d870bb54cf4"
      }
     },
     "metadata": {}
    },
    {
     "output_type": "stream",
     "name": "stdout",
     "text": "\n"
    },
    {
     "output_type": "display_data",
     "data": {
      "text/plain": "HBox(children=(FloatProgress(value=0.0, description='Lounge-Four People-Winter-15 Mins', max=1000.0, style=Pro…",
      "application/vnd.jupyter.widget-view+json": {
       "version_major": 2,
       "version_minor": 0,
       "model_id": "5a1060a7126c450ebb540ed06eb8f6a4"
      }
     },
     "metadata": {}
    },
    {
     "output_type": "stream",
     "name": "stdout",
     "text": "\n"
    },
    {
     "output_type": "display_data",
     "data": {
      "text/plain": "HBox(children=(FloatProgress(value=0.0, description='Lounge-Four People-Winter-30 Mins', max=1000.0, style=Pro…",
      "application/vnd.jupyter.widget-view+json": {
       "version_major": 2,
       "version_minor": 0,
       "model_id": "c69c902d535d41738cc908c4abd8cf18"
      }
     },
     "metadata": {}
    },
    {
     "output_type": "stream",
     "name": "stdout",
     "text": "\n"
    },
    {
     "output_type": "display_data",
     "data": {
      "text/plain": "HBox(children=(FloatProgress(value=0.0, description='Lounge-Four People-Winter-1 hour', max=1000.0, style=Prog…",
      "application/vnd.jupyter.widget-view+json": {
       "version_major": 2,
       "version_minor": 0,
       "model_id": "a2c688131b0e40fc97bbc000c59139b9"
      }
     },
     "metadata": {}
    },
    {
     "output_type": "stream",
     "name": "stdout",
     "text": "\n"
    },
    {
     "output_type": "display_data",
     "data": {
      "text/plain": "HBox(children=(FloatProgress(value=0.0, description='Lounge-Four People-Summer-15 Mins', max=1000.0, style=Pro…",
      "application/vnd.jupyter.widget-view+json": {
       "version_major": 2,
       "version_minor": 0,
       "model_id": "d057709a479144408b25a23fc3b78312"
      }
     },
     "metadata": {}
    },
    {
     "output_type": "stream",
     "name": "stdout",
     "text": "\n"
    },
    {
     "output_type": "display_data",
     "data": {
      "text/plain": "HBox(children=(FloatProgress(value=0.0, description='Lounge-Four People-Summer-30 Mins', max=1000.0, style=Pro…",
      "application/vnd.jupyter.widget-view+json": {
       "version_major": 2,
       "version_minor": 0,
       "model_id": "fe2e92ff4bfe4970a4e492a74b67245d"
      }
     },
     "metadata": {}
    },
    {
     "output_type": "stream",
     "name": "stdout",
     "text": "\n"
    },
    {
     "output_type": "display_data",
     "data": {
      "text/plain": "HBox(children=(FloatProgress(value=0.0, description='Lounge-Four People-Summer-1 hour', max=1000.0, style=Prog…",
      "application/vnd.jupyter.widget-view+json": {
       "version_major": 2,
       "version_minor": 0,
       "model_id": "d2343048c1384034a506b3f26ea8f824"
      }
     },
     "metadata": {}
    },
    {
     "output_type": "stream",
     "name": "stdout",
     "text": "\n"
    }
   ],
   "source": [
    "import multiprocess as mp\n",
    "from run_parallel_simulation import run_parallel_simulation\n",
    "sim_results = {}\n",
    "\n",
    "for _, environment_name in environments.items():\n",
    "\n",
    "    results = []\n",
    "    #for i in tnrange(1000, desc=environment_name, leave=True):\n",
    "    #    results.append(run_simulation(environment_name)) \n",
    "\n",
    "    max_iter = 1000\n",
    "    with mp.Pool(max(1, int(os.cpu_count()*2/3-1))) as pool:\n",
    "        results = list(tqdm(pool.imap(run_parallel_simulation, iter([environment_name] * max_iter)), desc=environment_name, total=max_iter))\n",
    "\n",
    "    df = pd.DataFrame(results, columns=[\"Infections\", \"Total visitors\", \"Attack rate\"])\n",
    "\n",
    "    infections_mean = df.mean()['Infections']\n",
    "    infections_sd = df.std()['Infections']\n",
    "    total_visitors_mean = df.mean()['Total visitors']\n",
    "    total_visitors_sd = df.std()['Total visitors']\n",
    "    attack_rate = infections_mean / total_visitors_mean\n",
    "\n",
    "    sim_results[environment_name] = (infections_mean, infections_sd, total_visitors_mean, total_visitors_sd, attack_rate)\n"
   ]
  },
  {
   "cell_type": "code",
   "execution_count": 9,
   "metadata": {},
   "outputs": [
    {
     "output_type": "execute_result",
     "data": {
      "text/plain": "                                    infections mean  infections sd  \\\nPharmacy-natural-No Lockdown                  4.577       2.204752   \nPharmacy-mechanical-No Lockdown               0.966       0.972517   \nPharmacy-natural-Lockdown                     2.442       1.512258   \nPharmacy-mechanical-Lockdown                  0.466       0.699524   \nSupermarket-natural-No Lockdown               2.910       1.685450   \nSupermarket-mechanical-No Lockdown            1.124       1.038124   \nSupermarket-natural-Lockdown                  0.466       0.661272   \nSupermarket-mechanical-Lockdown               0.208       0.450487   \nRestaurant-natural-No Lockdown               43.243       5.203752   \nRestaurant-mechanical-No Lockdown             1.921       1.361107   \nPost Office-natural-No Lockdown               4.804       2.149000   \nPost Office-mechanical-No Lockdown            0.824       0.939098   \nPost Office-natural-Lockdown                  0.308       0.577468   \nPost Office-mechanical-Lockdown               0.085       0.296417   \nBank-natural-No Lockdown                      7.024       2.588460   \nBank-mechanical-No Lockdown                   1.244       1.125047   \nBank-natural-Lockdown                         0.950       0.945724   \nBank-mechanical-Lockdown                      0.248       0.506708   \nLounge-Two People-Winter-15 Mins              0.100       0.300150   \nLounge-Two People-Winter-30 Mins              0.279       0.448732   \nLounge-Two People-Winter-1 hour               0.714       0.452115   \nLounge-Two People-Summer-15 Mins              0.073       0.260267   \nLounge-Two People-Summer-30 Mins              0.204       0.403171   \nLounge-Two People-Summer-1 hour               0.512       0.500106   \nLounge-Four People-Winter-15 Mins             0.204       0.438835   \nLounge-Four People-Winter-30 Mins             0.787       0.756441   \nLounge-Four People-Winter-1 hour              2.097       0.779871   \nLounge-Four People-Summer-15 Mins             0.233       0.467899   \nLounge-Four People-Summer-30 Mins             0.632       0.684869   \nLounge-Four People-Summer-1 hour              1.551       0.854476   \n\n                                    visitors mean  visitors sd  attack rate  \nPharmacy-natural-No Lockdown                180.0          0.0     0.025428  \nPharmacy-mechanical-No Lockdown             180.0          0.0     0.005367  \nPharmacy-natural-Lockdown                    90.0          0.0     0.027133  \nPharmacy-mechanical-Lockdown                 90.0          0.0     0.005178  \nSupermarket-natural-No Lockdown             360.0          0.0     0.008083  \nSupermarket-mechanical-No Lockdown          360.0          0.0     0.003122  \nSupermarket-natural-Lockdown                 60.0          0.0     0.007767  \nSupermarket-mechanical-Lockdown              60.0          0.0     0.003467  \nRestaurant-natural-No Lockdown              160.0          0.0     0.270269  \nRestaurant-mechanical-No Lockdown           160.0          0.0     0.012006  \nPost Office-natural-No Lockdown             360.0          0.0     0.013344  \nPost Office-mechanical-No Lockdown          360.0          0.0     0.002289  \nPost Office-natural-Lockdown                 72.0          0.0     0.004278  \nPost Office-mechanical-Lockdown              72.0          0.0     0.001181  \nBank-natural-No Lockdown                    180.0          0.0     0.039022  \nBank-mechanical-No Lockdown                 180.0          0.0     0.006911  \nBank-natural-Lockdown                        72.0          0.0     0.013194  \nBank-mechanical-Lockdown                     72.0          0.0     0.003444  \nLounge-Two People-Winter-15 Mins              2.0          0.0     0.050000  \nLounge-Two People-Winter-30 Mins              2.0          0.0     0.139500  \nLounge-Two People-Winter-1 hour               2.0          0.0     0.357000  \nLounge-Two People-Summer-15 Mins              2.0          0.0     0.036500  \nLounge-Two People-Summer-30 Mins              2.0          0.0     0.102000  \nLounge-Two People-Summer-1 hour               2.0          0.0     0.256000  \nLounge-Four People-Winter-15 Mins             4.0          0.0     0.051000  \nLounge-Four People-Winter-30 Mins             4.0          0.0     0.196750  \nLounge-Four People-Winter-1 hour              4.0          0.0     0.524250  \nLounge-Four People-Summer-15 Mins             4.0          0.0     0.058250  \nLounge-Four People-Summer-30 Mins             4.0          0.0     0.158000  \nLounge-Four People-Summer-1 hour              4.0          0.0     0.387750  ",
      "text/html": "<div>\n<style scoped>\n    .dataframe tbody tr th:only-of-type {\n        vertical-align: middle;\n    }\n\n    .dataframe tbody tr th {\n        vertical-align: top;\n    }\n\n    .dataframe thead th {\n        text-align: right;\n    }\n</style>\n<table border=\"1\" class=\"dataframe\">\n  <thead>\n    <tr style=\"text-align: right;\">\n      <th></th>\n      <th>infections mean</th>\n      <th>infections sd</th>\n      <th>visitors mean</th>\n      <th>visitors sd</th>\n      <th>attack rate</th>\n    </tr>\n  </thead>\n  <tbody>\n    <tr>\n      <th>Pharmacy-natural-No Lockdown</th>\n      <td>4.577</td>\n      <td>2.204752</td>\n      <td>180.0</td>\n      <td>0.0</td>\n      <td>0.025428</td>\n    </tr>\n    <tr>\n      <th>Pharmacy-mechanical-No Lockdown</th>\n      <td>0.966</td>\n      <td>0.972517</td>\n      <td>180.0</td>\n      <td>0.0</td>\n      <td>0.005367</td>\n    </tr>\n    <tr>\n      <th>Pharmacy-natural-Lockdown</th>\n      <td>2.442</td>\n      <td>1.512258</td>\n      <td>90.0</td>\n      <td>0.0</td>\n      <td>0.027133</td>\n    </tr>\n    <tr>\n      <th>Pharmacy-mechanical-Lockdown</th>\n      <td>0.466</td>\n      <td>0.699524</td>\n      <td>90.0</td>\n      <td>0.0</td>\n      <td>0.005178</td>\n    </tr>\n    <tr>\n      <th>Supermarket-natural-No Lockdown</th>\n      <td>2.910</td>\n      <td>1.685450</td>\n      <td>360.0</td>\n      <td>0.0</td>\n      <td>0.008083</td>\n    </tr>\n    <tr>\n      <th>Supermarket-mechanical-No Lockdown</th>\n      <td>1.124</td>\n      <td>1.038124</td>\n      <td>360.0</td>\n      <td>0.0</td>\n      <td>0.003122</td>\n    </tr>\n    <tr>\n      <th>Supermarket-natural-Lockdown</th>\n      <td>0.466</td>\n      <td>0.661272</td>\n      <td>60.0</td>\n      <td>0.0</td>\n      <td>0.007767</td>\n    </tr>\n    <tr>\n      <th>Supermarket-mechanical-Lockdown</th>\n      <td>0.208</td>\n      <td>0.450487</td>\n      <td>60.0</td>\n      <td>0.0</td>\n      <td>0.003467</td>\n    </tr>\n    <tr>\n      <th>Restaurant-natural-No Lockdown</th>\n      <td>43.243</td>\n      <td>5.203752</td>\n      <td>160.0</td>\n      <td>0.0</td>\n      <td>0.270269</td>\n    </tr>\n    <tr>\n      <th>Restaurant-mechanical-No Lockdown</th>\n      <td>1.921</td>\n      <td>1.361107</td>\n      <td>160.0</td>\n      <td>0.0</td>\n      <td>0.012006</td>\n    </tr>\n    <tr>\n      <th>Post Office-natural-No Lockdown</th>\n      <td>4.804</td>\n      <td>2.149000</td>\n      <td>360.0</td>\n      <td>0.0</td>\n      <td>0.013344</td>\n    </tr>\n    <tr>\n      <th>Post Office-mechanical-No Lockdown</th>\n      <td>0.824</td>\n      <td>0.939098</td>\n      <td>360.0</td>\n      <td>0.0</td>\n      <td>0.002289</td>\n    </tr>\n    <tr>\n      <th>Post Office-natural-Lockdown</th>\n      <td>0.308</td>\n      <td>0.577468</td>\n      <td>72.0</td>\n      <td>0.0</td>\n      <td>0.004278</td>\n    </tr>\n    <tr>\n      <th>Post Office-mechanical-Lockdown</th>\n      <td>0.085</td>\n      <td>0.296417</td>\n      <td>72.0</td>\n      <td>0.0</td>\n      <td>0.001181</td>\n    </tr>\n    <tr>\n      <th>Bank-natural-No Lockdown</th>\n      <td>7.024</td>\n      <td>2.588460</td>\n      <td>180.0</td>\n      <td>0.0</td>\n      <td>0.039022</td>\n    </tr>\n    <tr>\n      <th>Bank-mechanical-No Lockdown</th>\n      <td>1.244</td>\n      <td>1.125047</td>\n      <td>180.0</td>\n      <td>0.0</td>\n      <td>0.006911</td>\n    </tr>\n    <tr>\n      <th>Bank-natural-Lockdown</th>\n      <td>0.950</td>\n      <td>0.945724</td>\n      <td>72.0</td>\n      <td>0.0</td>\n      <td>0.013194</td>\n    </tr>\n    <tr>\n      <th>Bank-mechanical-Lockdown</th>\n      <td>0.248</td>\n      <td>0.506708</td>\n      <td>72.0</td>\n      <td>0.0</td>\n      <td>0.003444</td>\n    </tr>\n    <tr>\n      <th>Lounge-Two People-Winter-15 Mins</th>\n      <td>0.100</td>\n      <td>0.300150</td>\n      <td>2.0</td>\n      <td>0.0</td>\n      <td>0.050000</td>\n    </tr>\n    <tr>\n      <th>Lounge-Two People-Winter-30 Mins</th>\n      <td>0.279</td>\n      <td>0.448732</td>\n      <td>2.0</td>\n      <td>0.0</td>\n      <td>0.139500</td>\n    </tr>\n    <tr>\n      <th>Lounge-Two People-Winter-1 hour</th>\n      <td>0.714</td>\n      <td>0.452115</td>\n      <td>2.0</td>\n      <td>0.0</td>\n      <td>0.357000</td>\n    </tr>\n    <tr>\n      <th>Lounge-Two People-Summer-15 Mins</th>\n      <td>0.073</td>\n      <td>0.260267</td>\n      <td>2.0</td>\n      <td>0.0</td>\n      <td>0.036500</td>\n    </tr>\n    <tr>\n      <th>Lounge-Two People-Summer-30 Mins</th>\n      <td>0.204</td>\n      <td>0.403171</td>\n      <td>2.0</td>\n      <td>0.0</td>\n      <td>0.102000</td>\n    </tr>\n    <tr>\n      <th>Lounge-Two People-Summer-1 hour</th>\n      <td>0.512</td>\n      <td>0.500106</td>\n      <td>2.0</td>\n      <td>0.0</td>\n      <td>0.256000</td>\n    </tr>\n    <tr>\n      <th>Lounge-Four People-Winter-15 Mins</th>\n      <td>0.204</td>\n      <td>0.438835</td>\n      <td>4.0</td>\n      <td>0.0</td>\n      <td>0.051000</td>\n    </tr>\n    <tr>\n      <th>Lounge-Four People-Winter-30 Mins</th>\n      <td>0.787</td>\n      <td>0.756441</td>\n      <td>4.0</td>\n      <td>0.0</td>\n      <td>0.196750</td>\n    </tr>\n    <tr>\n      <th>Lounge-Four People-Winter-1 hour</th>\n      <td>2.097</td>\n      <td>0.779871</td>\n      <td>4.0</td>\n      <td>0.0</td>\n      <td>0.524250</td>\n    </tr>\n    <tr>\n      <th>Lounge-Four People-Summer-15 Mins</th>\n      <td>0.233</td>\n      <td>0.467899</td>\n      <td>4.0</td>\n      <td>0.0</td>\n      <td>0.058250</td>\n    </tr>\n    <tr>\n      <th>Lounge-Four People-Summer-30 Mins</th>\n      <td>0.632</td>\n      <td>0.684869</td>\n      <td>4.0</td>\n      <td>0.0</td>\n      <td>0.158000</td>\n    </tr>\n    <tr>\n      <th>Lounge-Four People-Summer-1 hour</th>\n      <td>1.551</td>\n      <td>0.854476</td>\n      <td>4.0</td>\n      <td>0.0</td>\n      <td>0.387750</td>\n    </tr>\n  </tbody>\n</table>\n</div>"
     },
     "metadata": {},
     "execution_count": 9
    }
   ],
   "source": [
    "df_results = pd.DataFrame.from_dict(sim_results, orient='index', columns=['infections mean', 'infections sd','visitors mean', 'visitors sd', 'attack rate'])\n",
    "df_results"
   ]
  },
  {
   "cell_type": "code",
   "execution_count": 10,
   "metadata": {},
   "outputs": [
    {
     "output_type": "display_data",
     "data": {
      "application/vnd.plotly.v1+json": {
       "config": {
        "plotlyServerURL": "https://plot.ly"
       },
       "data": [
        {
         "customdata": [
          [
           "Pharmacy-natural-No Lockdown"
          ],
          [
           "Pharmacy-mechanical-No Lockdown"
          ],
          [
           "Pharmacy-natural-Lockdown"
          ],
          [
           "Pharmacy-mechanical-Lockdown"
          ],
          [
           "Supermarket-natural-No Lockdown"
          ],
          [
           "Supermarket-mechanical-No Lockdown"
          ],
          [
           "Supermarket-natural-Lockdown"
          ],
          [
           "Supermarket-mechanical-Lockdown"
          ],
          [
           "Restaurant-natural-No Lockdown"
          ],
          [
           "Restaurant-mechanical-No Lockdown"
          ],
          [
           "Post Office-natural-No Lockdown"
          ],
          [
           "Post Office-mechanical-No Lockdown"
          ],
          [
           "Post Office-natural-Lockdown"
          ],
          [
           "Post Office-mechanical-Lockdown"
          ],
          [
           "Bank-natural-No Lockdown"
          ],
          [
           "Bank-mechanical-No Lockdown"
          ],
          [
           "Bank-natural-Lockdown"
          ],
          [
           "Bank-mechanical-Lockdown"
          ],
          [
           "Lounge-Two People-Winter-15 Mins"
          ],
          [
           "Lounge-Two People-Winter-30 Mins"
          ],
          [
           "Lounge-Two People-Winter-1 hour"
          ],
          [
           "Lounge-Two People-Summer-15 Mins"
          ],
          [
           "Lounge-Two People-Summer-30 Mins"
          ],
          [
           "Lounge-Two People-Summer-1 hour"
          ],
          [
           "Lounge-Four People-Winter-15 Mins"
          ],
          [
           "Lounge-Four People-Winter-30 Mins"
          ],
          [
           "Lounge-Four People-Winter-1 hour"
          ],
          [
           "Lounge-Four People-Summer-15 Mins"
          ],
          [
           "Lounge-Four People-Summer-30 Mins"
          ],
          [
           "Lounge-Four People-Summer-1 hour"
          ]
         ],
         "hovertemplate": "infections mean=%{x}<br>attack rate=%{y}<br>hover_data_0=%{customdata[0]}<extra></extra>",
         "legendgroup": "",
         "marker": {
          "color": "#636efa",
          "symbol": "circle"
         },
         "mode": "markers",
         "name": "",
         "showlegend": false,
         "type": "scatter",
         "x": [
          4.577,
          0.966,
          2.442,
          0.466,
          2.91,
          1.124,
          0.466,
          0.208,
          43.243,
          1.921,
          4.804,
          0.824,
          0.308,
          0.085,
          7.024,
          1.244,
          0.95,
          0.248,
          0.1,
          0.279,
          0.714,
          0.073,
          0.204,
          0.512,
          0.204,
          0.787,
          2.097,
          0.233,
          0.632,
          1.551
         ],
         "xaxis": "x",
         "y": [
          0.02542777777777778,
          0.005366666666666666,
          0.027133333333333336,
          0.005177777777777778,
          0.008083333333333333,
          0.0031222222222222224,
          0.007766666666666667,
          0.0034666666666666665,
          0.27026875,
          0.01200625,
          0.013344444444444445,
          0.002288888888888889,
          0.004277777777777778,
          0.0011805555555555556,
          0.03902222222222222,
          0.006911111111111111,
          0.013194444444444444,
          0.0034444444444444444,
          0.05,
          0.1395,
          0.357,
          0.0365,
          0.102,
          0.256,
          0.051,
          0.19675,
          0.52425,
          0.05825,
          0.158,
          0.38775
         ],
         "yaxis": "y"
        }
       ],
       "layout": {
        "legend": {
         "tracegroupgap": 0
        },
        "margin": {
         "t": 60
        },
        "template": {
         "data": {
          "bar": [
           {
            "error_x": {
             "color": "#2a3f5f"
            },
            "error_y": {
             "color": "#2a3f5f"
            },
            "marker": {
             "line": {
              "color": "#E5ECF6",
              "width": 0.5
             }
            },
            "type": "bar"
           }
          ],
          "barpolar": [
           {
            "marker": {
             "line": {
              "color": "#E5ECF6",
              "width": 0.5
             }
            },
            "type": "barpolar"
           }
          ],
          "carpet": [
           {
            "aaxis": {
             "endlinecolor": "#2a3f5f",
             "gridcolor": "white",
             "linecolor": "white",
             "minorgridcolor": "white",
             "startlinecolor": "#2a3f5f"
            },
            "baxis": {
             "endlinecolor": "#2a3f5f",
             "gridcolor": "white",
             "linecolor": "white",
             "minorgridcolor": "white",
             "startlinecolor": "#2a3f5f"
            },
            "type": "carpet"
           }
          ],
          "choropleth": [
           {
            "colorbar": {
             "outlinewidth": 0,
             "ticks": ""
            },
            "type": "choropleth"
           }
          ],
          "contour": [
           {
            "colorbar": {
             "outlinewidth": 0,
             "ticks": ""
            },
            "colorscale": [
             [
              0,
              "#0d0887"
             ],
             [
              0.1111111111111111,
              "#46039f"
             ],
             [
              0.2222222222222222,
              "#7201a8"
             ],
             [
              0.3333333333333333,
              "#9c179e"
             ],
             [
              0.4444444444444444,
              "#bd3786"
             ],
             [
              0.5555555555555556,
              "#d8576b"
             ],
             [
              0.6666666666666666,
              "#ed7953"
             ],
             [
              0.7777777777777778,
              "#fb9f3a"
             ],
             [
              0.8888888888888888,
              "#fdca26"
             ],
             [
              1,
              "#f0f921"
             ]
            ],
            "type": "contour"
           }
          ],
          "contourcarpet": [
           {
            "colorbar": {
             "outlinewidth": 0,
             "ticks": ""
            },
            "type": "contourcarpet"
           }
          ],
          "heatmap": [
           {
            "colorbar": {
             "outlinewidth": 0,
             "ticks": ""
            },
            "colorscale": [
             [
              0,
              "#0d0887"
             ],
             [
              0.1111111111111111,
              "#46039f"
             ],
             [
              0.2222222222222222,
              "#7201a8"
             ],
             [
              0.3333333333333333,
              "#9c179e"
             ],
             [
              0.4444444444444444,
              "#bd3786"
             ],
             [
              0.5555555555555556,
              "#d8576b"
             ],
             [
              0.6666666666666666,
              "#ed7953"
             ],
             [
              0.7777777777777778,
              "#fb9f3a"
             ],
             [
              0.8888888888888888,
              "#fdca26"
             ],
             [
              1,
              "#f0f921"
             ]
            ],
            "type": "heatmap"
           }
          ],
          "heatmapgl": [
           {
            "colorbar": {
             "outlinewidth": 0,
             "ticks": ""
            },
            "colorscale": [
             [
              0,
              "#0d0887"
             ],
             [
              0.1111111111111111,
              "#46039f"
             ],
             [
              0.2222222222222222,
              "#7201a8"
             ],
             [
              0.3333333333333333,
              "#9c179e"
             ],
             [
              0.4444444444444444,
              "#bd3786"
             ],
             [
              0.5555555555555556,
              "#d8576b"
             ],
             [
              0.6666666666666666,
              "#ed7953"
             ],
             [
              0.7777777777777778,
              "#fb9f3a"
             ],
             [
              0.8888888888888888,
              "#fdca26"
             ],
             [
              1,
              "#f0f921"
             ]
            ],
            "type": "heatmapgl"
           }
          ],
          "histogram": [
           {
            "marker": {
             "colorbar": {
              "outlinewidth": 0,
              "ticks": ""
             }
            },
            "type": "histogram"
           }
          ],
          "histogram2d": [
           {
            "colorbar": {
             "outlinewidth": 0,
             "ticks": ""
            },
            "colorscale": [
             [
              0,
              "#0d0887"
             ],
             [
              0.1111111111111111,
              "#46039f"
             ],
             [
              0.2222222222222222,
              "#7201a8"
             ],
             [
              0.3333333333333333,
              "#9c179e"
             ],
             [
              0.4444444444444444,
              "#bd3786"
             ],
             [
              0.5555555555555556,
              "#d8576b"
             ],
             [
              0.6666666666666666,
              "#ed7953"
             ],
             [
              0.7777777777777778,
              "#fb9f3a"
             ],
             [
              0.8888888888888888,
              "#fdca26"
             ],
             [
              1,
              "#f0f921"
             ]
            ],
            "type": "histogram2d"
           }
          ],
          "histogram2dcontour": [
           {
            "colorbar": {
             "outlinewidth": 0,
             "ticks": ""
            },
            "colorscale": [
             [
              0,
              "#0d0887"
             ],
             [
              0.1111111111111111,
              "#46039f"
             ],
             [
              0.2222222222222222,
              "#7201a8"
             ],
             [
              0.3333333333333333,
              "#9c179e"
             ],
             [
              0.4444444444444444,
              "#bd3786"
             ],
             [
              0.5555555555555556,
              "#d8576b"
             ],
             [
              0.6666666666666666,
              "#ed7953"
             ],
             [
              0.7777777777777778,
              "#fb9f3a"
             ],
             [
              0.8888888888888888,
              "#fdca26"
             ],
             [
              1,
              "#f0f921"
             ]
            ],
            "type": "histogram2dcontour"
           }
          ],
          "mesh3d": [
           {
            "colorbar": {
             "outlinewidth": 0,
             "ticks": ""
            },
            "type": "mesh3d"
           }
          ],
          "parcoords": [
           {
            "line": {
             "colorbar": {
              "outlinewidth": 0,
              "ticks": ""
             }
            },
            "type": "parcoords"
           }
          ],
          "pie": [
           {
            "automargin": true,
            "type": "pie"
           }
          ],
          "scatter": [
           {
            "marker": {
             "colorbar": {
              "outlinewidth": 0,
              "ticks": ""
             }
            },
            "type": "scatter"
           }
          ],
          "scatter3d": [
           {
            "line": {
             "colorbar": {
              "outlinewidth": 0,
              "ticks": ""
             }
            },
            "marker": {
             "colorbar": {
              "outlinewidth": 0,
              "ticks": ""
             }
            },
            "type": "scatter3d"
           }
          ],
          "scattercarpet": [
           {
            "marker": {
             "colorbar": {
              "outlinewidth": 0,
              "ticks": ""
             }
            },
            "type": "scattercarpet"
           }
          ],
          "scattergeo": [
           {
            "marker": {
             "colorbar": {
              "outlinewidth": 0,
              "ticks": ""
             }
            },
            "type": "scattergeo"
           }
          ],
          "scattergl": [
           {
            "marker": {
             "colorbar": {
              "outlinewidth": 0,
              "ticks": ""
             }
            },
            "type": "scattergl"
           }
          ],
          "scattermapbox": [
           {
            "marker": {
             "colorbar": {
              "outlinewidth": 0,
              "ticks": ""
             }
            },
            "type": "scattermapbox"
           }
          ],
          "scatterpolar": [
           {
            "marker": {
             "colorbar": {
              "outlinewidth": 0,
              "ticks": ""
             }
            },
            "type": "scatterpolar"
           }
          ],
          "scatterpolargl": [
           {
            "marker": {
             "colorbar": {
              "outlinewidth": 0,
              "ticks": ""
             }
            },
            "type": "scatterpolargl"
           }
          ],
          "scatterternary": [
           {
            "marker": {
             "colorbar": {
              "outlinewidth": 0,
              "ticks": ""
             }
            },
            "type": "scatterternary"
           }
          ],
          "surface": [
           {
            "colorbar": {
             "outlinewidth": 0,
             "ticks": ""
            },
            "colorscale": [
             [
              0,
              "#0d0887"
             ],
             [
              0.1111111111111111,
              "#46039f"
             ],
             [
              0.2222222222222222,
              "#7201a8"
             ],
             [
              0.3333333333333333,
              "#9c179e"
             ],
             [
              0.4444444444444444,
              "#bd3786"
             ],
             [
              0.5555555555555556,
              "#d8576b"
             ],
             [
              0.6666666666666666,
              "#ed7953"
             ],
             [
              0.7777777777777778,
              "#fb9f3a"
             ],
             [
              0.8888888888888888,
              "#fdca26"
             ],
             [
              1,
              "#f0f921"
             ]
            ],
            "type": "surface"
           }
          ],
          "table": [
           {
            "cells": {
             "fill": {
              "color": "#EBF0F8"
             },
             "line": {
              "color": "white"
             }
            },
            "header": {
             "fill": {
              "color": "#C8D4E3"
             },
             "line": {
              "color": "white"
             }
            },
            "type": "table"
           }
          ]
         },
         "layout": {
          "annotationdefaults": {
           "arrowcolor": "#2a3f5f",
           "arrowhead": 0,
           "arrowwidth": 1
          },
          "coloraxis": {
           "colorbar": {
            "outlinewidth": 0,
            "ticks": ""
           }
          },
          "colorscale": {
           "diverging": [
            [
             0,
             "#8e0152"
            ],
            [
             0.1,
             "#c51b7d"
            ],
            [
             0.2,
             "#de77ae"
            ],
            [
             0.3,
             "#f1b6da"
            ],
            [
             0.4,
             "#fde0ef"
            ],
            [
             0.5,
             "#f7f7f7"
            ],
            [
             0.6,
             "#e6f5d0"
            ],
            [
             0.7,
             "#b8e186"
            ],
            [
             0.8,
             "#7fbc41"
            ],
            [
             0.9,
             "#4d9221"
            ],
            [
             1,
             "#276419"
            ]
           ],
           "sequential": [
            [
             0,
             "#0d0887"
            ],
            [
             0.1111111111111111,
             "#46039f"
            ],
            [
             0.2222222222222222,
             "#7201a8"
            ],
            [
             0.3333333333333333,
             "#9c179e"
            ],
            [
             0.4444444444444444,
             "#bd3786"
            ],
            [
             0.5555555555555556,
             "#d8576b"
            ],
            [
             0.6666666666666666,
             "#ed7953"
            ],
            [
             0.7777777777777778,
             "#fb9f3a"
            ],
            [
             0.8888888888888888,
             "#fdca26"
            ],
            [
             1,
             "#f0f921"
            ]
           ],
           "sequentialminus": [
            [
             0,
             "#0d0887"
            ],
            [
             0.1111111111111111,
             "#46039f"
            ],
            [
             0.2222222222222222,
             "#7201a8"
            ],
            [
             0.3333333333333333,
             "#9c179e"
            ],
            [
             0.4444444444444444,
             "#bd3786"
            ],
            [
             0.5555555555555556,
             "#d8576b"
            ],
            [
             0.6666666666666666,
             "#ed7953"
            ],
            [
             0.7777777777777778,
             "#fb9f3a"
            ],
            [
             0.8888888888888888,
             "#fdca26"
            ],
            [
             1,
             "#f0f921"
            ]
           ]
          },
          "colorway": [
           "#636efa",
           "#EF553B",
           "#00cc96",
           "#ab63fa",
           "#FFA15A",
           "#19d3f3",
           "#FF6692",
           "#B6E880",
           "#FF97FF",
           "#FECB52"
          ],
          "font": {
           "color": "#2a3f5f"
          },
          "geo": {
           "bgcolor": "white",
           "lakecolor": "white",
           "landcolor": "#E5ECF6",
           "showlakes": true,
           "showland": true,
           "subunitcolor": "white"
          },
          "hoverlabel": {
           "align": "left"
          },
          "hovermode": "closest",
          "mapbox": {
           "style": "light"
          },
          "paper_bgcolor": "white",
          "plot_bgcolor": "#E5ECF6",
          "polar": {
           "angularaxis": {
            "gridcolor": "white",
            "linecolor": "white",
            "ticks": ""
           },
           "bgcolor": "#E5ECF6",
           "radialaxis": {
            "gridcolor": "white",
            "linecolor": "white",
            "ticks": ""
           }
          },
          "scene": {
           "xaxis": {
            "backgroundcolor": "#E5ECF6",
            "gridcolor": "white",
            "gridwidth": 2,
            "linecolor": "white",
            "showbackground": true,
            "ticks": "",
            "zerolinecolor": "white"
           },
           "yaxis": {
            "backgroundcolor": "#E5ECF6",
            "gridcolor": "white",
            "gridwidth": 2,
            "linecolor": "white",
            "showbackground": true,
            "ticks": "",
            "zerolinecolor": "white"
           },
           "zaxis": {
            "backgroundcolor": "#E5ECF6",
            "gridcolor": "white",
            "gridwidth": 2,
            "linecolor": "white",
            "showbackground": true,
            "ticks": "",
            "zerolinecolor": "white"
           }
          },
          "shapedefaults": {
           "line": {
            "color": "#2a3f5f"
           }
          },
          "ternary": {
           "aaxis": {
            "gridcolor": "white",
            "linecolor": "white",
            "ticks": ""
           },
           "baxis": {
            "gridcolor": "white",
            "linecolor": "white",
            "ticks": ""
           },
           "bgcolor": "#E5ECF6",
           "caxis": {
            "gridcolor": "white",
            "linecolor": "white",
            "ticks": ""
           }
          },
          "title": {
           "x": 0.05
          },
          "xaxis": {
           "automargin": true,
           "gridcolor": "white",
           "linecolor": "white",
           "ticks": "",
           "title": {
            "standoff": 15
           },
           "zerolinecolor": "white",
           "zerolinewidth": 2
          },
          "yaxis": {
           "automargin": true,
           "gridcolor": "white",
           "linecolor": "white",
           "ticks": "",
           "title": {
            "standoff": 15
           },
           "zerolinecolor": "white",
           "zerolinewidth": 2
          }
         }
        },
        "title": {
         "text": "Infections vs attack rate"
        },
        "xaxis": {
         "anchor": "y",
         "domain": [
          0,
          1
         ],
         "title": {
          "text": "Infections (mean)"
         }
        },
        "yaxis": {
         "anchor": "x",
         "domain": [
          0,
          1
         ],
         "title": {
          "text": "Attack rate"
         }
        }
       }
      }
     },
     "metadata": {}
    }
   ],
   "source": [
    "fig = px.scatter(df_results, x=\"infections mean\", y=\"attack rate\", hover_data=[df_results.index])\n",
    "fig.update_layout(\n",
    "    title=\"Infections vs attack rate\",\n",
    "    xaxis_title=\"Infections (mean)\",\n",
    "    yaxis_title=\"Attack rate\")\n",
    "fig.show()"
   ]
  },
  {
   "cell_type": "code",
   "execution_count": 11,
   "metadata": {},
   "outputs": [],
   "source": [
    "df_results.to_excel('./output/environment reproduction rates.xlsx', 'reproduction rates')"
   ]
  },
  {
   "cell_type": "code",
   "execution_count": null,
   "metadata": {},
   "outputs": [],
   "source": []
  }
 ],
 "metadata": {
  "language_info": {
   "codemirror_mode": {
    "name": "ipython",
    "version": 3
   },
   "file_extension": ".py",
   "mimetype": "text/x-python",
   "name": "python",
   "nbconvert_exporter": "python",
   "pygments_lexer": "ipython3",
   "version": "3.7.7-final"
  },
  "orig_nbformat": 2,
  "kernelspec": {
   "name": "python37764bitdes2020conda06b03b1cd12e49f4a2bda6a10d24292b",
   "display_name": "Python 3.7.7 64-bit ('DES2020': conda)"
  }
 },
 "nbformat": 4,
 "nbformat_minor": 2
}