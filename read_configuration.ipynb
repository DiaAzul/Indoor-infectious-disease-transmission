{
 "cells": [
  {
   "cell_type": "code",
   "execution_count": 3,
   "metadata": {},
   "outputs": [],
   "source": [
    "import pandas as pd"
   ]
  },
  {
   "cell_type": "code",
   "execution_count": 8,
   "metadata": {},
   "outputs": [
    {
     "output_type": "execute_result",
     "data": {
      "text/plain": "           environment  volume  visitor-arrival-rate  arrival-variance  \\\n0     Pharmacy-natural      75                   100                 0   \n1  Pharmacy-mechanical      75                   100                 0   \n\n   average-length-of-stay  alos-variance  visitor-capacity  staff  \\\n0                0.166667              0                 5      5   \n1                0.166667              0                 5      5   \n\n   air-exchange-rate  \n0                0.2  \n1                2.2  ",
      "text/html": "<div>\n<style scoped>\n    .dataframe tbody tr th:only-of-type {\n        vertical-align: middle;\n    }\n\n    .dataframe tbody tr th {\n        vertical-align: top;\n    }\n\n    .dataframe thead th {\n        text-align: right;\n    }\n</style>\n<table border=\"1\" class=\"dataframe\">\n  <thead>\n    <tr style=\"text-align: right;\">\n      <th></th>\n      <th>environment</th>\n      <th>volume</th>\n      <th>visitor-arrival-rate</th>\n      <th>arrival-variance</th>\n      <th>average-length-of-stay</th>\n      <th>alos-variance</th>\n      <th>visitor-capacity</th>\n      <th>staff</th>\n      <th>air-exchange-rate</th>\n    </tr>\n  </thead>\n  <tbody>\n    <tr>\n      <th>0</th>\n      <td>Pharmacy-natural</td>\n      <td>75</td>\n      <td>100</td>\n      <td>0</td>\n      <td>0.166667</td>\n      <td>0</td>\n      <td>5</td>\n      <td>5</td>\n      <td>0.2</td>\n    </tr>\n    <tr>\n      <th>1</th>\n      <td>Pharmacy-mechanical</td>\n      <td>75</td>\n      <td>100</td>\n      <td>0</td>\n      <td>0.166667</td>\n      <td>0</td>\n      <td>5</td>\n      <td>5</td>\n      <td>2.2</td>\n    </tr>\n  </tbody>\n</table>\n</div>"
     },
     "metadata": {},
     "execution_count": 8
    }
   ],
   "source": [
    "pd.read_excel('./Configuration/Environment database.xlsx', header=4, engine='openpyxl')"
   ]
  },
  {
   "cell_type": "code",
   "execution_count": null,
   "metadata": {},
   "outputs": [],
   "source": []
  }
 ],
 "metadata": {
  "language_info": {
   "codemirror_mode": {
    "name": "ipython",
    "version": 3
   },
   "file_extension": ".py",
   "mimetype": "text/x-python",
   "name": "python",
   "nbconvert_exporter": "python",
   "pygments_lexer": "ipython3",
   "version": "3.7.7-final"
  },
  "orig_nbformat": 2,
  "kernelspec": {
   "name": "python37764bitdes2020conda06b03b1cd12e49f4a2bda6a10d24292b",
   "display_name": "Python 3.7.7 64-bit ('DES2020': conda)"
  }
 },
 "nbformat": 4,
 "nbformat_minor": 2
}