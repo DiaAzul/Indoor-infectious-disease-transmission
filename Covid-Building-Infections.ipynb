{
 "cells": [
  {
   "cell_type": "markdown",
   "metadata": {},
   "source": [
    "# Calculate reproduction rate (R0) for aerosol transmission of infectious disease within a micro-environment\n",
    "This model calculates the reproduction rate (R0) for transmission of infectious diseases (Covid19) within a micro-environment. It assumes the prime method of transmission is an aerosol and that the aerosol is well mixed across the space, i.e. there are no local concentrations which may impact on an individuals probability for being infected.\n",
    "\n",
    "The modelling follows the approach set out in the paper:\n",
    "Buonanno, G., Stabile, L., & Morawska, L. (2020). Estimation of airborne viral emission: Quanta emission rate of SARS-CoV-2 for infection risk assessment [Preprint]. Infectious Diseases (except HIV/AIDS). https://doi.org/10.1101/2020.04.12.20062828"
   ]
  },
  {
   "cell_type": "code",
   "execution_count": 142,
   "metadata": {},
   "outputs": [],
   "source": [
    "import math\n",
    "import plotly.graph_objects as go"
   ]
  },
  {
   "cell_type": "code",
   "execution_count": 143,
   "metadata": {},
   "outputs": [],
   "source": [
    "# Check parameters to ensure we don't have out of bound values\n",
    "def isGreaterThanZero(x):\n",
    "    if not(type(x) is int or type(x) is float):\n",
    "        raise ValueError('value must be a number')\n",
    "    if not (x > 0):\n",
    "        raise ValueError('value must be greater than zero')\n",
    "\n",
    "def isGreaterThanOrEqualZero(x):\n",
    "    if not(type(x) is int or type(x) is float):\n",
    "        raise ValueError('value must be a number')\n",
    "    if not (x >= 0):\n",
    "        raise ValueError('value must be greater than, or equal to, zero')"
   ]
  },
  {
   "cell_type": "code",
   "execution_count": 144,
   "metadata": {},
   "outputs": [],
   "source": [
    "# Calculate the quanta concentration at time t\n",
    "def quanta_concentration(t, volume, air_exchange_rate, infected, quanta_emission_rate, initial_concentration=0.0, time_interval=1.0):\n",
    "    \"\"\" Calculate the quanta concentration at time t\n",
    "\n",
    "    Keyword arguments:\n",
    "    t                       Number of time intervals in the future when concentration is calculated\n",
    "    volume                  Volume of the indoor environment\n",
    "    air_exchange_rate       Rate at which air is exchanged\n",
    "    infected                The number of infectious subjects \n",
    "    quanta_emission_rate    Rate at which an infected person emits infectious droplets\n",
    "    initial_concentration   Quanta concentration at the start of the period (default=0.0)\n",
    "                            Note: Original paper n0 is absolute quanta, not concentration\n",
    "    time_interval           Scaling factor for time interval to enable sub-unit calculations (default=1.0)\n",
    "\n",
    "    Return value:\n",
    "    quanta_concentration    Concentration of quanta at time period t.\n",
    "\n",
    "    Note conventions:\n",
    "        Time period is measured in hours\n",
    "        Volumes are metres^3\n",
    "        Concentration is quanta per m^3 (for initial concentration and returned results)\n",
    "        Emmission rate is quanta per hour\n",
    "    \"\"\"\n",
    "    isGreaterThanZero(t)\n",
    "    isGreaterThanZero(volume)\n",
    "    isGreaterThanZero(air_exchange_rate)\n",
    "    isGreaterThanOrEqualZero(infected)\n",
    "    isGreaterThanZero(quanta_emission_rate)\n",
    "    isGreaterThanOrEqualZero(initial_concentration)\n",
    "    isGreaterThanZero(time_interval)  \n",
    "\n",
    "    a = quanta_emission_rate * infected / (air_exchange_rate * volume) * time_interval\n",
    "    quanta_concentration = a + (initial_concentration + a) * math.exp(-air_exchange_rate * t * time_interval)\n",
    "    \n",
    "    return quanta_concentration                    "
   ]
  },
  {
   "cell_type": "code",
   "execution_count": 145,
   "metadata": {},
   "outputs": [],
   "source": [
    "# Calculate the infection risk as a function of exposure time using the Wells-Riley equation\n",
    "def infection_risk(exposure_time, inhalation_rate):\n",
    "    \"\"\" Calculate the infection risk based upon exposure time and inhalation rate\n",
    "\n",
    "    Keywork arguments\n",
    "    exposure_time           Amount of time that the susceptible person was exposed\n",
    "    inhalation_rate         Inhalation rate of the exposed subject (affected by subjects activity levels)\n",
    "\n",
    "    Return\n",
    "    infection_risk          Risk that a susceptible person will be infected as a probability\n",
    "    \"\"\"\n",
    "\n",
    "    # Assume parameters are valid (all parameters greater than zero)\n",
    "\n",
    "    # Integrate quanta_concentration over time from 0 to T [exposure_time]\n",
    "    "
   ]
  },
  {
   "cell_type": "code",
   "execution_count": 146,
   "metadata": {},
   "outputs": [
    {
     "output_type": "error",
     "ename": "ValueError",
     "evalue": "value must be a number",
     "traceback": [
      "\u001b[1;31m---------------------------------------------------------------------------\u001b[0m",
      "\u001b[1;31mValueError\u001b[0m                                Traceback (most recent call last)",
      "\u001b[1;32m<ipython-input-146-d9bde1eb8ce8>\u001b[0m in \u001b[0;36m<module>\u001b[1;34m\u001b[0m\n\u001b[0;32m     21\u001b[0m     \u001b[0mthis_n\u001b[0m \u001b[1;33m=\u001b[0m  \u001b[0mme_n0\u001b[0m \u001b[1;32mif\u001b[0m \u001b[1;32mnot\u001b[0m \u001b[0mn\u001b[0m \u001b[1;32melse\u001b[0m \u001b[0mn\u001b[0m\u001b[1;33m[\u001b[0m\u001b[1;33m-\u001b[0m\u001b[1;36m1\u001b[0m\u001b[1;33m]\u001b[0m \u001b[1;31m# initialise n, otherwise use last time period\u001b[0m\u001b[1;33m\u001b[0m\u001b[1;33m\u001b[0m\u001b[0m\n\u001b[0;32m     22\u001b[0m     \u001b[0mthis_infected\u001b[0m \u001b[1;33m=\u001b[0m \u001b[0mme_infected\u001b[0m \u001b[1;32mif\u001b[0m \u001b[0mt\u001b[0m \u001b[1;33m<\u001b[0m\u001b[1;36m10\u001b[0m \u001b[1;32melse\u001b[0m \u001b[1;36m0\u001b[0m\u001b[1;33m\u001b[0m\u001b[1;33m\u001b[0m\u001b[0m\n\u001b[1;32m---> 23\u001b[1;33m     \u001b[0mn\u001b[0m\u001b[1;33m.\u001b[0m\u001b[0mappend\u001b[0m\u001b[1;33m(\u001b[0m\u001b[0mquanta_concentration\u001b[0m\u001b[1;33m(\u001b[0m\u001b[1;36m1\u001b[0m\u001b[1;33m,\u001b[0m \u001b[0mme_volume\u001b[0m\u001b[1;33m,\u001b[0m \u001b[0mme_air_exchange_rate\u001b[0m\u001b[1;33m,\u001b[0m \u001b[0mthis_infected\u001b[0m\u001b[1;33m,\u001b[0m \u001b[0mme_quanta_emission_rate\u001b[0m\u001b[1;33m,\u001b[0m \u001b[0mthis_n\u001b[0m\u001b[1;33m,\u001b[0m \u001b[0mtime_interval\u001b[0m\u001b[1;33m)\u001b[0m\u001b[1;33m)\u001b[0m\u001b[1;33m\u001b[0m\u001b[1;33m\u001b[0m\u001b[0m\n\u001b[0m\u001b[0;32m     24\u001b[0m \u001b[1;33m\u001b[0m\u001b[0m\n\u001b[0;32m     25\u001b[0m \u001b[0mfig\u001b[0m \u001b[1;33m=\u001b[0m \u001b[0mgo\u001b[0m\u001b[1;33m.\u001b[0m\u001b[0mFigure\u001b[0m\u001b[1;33m(\u001b[0m\u001b[1;33m)\u001b[0m\u001b[1;33m\u001b[0m\u001b[1;33m\u001b[0m\u001b[0m\n",
      "\u001b[1;32m<ipython-input-144-a6b1a655cb17>\u001b[0m in \u001b[0;36mquanta_concentration\u001b[1;34m(t, volume, air_exchange_rate, infected, quanta_emission_rate, n0, time_interval)\u001b[0m\n\u001b[0;32m     29\u001b[0m     \u001b[0misGreaterThanOrEqualZero\u001b[0m\u001b[1;33m(\u001b[0m\u001b[0mn0\u001b[0m\u001b[1;33m)\u001b[0m\u001b[1;33m\u001b[0m\u001b[1;33m\u001b[0m\u001b[0m\n\u001b[0;32m     30\u001b[0m     \u001b[0misGreaterThanZero\u001b[0m\u001b[1;33m(\u001b[0m\u001b[0mtime_interval\u001b[0m\u001b[1;33m)\u001b[0m\u001b[1;33m\u001b[0m\u001b[1;33m\u001b[0m\u001b[0m\n\u001b[1;32m---> 31\u001b[1;33m     \u001b[0misGreaterThanOrEqualZero\u001b[0m\u001b[1;33m(\u001b[0m\u001b[1;34m'zorro'\u001b[0m\u001b[1;33m)\u001b[0m\u001b[1;33m\u001b[0m\u001b[1;33m\u001b[0m\u001b[0m\n\u001b[0m\u001b[0;32m     32\u001b[0m \u001b[1;33m\u001b[0m\u001b[0m\n\u001b[0;32m     33\u001b[0m     \u001b[0ma\u001b[0m \u001b[1;33m=\u001b[0m \u001b[0mquanta_emission_rate\u001b[0m \u001b[1;33m*\u001b[0m \u001b[0minfected\u001b[0m \u001b[1;33m/\u001b[0m \u001b[1;33m(\u001b[0m\u001b[0mair_exchange_rate\u001b[0m \u001b[1;33m*\u001b[0m \u001b[0mvolume\u001b[0m\u001b[1;33m)\u001b[0m \u001b[1;33m*\u001b[0m \u001b[0mtime_interval\u001b[0m\u001b[1;33m\u001b[0m\u001b[1;33m\u001b[0m\u001b[0m\n",
      "\u001b[1;32m<ipython-input-143-f24956cf26f5>\u001b[0m in \u001b[0;36misGreaterThanOrEqualZero\u001b[1;34m(x)\u001b[0m\n\u001b[0;32m      8\u001b[0m \u001b[1;32mdef\u001b[0m \u001b[0misGreaterThanOrEqualZero\u001b[0m\u001b[1;33m(\u001b[0m\u001b[0mx\u001b[0m\u001b[1;33m)\u001b[0m\u001b[1;33m:\u001b[0m\u001b[1;33m\u001b[0m\u001b[1;33m\u001b[0m\u001b[0m\n\u001b[0;32m      9\u001b[0m     \u001b[1;32mif\u001b[0m \u001b[1;32mnot\u001b[0m\u001b[1;33m(\u001b[0m\u001b[0mtype\u001b[0m\u001b[1;33m(\u001b[0m\u001b[0mx\u001b[0m\u001b[1;33m)\u001b[0m \u001b[1;32mis\u001b[0m \u001b[0mint\u001b[0m \u001b[1;32mor\u001b[0m \u001b[0mtype\u001b[0m\u001b[1;33m(\u001b[0m\u001b[0mx\u001b[0m\u001b[1;33m)\u001b[0m \u001b[1;32mis\u001b[0m \u001b[0mfloat\u001b[0m\u001b[1;33m)\u001b[0m\u001b[1;33m:\u001b[0m\u001b[1;33m\u001b[0m\u001b[1;33m\u001b[0m\u001b[0m\n\u001b[1;32m---> 10\u001b[1;33m         \u001b[1;32mraise\u001b[0m \u001b[0mValueError\u001b[0m\u001b[1;33m(\u001b[0m\u001b[1;34m'value must be a number'\u001b[0m\u001b[1;33m)\u001b[0m\u001b[1;33m\u001b[0m\u001b[1;33m\u001b[0m\u001b[0m\n\u001b[0m\u001b[0;32m     11\u001b[0m     \u001b[1;32mif\u001b[0m \u001b[1;32mnot\u001b[0m \u001b[1;33m(\u001b[0m\u001b[0mx\u001b[0m \u001b[1;33m>=\u001b[0m \u001b[1;36m0\u001b[0m\u001b[1;33m)\u001b[0m\u001b[1;33m:\u001b[0m\u001b[1;33m\u001b[0m\u001b[1;33m\u001b[0m\u001b[0m\n\u001b[0;32m     12\u001b[0m         \u001b[1;32mraise\u001b[0m \u001b[0mValueError\u001b[0m\u001b[1;33m(\u001b[0m\u001b[1;34m'value is less than equal zero'\u001b[0m\u001b[1;33m)\u001b[0m\u001b[1;33m\u001b[0m\u001b[1;33m\u001b[0m\u001b[0m\n",
      "\u001b[1;31mValueError\u001b[0m: value must be a number"
     ]
    }
   ],
   "source": [
    "# Plot concentration in micro-environment over a period\n",
    "\n",
    "# Set base statistics\n",
    "me_volume = 75 # m^3\n",
    "me_air_exchange_rate = 0.2 # h^-1: natural ventilation (0.2) mechanical ventilation (2.2)\n",
    "me_quanta_emission_rate = 15.7 # quanta h^-1: Resting(98.1), Standing (147), Light Exercise (317)\n",
    "me_n0 = 0.0\n",
    "\n",
    "me_infected = 1\n",
    "\n",
    "periods = 100\n",
    "time_interval = 1/60 # minutes\n",
    "n = [] # create a list for results\n",
    "time_axis =[]\n",
    "\n",
    "time_axis.append(0)\n",
    "n.append(me_n0)\n",
    "\n",
    "for t in range(1, periods):\n",
    "    time_axis.append(t)\n",
    "    this_n =  me_n0 if not n else n[-1] # initialise n, otherwise use last time period\n",
    "    this_infected = me_infected if t <10 else 0\n",
    "    n.append(quanta_concentration(1, me_volume, me_air_exchange_rate, this_infected, me_quanta_emission_rate, this_n, time_interval))\n",
    "\n",
    "fig = go.Figure()\n",
    "fig.add_trace(go.Scatter(x=time_axis, y=n , name='quanta concentration', line=dict(color='firebrick', width=1)))\n",
    "fig.update_layout(title='Quanta concentration',\n",
    "                   xaxis_title='Time (minutes)',\n",
    "                   yaxis_title='Quanta concentration (quanta per m^-3)')\n",
    "fig.show()"
   ]
  },
  {
   "cell_type": "code",
   "execution_count": null,
   "metadata": {},
   "outputs": [],
   "source": []
  }
 ],
 "metadata": {
  "language_info": {
   "codemirror_mode": {
    "name": "ipython",
    "version": 3
   },
   "file_extension": ".py",
   "mimetype": "text/x-python",
   "name": "python",
   "nbconvert_exporter": "python",
   "pygments_lexer": "ipython3",
   "version": "3.7.7-final"
  },
  "orig_nbformat": 2,
  "kernelspec": {
   "name": "python37764bitdes2020conda06b03b1cd12e49f4a2bda6a10d24292b",
   "display_name": "Python 3.7.7 64-bit ('DES2020': conda)"
  }
 },
 "nbformat": 4,
 "nbformat_minor": 2
}