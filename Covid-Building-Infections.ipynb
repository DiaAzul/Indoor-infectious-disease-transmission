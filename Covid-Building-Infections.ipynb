{
 "cells": [
  {
   "cell_type": "markdown",
   "metadata": {},
   "source": [
    "# Calculate reproduction rate (R0) for aerosol transmission of infectious disease within an enclosed space\n",
    "This model calculates the reproduction rate (R0) for transmission of infectious diseases (Covid19) within an enclosed space. It assumes the prime method of transmission is an aerosol and that the aerosol is well mixed across the space, i.e. there are no local concentrations which may impact on an individuals probability for being infected."
   ]
  },
  {
   "cell_type": "code",
   "execution_count": null,
   "metadata": {},
   "outputs": [],
   "source": [
    "# Define the quanta concentration at time t\n",
    "def quanta_concentration(t):\n",
    "    \"\"\"Calculate the quanta concentration at time t\n",
    "\n",
    "    Keyword arguments:\n",
    "    \n",
    "    \"\"\""
   ]
  }
 ],
 "metadata": {
  "language_info": {
   "codemirror_mode": {
    "name": "ipython",
    "version": 3
   },
   "file_extension": ".py",
   "mimetype": "text/x-python",
   "name": "python",
   "nbconvert_exporter": "python",
   "pygments_lexer": "ipython3",
   "version": 3
  },
  "orig_nbformat": 2
 },
 "nbformat": 4,
 "nbformat_minor": 2
}