{
 "cells": [
  {
   "cell_type": "markdown",
   "metadata": {},
   "source": [
    "# Calculate reproduction rate (R0) for aerosol transmission of infectious disease within an enclosed space\n",
    "This model calculates the reproduction rate (R0) for transmission of infectious diseases (Covid19) within an enclosed space. It assumes the prime method of transmission is an aerosol and that the aerosol is well mixed across the space, i.e. there are no local concentrations which may impact on an individuals probability for being infected.\n",
    "\n",
    "The modelling follows the approach set out in the paper:\n",
    "Buonanno, G., Stabile, L., & Morawska, L. (2020). Estimation of airborne viral emission: Quanta emission rate of SARS-CoV-2 for infection risk assessment [Preprint]. Infectious Diseases (except HIV/AIDS). https://doi.org/10.1101/2020.04.12.20062828"
   ]
  },
  {
   "cell_type": "code",
   "execution_count": 1,
   "metadata": {},
   "outputs": [],
   "source": [
    "import math"
   ]
  },
  {
   "cell_type": "code",
   "execution_count": 4,
   "metadata": {},
   "outputs": [],
   "source": [
    "# Define the quanta concentration at time t\n",
    "def quanta_concentration(t, volume, air_exchange_rate, infected, quanta_emission_rate, n0=0.0):\n",
    "    \"\"\"Calculate the quanta concentration at time t\n",
    "\n",
    "    Note conventions:\n",
    "        Time period is measured in hours\n",
    "        Volumes are metres^3\n",
    "        Concentration is quanta per m^3 (for initial concentration and returned results)\n",
    "        Emmission rate is quanta per hour\n",
    "\n",
    "    Keyword arguments:\n",
    "    t                       Time at which concentration is required\n",
    "    volume                  Volume of the indoor environment considered\n",
    "    air_exchange_rate       Rate at which air is exchanged\n",
    "    infected                The number of infectious subjects \n",
    "    quanta_emission_rate    Rate at which an infected person emits infectious droplets\n",
    "    n0                      Initial number of quanta in the space at time 0 (default=0)  \n",
    "\n",
    "    Return\n",
    "    quanta_concentration    Concentration of quanta at time period t.\n",
    "    \"\"\"\n",
    "    # Assume parameters are valid (all paramters, except n0, should be greater than zero)\n",
    "\n",
    "    quanta_concentration = (quanta_emission_rate * infected / (air_exchange_rate * volume) +\n",
    "                            (n0 + quanta_emission_rate * infected / air_exchange_rate) *\n",
    "                            math.exp(-air_exchange_rate * t) / volume)\n",
    "    \n",
    "    return quanta_concentration                    "
   ]
  },
  {
   "cell_type": "code",
   "execution_count": null,
   "metadata": {},
   "outputs": [],
   "source": []
  }
 ],
 "metadata": {
  "language_info": {
   "codemirror_mode": {
    "name": "ipython",
    "version": 3
   },
   "file_extension": ".py",
   "mimetype": "text/x-python",
   "name": "python",
   "nbconvert_exporter": "python",
   "pygments_lexer": "ipython3",
   "version": "3.7.7-final"
  },
  "orig_nbformat": 2,
  "kernelspec": {
   "name": "python37764bitnetworksconda864dc11c44924535bacc1ad6041bae3e",
   "display_name": "Python 3.7.7 64-bit ('NETWORKS': conda)"
  }
 },
 "nbformat": 4,
 "nbformat_minor": 2
}