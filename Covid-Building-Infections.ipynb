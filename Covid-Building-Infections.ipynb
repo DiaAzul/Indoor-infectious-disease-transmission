{
 "cells": [
  {
   "cell_type": "markdown",
   "metadata": {},
   "source": [
    "# Calculate reproduction rate (R0) for infectious diseases within a micro-environment\n",
    "This model calculates the reproduction rate (R0) of infectious diseases (Covid19) within a micro-environment based upon dispersion of an aerosol within an enclosed space. It assumes the prime method of transmission is an aerosol and that the aerosol is well mixed across the space, i.e. there are no local concentrations which may impact on an individual's probability of being infected.\n",
    "\n",
    "The modelling follows the approach set out in the paper:\n",
    "Buonanno, G., Stabile, L., & Morawska, L. (2020). Estimation of airborne viral emission: Quanta emission rate of SARS-CoV-2 for infection risk assessment [Preprint]. Infectious Diseases (except HIV/AIDS). https://doi.org/10.1101/2020.04.12.20062828"
   ]
  },
  {
   "cell_type": "code",
   "execution_count": 1,
   "metadata": {},
   "outputs": [],
   "source": [
    "import math\n",
    "import plotly.graph_objects as go\n",
    "import simpy\n",
    "\n",
    "# Import local libraries\n",
    "from Tools.Check import Check\n",
    "from Microenvironment import Microenvironment\n",
    "from Person import Person"
   ]
  },
  {
   "cell_type": "code",
   "execution_count": 2,
   "metadata": {},
   "outputs": [],
   "source": [
    "# Create a simpy environment\n",
    "env = simpy.Environment()"
   ]
  },
  {
   "cell_type": "code",
   "execution_count": 3,
   "metadata": {},
   "outputs": [
    {
     "output_type": "stream",
     "name": "stdout",
     "text": "[(<bound method Microenvironment.infected_person of <Microenvironment.Microenvironment object at 0x00000289766159C8>>, None)]\n"
    }
   ],
   "source": [
    "# Plot concentration in micro-environment over a period\n",
    "\n",
    "# Set base statistics\n",
    "me_volume = 75 # m^3\n",
    "me_air_exchange_rate = 2.2  # h^-1: natural ventilation (0.2) mechanical ventilation (2.2)\n",
    "me_quanta_emission_rate = 142 # quanta h^-1: Resting(98.1), Standing (147), Light Exercise (317)\n",
    "me_n0 = 0.0\n",
    "\n",
    "me_infected = 1\n",
    "\n",
    "periods = 180\n",
    "time_interval = 1/60 # minutes\n",
    "\n",
    "\n",
    "microenvironment = Microenvironment(env, time_interval, me_volume, me_air_exchange_rate)\n",
    "\n",
    "person = Person(env, 147)\n",
    "person.enqueue(microenvironment.entry_callback())\n",
    "print(person.routing)\n",
    "\n",
    "env.process(microenvironment.run())\n",
    "env.process(microenvironment.infected_person(me_quanta_emission_rate, 10))\n",
    "env.run(until=periods)\n",
    "\n"
   ]
  },
  {
   "cell_type": "code",
   "execution_count": 4,
   "metadata": {},
   "outputs": [
    {
     "output_type": "display_data",
     "data": {
      "application/vnd.plotly.v1+json": {
       "config": {
        "plotlyServerURL": "https://plot.ly"
       },
       "data": [
        {
         "line": {
          "color": "firebrick",
          "width": 1
         },
         "name": "quanta concentration",
         "type": "scatter",
         "x": [
          0,
          1,
          2,
          3,
          4,
          5,
          6,
          7,
          8,
          9,
          10,
          11,
          12,
          13,
          14,
          15,
          16,
          17,
          18,
          19,
          20,
          21,
          22,
          23,
          24,
          25,
          26,
          27,
          28,
          29,
          30,
          31,
          32,
          33,
          34,
          35,
          36,
          37,
          38,
          39,
          40,
          41,
          42,
          43,
          44,
          45,
          46,
          47,
          48,
          49,
          50,
          51,
          52,
          53,
          54,
          55,
          56,
          57,
          58,
          59,
          60,
          61,
          62,
          63,
          64,
          65,
          66,
          67,
          68,
          69,
          70,
          71,
          72,
          73,
          74,
          75,
          76,
          77,
          78,
          79,
          80,
          81,
          82,
          83,
          84,
          85,
          86,
          87,
          88,
          89,
          90,
          91,
          92,
          93,
          94,
          95,
          96,
          97,
          98,
          99,
          100,
          101,
          102,
          103,
          104,
          105,
          106,
          107,
          108,
          109,
          110,
          111,
          112,
          113,
          114,
          115,
          116,
          117,
          118,
          119,
          120,
          121,
          122,
          123,
          124,
          125,
          126,
          127,
          128,
          129,
          130,
          131,
          132,
          133,
          134,
          135,
          136,
          137,
          138,
          139,
          140,
          141,
          142,
          143,
          144,
          145,
          146,
          147,
          148,
          149,
          150,
          151,
          152,
          153,
          154,
          155,
          156,
          157,
          158,
          159,
          160,
          161,
          162,
          163,
          164,
          165,
          166,
          167,
          168,
          169,
          170,
          171,
          172,
          173,
          174,
          175,
          176,
          177,
          178,
          179
         ],
         "y": [
          0,
          0.02817046796227113,
          0.05532672623670498,
          0.08150528899453507,
          0.10674135580241478,
          0.13106885895158144,
          0.15452050908304807,
          0.17712783917017044,
          0.19892124691772772,
          0.21993003563452687,
          0.24018245363448731,
          0.2317336478341129,
          0.22358902088887403,
          0.2157376215734617,
          0.20816889293499502,
          0.20087265809819413,
          0.19383910658160397,
          0.1870587811064691,
          0.18052256488052315,
          0.17422166933959501,
          0.16814762233054853,
          0.16229225671966713,
          0.15664769941116602,
          0.1512063607610664,
          0.1459609243721974,
          0.14090433725660462,
          0.13602980035213705,
          0.13133075938046165,
          0.12680089603421302,
          0.1224341194814283,
          0.11822455817584451,
          0.11416655196204643,
          0.11025464446484937,
          0.106483575752684,
          0.10284827526511825,
          0.09934385499500671,
          0.09596560291610026,
          0.09270897664727876,
          0.08956959734488776,
          0.08654324381496689,
          0.08362584683745322,
          0.08081348369472796,
          0.0781023728971497,
          0.07548886909848204,
          0.07296945819437894,
          0.07054075259733734,
          0.0681994866817637,
          0.06594251239302985,
          0.06376679501461426,
          0.06166940908763711,
          0.05964753447730272,
          0.05769845258096016,
          0.05581954267268348,
          0.05400827837945657,
          0.05226222428422441,
          0.05057903265124329,
          0.048956440269326884,
          0.04739226540874362,
          0.045884404887673626,
          0.04443083124428081,
          0.04302959001059763,
          0.04167879708455713,
          0.0403766361966385,
          0.03912135646772009,
          0.03791127005485592,
          0.036744749881810375,
          0.035620227451299495,
          0.03453619073599725,
          0.03349118214547104,
          0.03248379656631277,
          0.03151267947283029,
          0.030576525105758798,
          0.02967407471654336,
          0.028804114874831806,
          0.027965475836902245,
          0.02715702997283142,
          0.026377690250289045,
          0.025626408772919506,
          0.02490217537134556,
          0.024204016244899575,
          0.023530992652255934,
          0.022882199649204075,
          0.022256764871864957,
          0.021653847363714878,
          0.02107263644483948,
          0.020512350621897515,
          0.019972236537328752,
          0.019451567956393107,
          0.018949644790678986,
          0.018465792156767854,
          0.017999359468789302,
          0.0175497195636465,
          0.017116267857735772,
          0.01669842153402647,
          0.016295618758408053,
          0.01590731792425071,
          0.015532996924163755,
          0.015172152447972587,
          0.014824299305970325,
          0.014488969776534095,
          0.014165712977228852,
          0.013854094258553074,
          0.013553694619511177,
          0.013264110144226841,
          0.012984951458839714,
          0.012715843207955227,
          0.012456423549943585,
          0.012206343670409292,
          0.011965267313177026,
          0.011732870328163246,
          0.011508840235525583,
          0.011292875805503979,
          0.011084686653388638,
          0.010883992849070176,
          0.010690524540646965,
          0.010504021591583602,
          0.010324233230932602,
          0.010150917716149012,
          0.009983842008044582,
          0.009822781457444413,
          0.009667519503124784,
          0.009517847380625997,
          0.009373563841548712,
          0.009234474882956338,
          0.00910039348651964,
          0.008971139367052818,
          0.008846538730102924,
          0.008726424038266704,
          0.008610633785920628,
          0.008499012282061224,
          0.008391409440963714,
          0.008287680580377502,
          0.008187686226987113,
          0.008091291928877076,
          0.007998368074748533,
          0.007908789719644519,
          0.007822436416949598,
          0.007739192056437932,
          0.0076589447081520405,
          0.007581586471902335,
          0.007507013332185054,
          0.007435125018323523,
          0.007365824869644704,
          0.007299019705509726,
          0.007234619700023656,
          0.007172538261256045,
          0.007112691914809843,
          0.007055000191582138,
          0.006999385519565791,
          0.006945773119546502,
          0.006894090904555044,
          0.00684426938293948,
          0.0067962415649270285,
          0.0067499428725499465,
          0.0067053110528143105,
          0.006662286093994947,
          0.006620810144943964,
          0.00658082743730438,
          0.006542284210524267,
          0.006505128639570577,
          0.006469310765245456,
          0.006434782427011356,
          0.0064014971982346075,
          0.006369410323760403,
          0.0063384786597352315,
          0.006308660615595867,
          0.006279916098146899,
          0.006252206457651627,
          0.006225494435863805,
          0.006199744115930394,
          0.006174920874097934,
          0.006150991333157618,
          0.006127923317566462,
          0.006105685810184224,
          0.006084248910567913,
          0.006063583794767803,
          0.006043662676570885,
          0.006024458770139669,
          0.006005946253996074,
          0.0059881002363019985
         ]
        }
       ],
       "layout": {
        "height": 720,
        "template": {
         "data": {
          "bar": [
           {
            "error_x": {
             "color": "#2a3f5f"
            },
            "error_y": {
             "color": "#2a3f5f"
            },
            "marker": {
             "line": {
              "color": "#E5ECF6",
              "width": 0.5
             }
            },
            "type": "bar"
           }
          ],
          "barpolar": [
           {
            "marker": {
             "line": {
              "color": "#E5ECF6",
              "width": 0.5
             }
            },
            "type": "barpolar"
           }
          ],
          "carpet": [
           {
            "aaxis": {
             "endlinecolor": "#2a3f5f",
             "gridcolor": "white",
             "linecolor": "white",
             "minorgridcolor": "white",
             "startlinecolor": "#2a3f5f"
            },
            "baxis": {
             "endlinecolor": "#2a3f5f",
             "gridcolor": "white",
             "linecolor": "white",
             "minorgridcolor": "white",
             "startlinecolor": "#2a3f5f"
            },
            "type": "carpet"
           }
          ],
          "choropleth": [
           {
            "colorbar": {
             "outlinewidth": 0,
             "ticks": ""
            },
            "type": "choropleth"
           }
          ],
          "contour": [
           {
            "colorbar": {
             "outlinewidth": 0,
             "ticks": ""
            },
            "colorscale": [
             [
              0,
              "#0d0887"
             ],
             [
              0.1111111111111111,
              "#46039f"
             ],
             [
              0.2222222222222222,
              "#7201a8"
             ],
             [
              0.3333333333333333,
              "#9c179e"
             ],
             [
              0.4444444444444444,
              "#bd3786"
             ],
             [
              0.5555555555555556,
              "#d8576b"
             ],
             [
              0.6666666666666666,
              "#ed7953"
             ],
             [
              0.7777777777777778,
              "#fb9f3a"
             ],
             [
              0.8888888888888888,
              "#fdca26"
             ],
             [
              1,
              "#f0f921"
             ]
            ],
            "type": "contour"
           }
          ],
          "contourcarpet": [
           {
            "colorbar": {
             "outlinewidth": 0,
             "ticks": ""
            },
            "type": "contourcarpet"
           }
          ],
          "heatmap": [
           {
            "colorbar": {
             "outlinewidth": 0,
             "ticks": ""
            },
            "colorscale": [
             [
              0,
              "#0d0887"
             ],
             [
              0.1111111111111111,
              "#46039f"
             ],
             [
              0.2222222222222222,
              "#7201a8"
             ],
             [
              0.3333333333333333,
              "#9c179e"
             ],
             [
              0.4444444444444444,
              "#bd3786"
             ],
             [
              0.5555555555555556,
              "#d8576b"
             ],
             [
              0.6666666666666666,
              "#ed7953"
             ],
             [
              0.7777777777777778,
              "#fb9f3a"
             ],
             [
              0.8888888888888888,
              "#fdca26"
             ],
             [
              1,
              "#f0f921"
             ]
            ],
            "type": "heatmap"
           }
          ],
          "heatmapgl": [
           {
            "colorbar": {
             "outlinewidth": 0,
             "ticks": ""
            },
            "colorscale": [
             [
              0,
              "#0d0887"
             ],
             [
              0.1111111111111111,
              "#46039f"
             ],
             [
              0.2222222222222222,
              "#7201a8"
             ],
             [
              0.3333333333333333,
              "#9c179e"
             ],
             [
              0.4444444444444444,
              "#bd3786"
             ],
             [
              0.5555555555555556,
              "#d8576b"
             ],
             [
              0.6666666666666666,
              "#ed7953"
             ],
             [
              0.7777777777777778,
              "#fb9f3a"
             ],
             [
              0.8888888888888888,
              "#fdca26"
             ],
             [
              1,
              "#f0f921"
             ]
            ],
            "type": "heatmapgl"
           }
          ],
          "histogram": [
           {
            "marker": {
             "colorbar": {
              "outlinewidth": 0,
              "ticks": ""
             }
            },
            "type": "histogram"
           }
          ],
          "histogram2d": [
           {
            "colorbar": {
             "outlinewidth": 0,
             "ticks": ""
            },
            "colorscale": [
             [
              0,
              "#0d0887"
             ],
             [
              0.1111111111111111,
              "#46039f"
             ],
             [
              0.2222222222222222,
              "#7201a8"
             ],
             [
              0.3333333333333333,
              "#9c179e"
             ],
             [
              0.4444444444444444,
              "#bd3786"
             ],
             [
              0.5555555555555556,
              "#d8576b"
             ],
             [
              0.6666666666666666,
              "#ed7953"
             ],
             [
              0.7777777777777778,
              "#fb9f3a"
             ],
             [
              0.8888888888888888,
              "#fdca26"
             ],
             [
              1,
              "#f0f921"
             ]
            ],
            "type": "histogram2d"
           }
          ],
          "histogram2dcontour": [
           {
            "colorbar": {
             "outlinewidth": 0,
             "ticks": ""
            },
            "colorscale": [
             [
              0,
              "#0d0887"
             ],
             [
              0.1111111111111111,
              "#46039f"
             ],
             [
              0.2222222222222222,
              "#7201a8"
             ],
             [
              0.3333333333333333,
              "#9c179e"
             ],
             [
              0.4444444444444444,
              "#bd3786"
             ],
             [
              0.5555555555555556,
              "#d8576b"
             ],
             [
              0.6666666666666666,
              "#ed7953"
             ],
             [
              0.7777777777777778,
              "#fb9f3a"
             ],
             [
              0.8888888888888888,
              "#fdca26"
             ],
             [
              1,
              "#f0f921"
             ]
            ],
            "type": "histogram2dcontour"
           }
          ],
          "mesh3d": [
           {
            "colorbar": {
             "outlinewidth": 0,
             "ticks": ""
            },
            "type": "mesh3d"
           }
          ],
          "parcoords": [
           {
            "line": {
             "colorbar": {
              "outlinewidth": 0,
              "ticks": ""
             }
            },
            "type": "parcoords"
           }
          ],
          "pie": [
           {
            "automargin": true,
            "type": "pie"
           }
          ],
          "scatter": [
           {
            "marker": {
             "colorbar": {
              "outlinewidth": 0,
              "ticks": ""
             }
            },
            "type": "scatter"
           }
          ],
          "scatter3d": [
           {
            "line": {
             "colorbar": {
              "outlinewidth": 0,
              "ticks": ""
             }
            },
            "marker": {
             "colorbar": {
              "outlinewidth": 0,
              "ticks": ""
             }
            },
            "type": "scatter3d"
           }
          ],
          "scattercarpet": [
           {
            "marker": {
             "colorbar": {
              "outlinewidth": 0,
              "ticks": ""
             }
            },
            "type": "scattercarpet"
           }
          ],
          "scattergeo": [
           {
            "marker": {
             "colorbar": {
              "outlinewidth": 0,
              "ticks": ""
             }
            },
            "type": "scattergeo"
           }
          ],
          "scattergl": [
           {
            "marker": {
             "colorbar": {
              "outlinewidth": 0,
              "ticks": ""
             }
            },
            "type": "scattergl"
           }
          ],
          "scattermapbox": [
           {
            "marker": {
             "colorbar": {
              "outlinewidth": 0,
              "ticks": ""
             }
            },
            "type": "scattermapbox"
           }
          ],
          "scatterpolar": [
           {
            "marker": {
             "colorbar": {
              "outlinewidth": 0,
              "ticks": ""
             }
            },
            "type": "scatterpolar"
           }
          ],
          "scatterpolargl": [
           {
            "marker": {
             "colorbar": {
              "outlinewidth": 0,
              "ticks": ""
             }
            },
            "type": "scatterpolargl"
           }
          ],
          "scatterternary": [
           {
            "marker": {
             "colorbar": {
              "outlinewidth": 0,
              "ticks": ""
             }
            },
            "type": "scatterternary"
           }
          ],
          "surface": [
           {
            "colorbar": {
             "outlinewidth": 0,
             "ticks": ""
            },
            "colorscale": [
             [
              0,
              "#0d0887"
             ],
             [
              0.1111111111111111,
              "#46039f"
             ],
             [
              0.2222222222222222,
              "#7201a8"
             ],
             [
              0.3333333333333333,
              "#9c179e"
             ],
             [
              0.4444444444444444,
              "#bd3786"
             ],
             [
              0.5555555555555556,
              "#d8576b"
             ],
             [
              0.6666666666666666,
              "#ed7953"
             ],
             [
              0.7777777777777778,
              "#fb9f3a"
             ],
             [
              0.8888888888888888,
              "#fdca26"
             ],
             [
              1,
              "#f0f921"
             ]
            ],
            "type": "surface"
           }
          ],
          "table": [
           {
            "cells": {
             "fill": {
              "color": "#EBF0F8"
             },
             "line": {
              "color": "white"
             }
            },
            "header": {
             "fill": {
              "color": "#C8D4E3"
             },
             "line": {
              "color": "white"
             }
            },
            "type": "table"
           }
          ]
         },
         "layout": {
          "annotationdefaults": {
           "arrowcolor": "#2a3f5f",
           "arrowhead": 0,
           "arrowwidth": 1
          },
          "coloraxis": {
           "colorbar": {
            "outlinewidth": 0,
            "ticks": ""
           }
          },
          "colorscale": {
           "diverging": [
            [
             0,
             "#8e0152"
            ],
            [
             0.1,
             "#c51b7d"
            ],
            [
             0.2,
             "#de77ae"
            ],
            [
             0.3,
             "#f1b6da"
            ],
            [
             0.4,
             "#fde0ef"
            ],
            [
             0.5,
             "#f7f7f7"
            ],
            [
             0.6,
             "#e6f5d0"
            ],
            [
             0.7,
             "#b8e186"
            ],
            [
             0.8,
             "#7fbc41"
            ],
            [
             0.9,
             "#4d9221"
            ],
            [
             1,
             "#276419"
            ]
           ],
           "sequential": [
            [
             0,
             "#0d0887"
            ],
            [
             0.1111111111111111,
             "#46039f"
            ],
            [
             0.2222222222222222,
             "#7201a8"
            ],
            [
             0.3333333333333333,
             "#9c179e"
            ],
            [
             0.4444444444444444,
             "#bd3786"
            ],
            [
             0.5555555555555556,
             "#d8576b"
            ],
            [
             0.6666666666666666,
             "#ed7953"
            ],
            [
             0.7777777777777778,
             "#fb9f3a"
            ],
            [
             0.8888888888888888,
             "#fdca26"
            ],
            [
             1,
             "#f0f921"
            ]
           ],
           "sequentialminus": [
            [
             0,
             "#0d0887"
            ],
            [
             0.1111111111111111,
             "#46039f"
            ],
            [
             0.2222222222222222,
             "#7201a8"
            ],
            [
             0.3333333333333333,
             "#9c179e"
            ],
            [
             0.4444444444444444,
             "#bd3786"
            ],
            [
             0.5555555555555556,
             "#d8576b"
            ],
            [
             0.6666666666666666,
             "#ed7953"
            ],
            [
             0.7777777777777778,
             "#fb9f3a"
            ],
            [
             0.8888888888888888,
             "#fdca26"
            ],
            [
             1,
             "#f0f921"
            ]
           ]
          },
          "colorway": [
           "#636efa",
           "#EF553B",
           "#00cc96",
           "#ab63fa",
           "#FFA15A",
           "#19d3f3",
           "#FF6692",
           "#B6E880",
           "#FF97FF",
           "#FECB52"
          ],
          "font": {
           "color": "#2a3f5f"
          },
          "geo": {
           "bgcolor": "white",
           "lakecolor": "white",
           "landcolor": "#E5ECF6",
           "showlakes": true,
           "showland": true,
           "subunitcolor": "white"
          },
          "hoverlabel": {
           "align": "left"
          },
          "hovermode": "closest",
          "mapbox": {
           "style": "light"
          },
          "paper_bgcolor": "white",
          "plot_bgcolor": "#E5ECF6",
          "polar": {
           "angularaxis": {
            "gridcolor": "white",
            "linecolor": "white",
            "ticks": ""
           },
           "bgcolor": "#E5ECF6",
           "radialaxis": {
            "gridcolor": "white",
            "linecolor": "white",
            "ticks": ""
           }
          },
          "scene": {
           "xaxis": {
            "backgroundcolor": "#E5ECF6",
            "gridcolor": "white",
            "gridwidth": 2,
            "linecolor": "white",
            "showbackground": true,
            "ticks": "",
            "zerolinecolor": "white"
           },
           "yaxis": {
            "backgroundcolor": "#E5ECF6",
            "gridcolor": "white",
            "gridwidth": 2,
            "linecolor": "white",
            "showbackground": true,
            "ticks": "",
            "zerolinecolor": "white"
           },
           "zaxis": {
            "backgroundcolor": "#E5ECF6",
            "gridcolor": "white",
            "gridwidth": 2,
            "linecolor": "white",
            "showbackground": true,
            "ticks": "",
            "zerolinecolor": "white"
           }
          },
          "shapedefaults": {
           "line": {
            "color": "#2a3f5f"
           }
          },
          "ternary": {
           "aaxis": {
            "gridcolor": "white",
            "linecolor": "white",
            "ticks": ""
           },
           "baxis": {
            "gridcolor": "white",
            "linecolor": "white",
            "ticks": ""
           },
           "bgcolor": "#E5ECF6",
           "caxis": {
            "gridcolor": "white",
            "linecolor": "white",
            "ticks": ""
           }
          },
          "title": {
           "x": 0.05
          },
          "xaxis": {
           "automargin": true,
           "gridcolor": "white",
           "linecolor": "white",
           "ticks": "",
           "title": {
            "standoff": 15
           },
           "zerolinecolor": "white",
           "zerolinewidth": 2
          },
          "yaxis": {
           "automargin": true,
           "gridcolor": "white",
           "linecolor": "white",
           "ticks": "",
           "title": {
            "standoff": 15
           },
           "zerolinecolor": "white",
           "zerolinewidth": 2
          }
         }
        },
        "title": {
         "text": "Quanta concentration"
        },
        "width": 1280,
        "xaxis": {
         "title": {
          "text": "Time (minutes)"
         }
        },
        "yaxis": {
         "title": {
          "text": "Quanta concentration (quanta per m^-3)"
         }
        }
       }
      }
     },
     "metadata": {}
    }
   ],
   "source": [
    "time_axis = list(range(periods))\n",
    "results = microenvironment.get_results()\n",
    "\n",
    "fig = go.Figure()\n",
    "fig.add_trace(go.Scatter(x=time_axis, y=results , name='quanta concentration', line=dict(color='firebrick', width=1)))\n",
    "fig.update_layout(title='Quanta concentration',\n",
    "                   xaxis_title='Time (minutes)',\n",
    "                   yaxis_title='Quanta concentration (quanta per m^-3)',\n",
    "                   width=1280,\n",
    "                   height=720)\n",
    "fig.show()"
   ]
  },
  {
   "cell_type": "code",
   "execution_count": 5,
   "metadata": {},
   "outputs": [],
   "source": [
    "# Calculate the infection risk as a function of exposure time using the Wells-Riley equation\n",
    "def infection_risk(exposure_time, inhalation_rate):\n",
    "    \"\"\" Calculate the infection risk based upon exposure time and inhalation rate\n",
    "\n",
    "    Keyword arguments:\n",
    "    exposure_time           Amount of time that the susceptible person was exposed\n",
    "    inhalation_rate         Inhalation rate of the exposed subject (affected by subjects activity levels)\n",
    "\n",
    "    Return value:\n",
    "    infection_risk          Risk that a susceptible person will be infected as a probability\n",
    "    \"\"\"\n",
    "\n",
    "    # Assume parameters are valid (all parameters greater than zero)\n",
    "\n",
    "    # Integrate quanta_concentration over time from 0 to T [exposure_time]\n",
    "    "
   ]
  },
  {
   "cell_type": "code",
   "execution_count": 8,
   "metadata": {},
   "outputs": [],
   "source": [
    "br = {}\n",
    "br['hello'] = 1"
   ]
  },
  {
   "cell_type": "code",
   "execution_count": 9,
   "metadata": {},
   "outputs": [
    {
     "output_type": "stream",
     "name": "stdout",
     "text": "{'hello': 1}\n"
    }
   ],
   "source": [
    "print(br)"
   ]
  },
  {
   "cell_type": "code",
   "execution_count": null,
   "metadata": {},
   "outputs": [],
   "source": []
  }
 ],
 "metadata": {
  "language_info": {
   "codemirror_mode": {
    "name": "ipython",
    "version": 3
   },
   "file_extension": ".py",
   "mimetype": "text/x-python",
   "name": "python",
   "nbconvert_exporter": "python",
   "pygments_lexer": "ipython3",
   "version": "3.7.7-final"
  },
  "orig_nbformat": 2,
  "kernelspec": {
   "name": "python37764bitdes2020conda06b03b1cd12e49f4a2bda6a10d24292b",
   "display_name": "Python 3.7.7 64-bit ('DES2020': conda)"
  }
 },
 "nbformat": 4,
 "nbformat_minor": 2
}