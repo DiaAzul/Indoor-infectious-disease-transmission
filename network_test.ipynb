{
 "cells": [
  {
   "cell_type": "code",
   "execution_count": 1,
   "metadata": {},
   "outputs": [],
   "source": [
    "import networkx as nx\n",
    "G=nx.MultiDiGraph(name='Routing')"
   ]
  },
  {
   "cell_type": "code",
   "execution_count": 2,
   "metadata": {},
   "outputs": [],
   "source": [
    "#G.add_nodes_from([1,2,3])\n",
    "G.add_node('harry', name='harry', function='soup')\n",
    "G.add_node('jane', name='jane', function='soup')\n",
    "G.add_node('lucy', name='lucy', function='soup')"
   ]
  },
  {
   "cell_type": "code",
   "execution_count": 3,
   "metadata": {},
   "outputs": [],
   "source": [
    "keys = G.add_edges_from([('harry','jane','one-two'), ('jane','lucy','two-three'), ('harry','lucy','one-three-a'), ('harry','lucy','one-three-b'), ('lucy', 'harry','three-one')])"
   ]
  },
  {
   "cell_type": "code",
   "execution_count": 4,
   "metadata": {},
   "outputs": [
    {
     "output_type": "stream",
     "name": "stdout",
     "text": "['one-two', 'two-three', 'one-three-a', 'one-three-b', 'three-one']\n"
    }
   ],
   "source": [
    "print(keys)"
   ]
  },
  {
   "cell_type": "code",
   "execution_count": 10,
   "metadata": {},
   "outputs": [
    {
     "output_type": "execute_result",
     "data": {
      "text/plain": "AdjacencyView({'jane': {'one-two': {}}, 'lucy': {'one-three-a': {}, 'one-three-b': {}}})"
     },
     "metadata": {},
     "execution_count": 10
    }
   ],
   "source": [
    "G['harry']"
   ]
  },
  {
   "cell_type": "code",
   "execution_count": 11,
   "metadata": {},
   "outputs": [],
   "source": [
    "#for node in G.nodes:\n",
    "#    G.nodes[node]['name'] = f\"Node ID:{node}\""
   ]
  },
  {
   "cell_type": "code",
   "execution_count": 12,
   "metadata": {},
   "outputs": [
    {
     "output_type": "execute_result",
     "data": {
      "text/plain": "[('harry', 'harry'), ('jane', 'jane'), ('lucy', 'lucy')]"
     },
     "metadata": {},
     "execution_count": 12
    }
   ],
   "source": [
    "list(G.nodes.data('name'))"
   ]
  },
  {
   "cell_type": "code",
   "execution_count": 13,
   "metadata": {},
   "outputs": [
    {
     "output_type": "stream",
     "name": "stdout",
     "text": "Node: harry Neighbours ['jane', 'lucy']\nNode: jane Neighbours ['lucy']\nNode: lucy Neighbours ['harry']\n"
    }
   ],
   "source": [
    "for node_id in G.nodes:\n",
    "    print(f\"Node: {node_id} Neighbours {list(G.neighbors(node_id))}\")"
   ]
  },
  {
   "cell_type": "code",
   "execution_count": 14,
   "metadata": {},
   "outputs": [
    {
     "output_type": "execute_result",
     "data": {
      "text/plain": "['lucy']"
     },
     "metadata": {},
     "execution_count": 14
    }
   ],
   "source": [
    "list(G.neighbors('jane'))"
   ]
  },
  {
   "cell_type": "code",
   "execution_count": null,
   "metadata": {},
   "outputs": [],
   "source": []
  }
 ],
 "metadata": {
  "language_info": {
   "codemirror_mode": {
    "name": "ipython",
    "version": 3
   },
   "file_extension": ".py",
   "mimetype": "text/x-python",
   "name": "python",
   "nbconvert_exporter": "python",
   "pygments_lexer": "ipython3",
   "version": "3.7.7-final"
  },
  "orig_nbformat": 2,
  "kernelspec": {
   "name": "python37764bitdes2020conda06b03b1cd12e49f4a2bda6a10d24292b",
   "display_name": "Python 3.7.7 64-bit ('DES2020': conda)"
  }
 },
 "nbformat": 4,
 "nbformat_minor": 2
}