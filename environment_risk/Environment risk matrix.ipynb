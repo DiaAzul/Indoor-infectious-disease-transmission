{
 "cells": [
  {
   "cell_type": "markdown",
   "metadata": {},
   "source": [
    "# Environment risk matrix\n",
    "The risk associated with an environment driving an infectious disease outbreak can be categorised against two metrics, the attack rate (the percentage of people that will contract the disease) and the number of people visiting the location. The more people visiting the location the more likely one or more infectious people will enter the building, the more people the more susceuptible people to be infected.\n",
    "\n",
    "Environment can be plotted on a 2x2 matrix to identify those environments which may have a high risk of spreading infections."
   ]
  },
  {
   "cell_type": "code",
   "execution_count": 78,
   "metadata": {},
   "outputs": [],
   "source": [
    "import plotly.graph_objects as go\n",
    "import plotly.express as px\n",
    "import pandas as pd\n",
    "import numpy as np\n",
    "import math"
   ]
  },
  {
   "cell_type": "code",
   "execution_count": 79,
   "metadata": {},
   "outputs": [],
   "source": [
    "data = pd.read_excel('./environments.xlsx', header=0, engine='openpyxl')"
   ]
  },
  {
   "cell_type": "code",
   "execution_count": 80,
   "metadata": {},
   "outputs": [
    {
     "output_type": "execute_result",
     "data": {
      "text/plain": "        environment    lockdown  people  attack rate\n0   Supermarket (M)         Pre     360     0.003050\n1   Supermarket (M)        Post      60     0.003300\n2        Restaurant     Natural     160     0.271975\n3        Restaurant  Mechanical     160     0.012037\n4        Restaurant     Outdoor     160     0.030319\n5      Pharmacy (M)         Pre     180     0.005117\n6      Pharmacy (M)        Post      90     0.005133\n7   Post Office (N)         Pre     360     0.013044\n8   Post Office (N)        Post      72     0.004403\n9          Bank (M)         Pre     180     0.006911\n10         Bank (M)        Post      72     0.003444\n11    Home 2 People      Summer       2     0.247000\n12    Home 2 People      Winter       2     0.362000\n13    Home 2 People     Outdoor       2     0.010500\n14    Home 6 People      Summer       6     0.334167\n15    Home 6 People      Winter       6     0.616000\n16    Home 6 People     Outdoor       6     0.019167",
      "text/html": "<div>\n<style scoped>\n    .dataframe tbody tr th:only-of-type {\n        vertical-align: middle;\n    }\n\n    .dataframe tbody tr th {\n        vertical-align: top;\n    }\n\n    .dataframe thead th {\n        text-align: right;\n    }\n</style>\n<table border=\"1\" class=\"dataframe\">\n  <thead>\n    <tr style=\"text-align: right;\">\n      <th></th>\n      <th>environment</th>\n      <th>lockdown</th>\n      <th>people</th>\n      <th>attack rate</th>\n    </tr>\n  </thead>\n  <tbody>\n    <tr>\n      <th>0</th>\n      <td>Supermarket (M)</td>\n      <td>Pre</td>\n      <td>360</td>\n      <td>0.003050</td>\n    </tr>\n    <tr>\n      <th>1</th>\n      <td>Supermarket (M)</td>\n      <td>Post</td>\n      <td>60</td>\n      <td>0.003300</td>\n    </tr>\n    <tr>\n      <th>2</th>\n      <td>Restaurant</td>\n      <td>Natural</td>\n      <td>160</td>\n      <td>0.271975</td>\n    </tr>\n    <tr>\n      <th>3</th>\n      <td>Restaurant</td>\n      <td>Mechanical</td>\n      <td>160</td>\n      <td>0.012037</td>\n    </tr>\n    <tr>\n      <th>4</th>\n      <td>Restaurant</td>\n      <td>Outdoor</td>\n      <td>160</td>\n      <td>0.030319</td>\n    </tr>\n    <tr>\n      <th>5</th>\n      <td>Pharmacy (M)</td>\n      <td>Pre</td>\n      <td>180</td>\n      <td>0.005117</td>\n    </tr>\n    <tr>\n      <th>6</th>\n      <td>Pharmacy (M)</td>\n      <td>Post</td>\n      <td>90</td>\n      <td>0.005133</td>\n    </tr>\n    <tr>\n      <th>7</th>\n      <td>Post Office (N)</td>\n      <td>Pre</td>\n      <td>360</td>\n      <td>0.013044</td>\n    </tr>\n    <tr>\n      <th>8</th>\n      <td>Post Office (N)</td>\n      <td>Post</td>\n      <td>72</td>\n      <td>0.004403</td>\n    </tr>\n    <tr>\n      <th>9</th>\n      <td>Bank (M)</td>\n      <td>Pre</td>\n      <td>180</td>\n      <td>0.006911</td>\n    </tr>\n    <tr>\n      <th>10</th>\n      <td>Bank (M)</td>\n      <td>Post</td>\n      <td>72</td>\n      <td>0.003444</td>\n    </tr>\n    <tr>\n      <th>11</th>\n      <td>Home 2 People</td>\n      <td>Summer</td>\n      <td>2</td>\n      <td>0.247000</td>\n    </tr>\n    <tr>\n      <th>12</th>\n      <td>Home 2 People</td>\n      <td>Winter</td>\n      <td>2</td>\n      <td>0.362000</td>\n    </tr>\n    <tr>\n      <th>13</th>\n      <td>Home 2 People</td>\n      <td>Outdoor</td>\n      <td>2</td>\n      <td>0.010500</td>\n    </tr>\n    <tr>\n      <th>14</th>\n      <td>Home 6 People</td>\n      <td>Summer</td>\n      <td>6</td>\n      <td>0.334167</td>\n    </tr>\n    <tr>\n      <th>15</th>\n      <td>Home 6 People</td>\n      <td>Winter</td>\n      <td>6</td>\n      <td>0.616000</td>\n    </tr>\n    <tr>\n      <th>16</th>\n      <td>Home 6 People</td>\n      <td>Outdoor</td>\n      <td>6</td>\n      <td>0.019167</td>\n    </tr>\n  </tbody>\n</table>\n</div>"
     },
     "metadata": {},
     "execution_count": 80
    }
   ],
   "source": [
    "data"
   ]
  },
  {
   "cell_type": "code",
   "execution_count": 81,
   "metadata": {},
   "outputs": [],
   "source": [
    "ar = 0.3679 * np.log(data['attack rate']) + 1.1312"
   ]
  },
  {
   "cell_type": "code",
   "execution_count": 82,
   "metadata": {},
   "outputs": [],
   "source": [
    "p = 0.385 * np.log(data['people']) - 1.267"
   ]
  },
  {
   "cell_type": "code",
   "execution_count": 83,
   "metadata": {},
   "outputs": [],
   "source": [
    "env = data['environment']\n",
    "lockdown = data['lockdown']\n",
    "environment_list = env.drop_duplicates().values"
   ]
  },
  {
   "cell_type": "code",
   "execution_count": 84,
   "metadata": {},
   "outputs": [],
   "source": [
    "data_chart = pd.DataFrame(zip(env, lockdown, p, ar), columns=data.columns)\n",
    "data_chart = data_chart.set_index('environment')"
   ]
  },
  {
   "cell_type": "code",
   "execution_count": 85,
   "metadata": {},
   "outputs": [
    {
     "output_type": "execute_result",
     "data": {
      "text/plain": "Empty DataFrame\nColumns: []\nIndex: [Supermarket (M), Supermarket (M), Restaurant, Restaurant, Restaurant, Pharmacy (M), Pharmacy (M), Post Office (N), Post Office (N), Bank (M), Bank (M), Home 2 People, Home 2 People, Home 2 People, Home 6 People, Home 6 People, Home 6 People]",
      "text/html": "<div>\n<style scoped>\n    .dataframe tbody tr th:only-of-type {\n        vertical-align: middle;\n    }\n\n    .dataframe tbody tr th {\n        vertical-align: top;\n    }\n\n    .dataframe thead th {\n        text-align: right;\n    }\n</style>\n<table border=\"1\" class=\"dataframe\">\n  <thead>\n    <tr style=\"text-align: right;\">\n      <th></th>\n    </tr>\n    <tr>\n      <th>environment</th>\n    </tr>\n  </thead>\n  <tbody>\n    <tr>\n      <th>Supermarket (M)</th>\n    </tr>\n    <tr>\n      <th>Supermarket (M)</th>\n    </tr>\n    <tr>\n      <th>Restaurant</th>\n    </tr>\n    <tr>\n      <th>Restaurant</th>\n    </tr>\n    <tr>\n      <th>Restaurant</th>\n    </tr>\n    <tr>\n      <th>Pharmacy (M)</th>\n    </tr>\n    <tr>\n      <th>Pharmacy (M)</th>\n    </tr>\n    <tr>\n      <th>Post Office (N)</th>\n    </tr>\n    <tr>\n      <th>Post Office (N)</th>\n    </tr>\n    <tr>\n      <th>Bank (M)</th>\n    </tr>\n    <tr>\n      <th>Bank (M)</th>\n    </tr>\n    <tr>\n      <th>Home 2 People</th>\n    </tr>\n    <tr>\n      <th>Home 2 People</th>\n    </tr>\n    <tr>\n      <th>Home 2 People</th>\n    </tr>\n    <tr>\n      <th>Home 6 People</th>\n    </tr>\n    <tr>\n      <th>Home 6 People</th>\n    </tr>\n    <tr>\n      <th>Home 6 People</th>\n    </tr>\n  </tbody>\n</table>\n</div>"
     },
     "metadata": {},
     "execution_count": 85
    }
   ],
   "source": [
    "data_chart_filtered = data_chart.filter(items=['Home'])\n",
    "data_chart_filtered"
   ]
  },
  {
   "cell_type": "code",
   "execution_count": 111,
   "metadata": {},
   "outputs": [
    {
     "output_type": "display_data",
     "data": {
      "application/vnd.plotly.v1+json": {
       "config": {
        "plotlyServerURL": "https://plot.ly"
       },
       "data": [
        {
         "marker": {
          "line": {
           "color": "DarkSlateGrey",
           "width": 2
          },
          "size": 12
         },
         "mode": "lines+markers+text",
         "name": "Supermarket (M)",
         "showlegend": true,
         "text": [
          "Pre",
          "Post"
         ],
         "textfont": {
          "size": 14
         },
         "textposition": "top left",
         "type": "scatter",
         "x": [
          0.9991500521083103,
          0.3093226564555087
         ],
         "y": [
          -0.9999025759486802,
          -0.9709190909865197
         ]
        },
        {
         "marker": {
          "line": {
           "color": "DarkSlateGrey",
           "width": 2
          },
          "size": 12
         },
         "mode": "lines+markers+text",
         "name": "Restaurant",
         "showlegend": true,
         "text": [
          "Natural",
          "Mechanical",
          "Outdoor"
         ],
         "textfont": {
          "size": 14
         },
         "textposition": "top left",
         "type": "scatter",
         "x": [
          0.6869419188650234,
          0.6869419188650234,
          0.6869419188650234
         ],
         "y": [
          0.652177597160471,
          -0.494818115833519,
          -0.1549743332226381
         ]
        },
        {
         "marker": {
          "line": {
           "color": "DarkSlateGrey",
           "width": 2
          },
          "size": 12
         },
         "mode": "lines+markers+text",
         "name": "Pharmacy (M)",
         "showlegend": true,
         "text": [
          "Pre",
          "Post"
         ],
         "textfont": {
          "size": 14
         },
         "textposition": "top left",
         "type": "scatter",
         "x": [
          0.7322883875927311,
          0.46542672307715227
         ],
         "y": [
          -0.8095652452417093,
          -0.8083688214230611
         ]
        },
        {
         "marker": {
          "line": {
           "color": "DarkSlateGrey",
           "width": 2
          },
          "size": 12
         },
         "mode": "lines+markers+text",
         "name": "Post Office (N)",
         "showlegend": true,
         "text": [
          "Pre",
          "Post"
         ],
         "textfont": {
          "size": 14
         },
         "textposition": "top left",
         "type": "scatter",
         "x": [
          0.9991500521083103,
          0.37951645582118143
         ],
         "y": [
          -0.46526266590927223,
          -0.8648486697140836
         ]
        },
        {
         "marker": {
          "line": {
           "color": "DarkSlateGrey",
           "width": 2
          },
          "size": 12
         },
         "mode": "lines+markers+text",
         "name": "Bank (M)",
         "showlegend": true,
         "text": [
          "Pre",
          "Post"
         ],
         "textfont": {
          "size": 14
         },
         "textposition": "top left",
         "type": "scatter",
         "x": [
          0.7322883875927311,
          0.37951645582118143
         ],
         "y": [
          -0.6989644847332885,
          -0.9551581966094382
         ]
        },
        {
         "marker": {
          "line": {
           "color": "DarkSlateGrey",
           "width": 2
          },
          "size": 12
         },
         "mode": "lines+markers+text",
         "name": "Home 2 People",
         "showlegend": true,
         "text": [
          "Summer",
          "Winter",
          "Outdoor"
         ],
         "textfont": {
          "size": 14
         },
         "textposition": "top left",
         "type": "scatter",
         "x": [
          -1.0001383354844209,
          -1.0001383354844209,
          -1.0001383354844209
         ],
         "y": [
          0.6167408019079046,
          0.757372738393173,
          -0.545092210027085
         ]
        },
        {
         "marker": {
          "line": {
           "color": "DarkSlateGrey",
           "width": 2
          },
          "size": 12
         },
         "mode": "lines+markers+text",
         "name": "Home 6 People",
         "showlegend": true,
         "text": [
          "Summer",
          "Winter",
          "Outdoor"
         ],
         "textfont": {
          "size": 14
         },
         "textposition": "top left",
         "type": "scatter",
         "x": [
          -0.5771726043471987,
          -0.5771726043471987,
          -0.5771726043471987
         ],
         "y": [
          0.7279391412240627,
          0.9529493907464537,
          -0.3236909458416901
         ]
        }
       ],
       "layout": {
        "annotations": [
         {
          "font": {
           "size": 18
          },
          "showarrow": false,
          "text": "Low risk",
          "x": 0,
          "xref": "paper",
          "y": 0,
          "yref": "paper"
         },
         {
          "font": {
           "size": 18
          },
          "showarrow": false,
          "text": "Risk to a small group",
          "x": 0,
          "xref": "paper",
          "y": 1,
          "yref": "paper"
         },
         {
          "font": {
           "size": 18
          },
          "showarrow": false,
          "text": "Low risk of outbreak",
          "x": 1,
          "xanchor": "right",
          "xref": "paper",
          "y": 0,
          "yref": "paper"
         },
         {
          "font": {
           "size": 18
          },
          "showarrow": false,
          "text": "High risk of outbreak",
          "x": 1,
          "xanchor": "right",
          "xref": "paper",
          "y": 1,
          "yref": "paper"
         }
        ],
        "autosize": false,
        "height": 1100,
        "legend": {
         "itemsizing": "constant"
        },
        "plot_bgcolor": "rgb(250, 250, 250)",
        "template": {
         "data": {
          "bar": [
           {
            "error_x": {
             "color": "#2a3f5f"
            },
            "error_y": {
             "color": "#2a3f5f"
            },
            "marker": {
             "line": {
              "color": "#E5ECF6",
              "width": 0.5
             }
            },
            "type": "bar"
           }
          ],
          "barpolar": [
           {
            "marker": {
             "line": {
              "color": "#E5ECF6",
              "width": 0.5
             }
            },
            "type": "barpolar"
           }
          ],
          "carpet": [
           {
            "aaxis": {
             "endlinecolor": "#2a3f5f",
             "gridcolor": "white",
             "linecolor": "white",
             "minorgridcolor": "white",
             "startlinecolor": "#2a3f5f"
            },
            "baxis": {
             "endlinecolor": "#2a3f5f",
             "gridcolor": "white",
             "linecolor": "white",
             "minorgridcolor": "white",
             "startlinecolor": "#2a3f5f"
            },
            "type": "carpet"
           }
          ],
          "choropleth": [
           {
            "colorbar": {
             "outlinewidth": 0,
             "ticks": ""
            },
            "type": "choropleth"
           }
          ],
          "contour": [
           {
            "colorbar": {
             "outlinewidth": 0,
             "ticks": ""
            },
            "colorscale": [
             [
              0,
              "#0d0887"
             ],
             [
              0.1111111111111111,
              "#46039f"
             ],
             [
              0.2222222222222222,
              "#7201a8"
             ],
             [
              0.3333333333333333,
              "#9c179e"
             ],
             [
              0.4444444444444444,
              "#bd3786"
             ],
             [
              0.5555555555555556,
              "#d8576b"
             ],
             [
              0.6666666666666666,
              "#ed7953"
             ],
             [
              0.7777777777777778,
              "#fb9f3a"
             ],
             [
              0.8888888888888888,
              "#fdca26"
             ],
             [
              1,
              "#f0f921"
             ]
            ],
            "type": "contour"
           }
          ],
          "contourcarpet": [
           {
            "colorbar": {
             "outlinewidth": 0,
             "ticks": ""
            },
            "type": "contourcarpet"
           }
          ],
          "heatmap": [
           {
            "colorbar": {
             "outlinewidth": 0,
             "ticks": ""
            },
            "colorscale": [
             [
              0,
              "#0d0887"
             ],
             [
              0.1111111111111111,
              "#46039f"
             ],
             [
              0.2222222222222222,
              "#7201a8"
             ],
             [
              0.3333333333333333,
              "#9c179e"
             ],
             [
              0.4444444444444444,
              "#bd3786"
             ],
             [
              0.5555555555555556,
              "#d8576b"
             ],
             [
              0.6666666666666666,
              "#ed7953"
             ],
             [
              0.7777777777777778,
              "#fb9f3a"
             ],
             [
              0.8888888888888888,
              "#fdca26"
             ],
             [
              1,
              "#f0f921"
             ]
            ],
            "type": "heatmap"
           }
          ],
          "heatmapgl": [
           {
            "colorbar": {
             "outlinewidth": 0,
             "ticks": ""
            },
            "colorscale": [
             [
              0,
              "#0d0887"
             ],
             [
              0.1111111111111111,
              "#46039f"
             ],
             [
              0.2222222222222222,
              "#7201a8"
             ],
             [
              0.3333333333333333,
              "#9c179e"
             ],
             [
              0.4444444444444444,
              "#bd3786"
             ],
             [
              0.5555555555555556,
              "#d8576b"
             ],
             [
              0.6666666666666666,
              "#ed7953"
             ],
             [
              0.7777777777777778,
              "#fb9f3a"
             ],
             [
              0.8888888888888888,
              "#fdca26"
             ],
             [
              1,
              "#f0f921"
             ]
            ],
            "type": "heatmapgl"
           }
          ],
          "histogram": [
           {
            "marker": {
             "colorbar": {
              "outlinewidth": 0,
              "ticks": ""
             }
            },
            "type": "histogram"
           }
          ],
          "histogram2d": [
           {
            "colorbar": {
             "outlinewidth": 0,
             "ticks": ""
            },
            "colorscale": [
             [
              0,
              "#0d0887"
             ],
             [
              0.1111111111111111,
              "#46039f"
             ],
             [
              0.2222222222222222,
              "#7201a8"
             ],
             [
              0.3333333333333333,
              "#9c179e"
             ],
             [
              0.4444444444444444,
              "#bd3786"
             ],
             [
              0.5555555555555556,
              "#d8576b"
             ],
             [
              0.6666666666666666,
              "#ed7953"
             ],
             [
              0.7777777777777778,
              "#fb9f3a"
             ],
             [
              0.8888888888888888,
              "#fdca26"
             ],
             [
              1,
              "#f0f921"
             ]
            ],
            "type": "histogram2d"
           }
          ],
          "histogram2dcontour": [
           {
            "colorbar": {
             "outlinewidth": 0,
             "ticks": ""
            },
            "colorscale": [
             [
              0,
              "#0d0887"
             ],
             [
              0.1111111111111111,
              "#46039f"
             ],
             [
              0.2222222222222222,
              "#7201a8"
             ],
             [
              0.3333333333333333,
              "#9c179e"
             ],
             [
              0.4444444444444444,
              "#bd3786"
             ],
             [
              0.5555555555555556,
              "#d8576b"
             ],
             [
              0.6666666666666666,
              "#ed7953"
             ],
             [
              0.7777777777777778,
              "#fb9f3a"
             ],
             [
              0.8888888888888888,
              "#fdca26"
             ],
             [
              1,
              "#f0f921"
             ]
            ],
            "type": "histogram2dcontour"
           }
          ],
          "mesh3d": [
           {
            "colorbar": {
             "outlinewidth": 0,
             "ticks": ""
            },
            "type": "mesh3d"
           }
          ],
          "parcoords": [
           {
            "line": {
             "colorbar": {
              "outlinewidth": 0,
              "ticks": ""
             }
            },
            "type": "parcoords"
           }
          ],
          "pie": [
           {
            "automargin": true,
            "type": "pie"
           }
          ],
          "scatter": [
           {
            "marker": {
             "colorbar": {
              "outlinewidth": 0,
              "ticks": ""
             }
            },
            "type": "scatter"
           }
          ],
          "scatter3d": [
           {
            "line": {
             "colorbar": {
              "outlinewidth": 0,
              "ticks": ""
             }
            },
            "marker": {
             "colorbar": {
              "outlinewidth": 0,
              "ticks": ""
             }
            },
            "type": "scatter3d"
           }
          ],
          "scattercarpet": [
           {
            "marker": {
             "colorbar": {
              "outlinewidth": 0,
              "ticks": ""
             }
            },
            "type": "scattercarpet"
           }
          ],
          "scattergeo": [
           {
            "marker": {
             "colorbar": {
              "outlinewidth": 0,
              "ticks": ""
             }
            },
            "type": "scattergeo"
           }
          ],
          "scattergl": [
           {
            "marker": {
             "colorbar": {
              "outlinewidth": 0,
              "ticks": ""
             }
            },
            "type": "scattergl"
           }
          ],
          "scattermapbox": [
           {
            "marker": {
             "colorbar": {
              "outlinewidth": 0,
              "ticks": ""
             }
            },
            "type": "scattermapbox"
           }
          ],
          "scatterpolar": [
           {
            "marker": {
             "colorbar": {
              "outlinewidth": 0,
              "ticks": ""
             }
            },
            "type": "scatterpolar"
           }
          ],
          "scatterpolargl": [
           {
            "marker": {
             "colorbar": {
              "outlinewidth": 0,
              "ticks": ""
             }
            },
            "type": "scatterpolargl"
           }
          ],
          "scatterternary": [
           {
            "marker": {
             "colorbar": {
              "outlinewidth": 0,
              "ticks": ""
             }
            },
            "type": "scatterternary"
           }
          ],
          "surface": [
           {
            "colorbar": {
             "outlinewidth": 0,
             "ticks": ""
            },
            "colorscale": [
             [
              0,
              "#0d0887"
             ],
             [
              0.1111111111111111,
              "#46039f"
             ],
             [
              0.2222222222222222,
              "#7201a8"
             ],
             [
              0.3333333333333333,
              "#9c179e"
             ],
             [
              0.4444444444444444,
              "#bd3786"
             ],
             [
              0.5555555555555556,
              "#d8576b"
             ],
             [
              0.6666666666666666,
              "#ed7953"
             ],
             [
              0.7777777777777778,
              "#fb9f3a"
             ],
             [
              0.8888888888888888,
              "#fdca26"
             ],
             [
              1,
              "#f0f921"
             ]
            ],
            "type": "surface"
           }
          ],
          "table": [
           {
            "cells": {
             "fill": {
              "color": "#EBF0F8"
             },
             "line": {
              "color": "white"
             }
            },
            "header": {
             "fill": {
              "color": "#C8D4E3"
             },
             "line": {
              "color": "white"
             }
            },
            "type": "table"
           }
          ]
         },
         "layout": {
          "annotationdefaults": {
           "arrowcolor": "#2a3f5f",
           "arrowhead": 0,
           "arrowwidth": 1
          },
          "coloraxis": {
           "colorbar": {
            "outlinewidth": 0,
            "ticks": ""
           }
          },
          "colorscale": {
           "diverging": [
            [
             0,
             "#8e0152"
            ],
            [
             0.1,
             "#c51b7d"
            ],
            [
             0.2,
             "#de77ae"
            ],
            [
             0.3,
             "#f1b6da"
            ],
            [
             0.4,
             "#fde0ef"
            ],
            [
             0.5,
             "#f7f7f7"
            ],
            [
             0.6,
             "#e6f5d0"
            ],
            [
             0.7,
             "#b8e186"
            ],
            [
             0.8,
             "#7fbc41"
            ],
            [
             0.9,
             "#4d9221"
            ],
            [
             1,
             "#276419"
            ]
           ],
           "sequential": [
            [
             0,
             "#0d0887"
            ],
            [
             0.1111111111111111,
             "#46039f"
            ],
            [
             0.2222222222222222,
             "#7201a8"
            ],
            [
             0.3333333333333333,
             "#9c179e"
            ],
            [
             0.4444444444444444,
             "#bd3786"
            ],
            [
             0.5555555555555556,
             "#d8576b"
            ],
            [
             0.6666666666666666,
             "#ed7953"
            ],
            [
             0.7777777777777778,
             "#fb9f3a"
            ],
            [
             0.8888888888888888,
             "#fdca26"
            ],
            [
             1,
             "#f0f921"
            ]
           ],
           "sequentialminus": [
            [
             0,
             "#0d0887"
            ],
            [
             0.1111111111111111,
             "#46039f"
            ],
            [
             0.2222222222222222,
             "#7201a8"
            ],
            [
             0.3333333333333333,
             "#9c179e"
            ],
            [
             0.4444444444444444,
             "#bd3786"
            ],
            [
             0.5555555555555556,
             "#d8576b"
            ],
            [
             0.6666666666666666,
             "#ed7953"
            ],
            [
             0.7777777777777778,
             "#fb9f3a"
            ],
            [
             0.8888888888888888,
             "#fdca26"
            ],
            [
             1,
             "#f0f921"
            ]
           ]
          },
          "colorway": [
           "#636efa",
           "#EF553B",
           "#00cc96",
           "#ab63fa",
           "#FFA15A",
           "#19d3f3",
           "#FF6692",
           "#B6E880",
           "#FF97FF",
           "#FECB52"
          ],
          "font": {
           "color": "#2a3f5f"
          },
          "geo": {
           "bgcolor": "white",
           "lakecolor": "white",
           "landcolor": "#E5ECF6",
           "showlakes": true,
           "showland": true,
           "subunitcolor": "white"
          },
          "hoverlabel": {
           "align": "left"
          },
          "hovermode": "closest",
          "mapbox": {
           "style": "light"
          },
          "paper_bgcolor": "white",
          "plot_bgcolor": "#E5ECF6",
          "polar": {
           "angularaxis": {
            "gridcolor": "white",
            "linecolor": "white",
            "ticks": ""
           },
           "bgcolor": "#E5ECF6",
           "radialaxis": {
            "gridcolor": "white",
            "linecolor": "white",
            "ticks": ""
           }
          },
          "scene": {
           "xaxis": {
            "backgroundcolor": "#E5ECF6",
            "gridcolor": "white",
            "gridwidth": 2,
            "linecolor": "white",
            "showbackground": true,
            "ticks": "",
            "zerolinecolor": "white"
           },
           "yaxis": {
            "backgroundcolor": "#E5ECF6",
            "gridcolor": "white",
            "gridwidth": 2,
            "linecolor": "white",
            "showbackground": true,
            "ticks": "",
            "zerolinecolor": "white"
           },
           "zaxis": {
            "backgroundcolor": "#E5ECF6",
            "gridcolor": "white",
            "gridwidth": 2,
            "linecolor": "white",
            "showbackground": true,
            "ticks": "",
            "zerolinecolor": "white"
           }
          },
          "shapedefaults": {
           "line": {
            "color": "#2a3f5f"
           }
          },
          "ternary": {
           "aaxis": {
            "gridcolor": "white",
            "linecolor": "white",
            "ticks": ""
           },
           "baxis": {
            "gridcolor": "white",
            "linecolor": "white",
            "ticks": ""
           },
           "bgcolor": "#E5ECF6",
           "caxis": {
            "gridcolor": "white",
            "linecolor": "white",
            "ticks": ""
           }
          },
          "title": {
           "x": 0.05
          },
          "xaxis": {
           "automargin": true,
           "gridcolor": "white",
           "linecolor": "white",
           "ticks": "",
           "title": {
            "standoff": 15
           },
           "zerolinecolor": "white",
           "zerolinewidth": 2
          },
          "yaxis": {
           "automargin": true,
           "gridcolor": "white",
           "linecolor": "white",
           "ticks": "",
           "title": {
            "standoff": 15
           },
           "zerolinecolor": "white",
           "zerolinewidth": 2
          }
         }
        },
        "width": 1000,
        "xaxis": {
         "automargin": true,
         "gridcolor": "rgb(255, 255, 255)",
         "linecolor": "DarkSlateGrey",
         "linewidth": 4,
         "mirror": true,
         "range": [
          -1.25,
          1.25
         ],
         "showgrid": false,
         "showline": true,
         "tickfont": {
          "size": 18
         },
         "tickmode": "array",
         "ticktext": [
          "",
          "Few",
          "",
          "Many",
          ""
         ],
         "tickvals": [
          -1,
          -0.5,
          0,
          0.5,
          1
         ],
         "title": {
          "font": {
           "size": 24
          },
          "standoff": 10,
          "text": "People"
         },
         "type": "linear",
         "zerolinecolor": "DarkSlateGrey",
         "zerolinewidth": 1
        },
        "yaxis": {
         "automargin": true,
         "gridcolor": "rgb(255, 255, 255)",
         "linecolor": "DarkSlateGrey",
         "linewidth": 4,
         "mirror": true,
         "range": [
          -1.25,
          1.25
         ],
         "showgrid": false,
         "showline": true,
         "tickangle": -90,
         "tickfont": {
          "size": 18
         },
         "tickmode": "array",
         "ticktext": [
          "",
          "Low",
          "",
          "High",
          ""
         ],
         "tickvals": [
          -1,
          -0.5,
          0,
          0.5,
          1
         ],
         "title": {
          "font": {
           "size": 24
          },
          "standoff": 0,
          "text": "Attack rate"
         },
         "type": "linear",
         "zerolinecolor": "DarkSlateGrey",
         "zerolinewidth": 1
        }
       }
      }
     },
     "metadata": {}
    }
   ],
   "source": [
    "fig = go.Figure()\n",
    "\n",
    "for environment in environment_list:\n",
    "    row = data_chart.filter(like=environment, axis=0)\n",
    "\n",
    "    fig.add_trace(go.Scatter(\n",
    "        x=row['people'].values,\n",
    "        y=row['attack rate'].values,\n",
    "        name=environment,   \n",
    "        mode='lines+markers+text',\n",
    "        showlegend=True,\n",
    "        text=row['lockdown'].values, # [f\"{environment}-{text}\" for text in row['lockdown'].values],\n",
    "        marker={\n",
    "            'size':12,\n",
    "            'line':{\n",
    "                'width':2,\n",
    "                'color':'DarkSlateGrey'\n",
    "            }\n",
    "        },\n",
    "        textposition='top left',\n",
    "        textfont={\n",
    "            'size':14\n",
    "        }\n",
    "    ))\n",
    "\n",
    "\n",
    "fig.update_layout(\n",
    "    # title='Attack rate Vs people',\n",
    "    autosize=False,\n",
    "    width = 1000,\n",
    "    height = 1100,\n",
    "    xaxis= {\n",
    "        'type':'linear',\n",
    "        'title':'People',\n",
    "        'title_standoff':10,\n",
    "        'automargin':True,\n",
    "        'title_font':{\n",
    "            'size':24\n",
    "        },\n",
    "        'range':[-1.25, 1.25],\n",
    "        'showgrid':False,\n",
    "        'tickfont':{\n",
    "            'size':18\n",
    "        },\n",
    "        'tickmode':'array',\n",
    "        'tickvals':[-1, -0.5, 0., 0.5, 1],\n",
    "        'ticktext':['', 'Few', '', 'Many',''],\n",
    "        'gridcolor':'rgb(255, 255, 255)',\n",
    "        'zerolinewidth':1,\n",
    "        'zerolinecolor':'DarkSlateGrey'\n",
    "    },\n",
    "    yaxis={\n",
    "        'type':'linear',\n",
    "        'title':'Attack rate',\n",
    "        'title_standoff':00,\n",
    "        'automargin':True,\n",
    "        'title_font':{\n",
    "            'size':24\n",
    "        },\n",
    "        'range':[-1.25, 1.25],\n",
    "        'showgrid':False,\n",
    "        'tickangle':-90,\n",
    "        'tickfont':{\n",
    "            'size':18\n",
    "        },\n",
    "        'tickmode':'array',\n",
    "        'tickvals':[-1, -0.5, 0., 0.5, 1],\n",
    "        'ticktext':['', 'Low', '', 'High',''],\n",
    "        'gridcolor':'rgb(255, 255, 255)',\n",
    "        'zerolinewidth':1,\n",
    "        'zerolinecolor':'DarkSlateGrey'\n",
    "    },\n",
    "    legend={\n",
    "        'itemsizing':'constant'\n",
    "    },\n",
    "    #margin={\n",
    "    #    't':40,\n",
    "    #    'l':0,\n",
    "    #    'b':0,\n",
    "    #    'r':0\n",
    "    #},\n",
    "    # paper_bgcolor='rgb(243, 243, 243)',\n",
    "    plot_bgcolor='rgb(250, 250, 250)',\n",
    ")\n",
    "fig.update_layout(\n",
    "    annotations=[\n",
    "        {\n",
    "            'x':0.0,\n",
    "            'y':0.0,\n",
    "            'showarrow':False,\n",
    "            'text':\"Low risk\",\n",
    "            'font':{\n",
    "                'size':18\n",
    "            },\n",
    "            'xref':\"paper\",\n",
    "            'yref':\"paper\"\n",
    "        }, {\n",
    "            'x':0,\n",
    "            'y':1,\n",
    "            'showarrow':False,\n",
    "            'text':\"Risk to a small group\",\n",
    "            'font':{\n",
    "                'size':18\n",
    "            },\n",
    "            'xref':\"paper\",\n",
    "            'yref':\"paper\"\n",
    "        }, {\n",
    "            'x':1.0,\n",
    "            'xanchor':'right',\n",
    "            'y':0.0,\n",
    "            'showarrow':False,\n",
    "            'text':\"Low risk of outbreak\",\n",
    "            'font':{\n",
    "                'size':18\n",
    "            },\n",
    "            'xref':\"paper\",\n",
    "            'yref':\"paper\"\n",
    "        }, {\n",
    "            'x':1,\n",
    "            'xanchor':'right',\n",
    "            'y':1,\n",
    "            'showarrow':False,\n",
    "            'text':\"High risk of outbreak\",\n",
    "            'font':{\n",
    "                'size':18\n",
    "            },\n",
    "            'xref':\"paper\",\n",
    "            'yref':\"paper\"\n",
    "        }\n",
    "    ]\n",
    ")\n",
    "fig.update_xaxes(showline=True, linewidth=4, linecolor='DarkSlateGrey', mirror=True)\n",
    "fig.update_yaxes(showline=True, linewidth=4, linecolor='DarkSlateGrey', mirror=True)\n",
    "fig.show()"
   ]
  },
  {
   "cell_type": "code",
   "execution_count": null,
   "metadata": {},
   "outputs": [],
   "source": []
  }
 ],
 "metadata": {
  "language_info": {
   "codemirror_mode": {
    "name": "ipython",
    "version": 3
   },
   "file_extension": ".py",
   "mimetype": "text/x-python",
   "name": "python",
   "nbconvert_exporter": "python",
   "pygments_lexer": "ipython3",
   "version": "3.7.7-final"
  },
  "orig_nbformat": 2,
  "kernelspec": {
   "name": "python37764bitdes2020conda06b03b1cd12e49f4a2bda6a10d24292b",
   "display_name": "Python 3.7.7 64-bit ('DES2020': conda)"
  }
 },
 "nbformat": 4,
 "nbformat_minor": 2
}