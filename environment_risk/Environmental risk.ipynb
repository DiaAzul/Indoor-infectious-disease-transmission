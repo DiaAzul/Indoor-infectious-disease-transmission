{
 "cells": [
  {
   "cell_type": "markdown",
   "metadata": {},
   "source": [
    "# Environment risk matrix\n",
    "The risk associated with an environment driving an infectious disease outbreak can be categorised against two metrics, the attack rate (the percentage of people that will contract the disease) and the number of people visiting the location. The more people visiting the location the more likely one or more infectious people will enter the building, the more people the more susceuptible people to be infected.\n",
    "\n",
    "Environment can be plotted on a 2x2 matrix to identify those environments which may have a high risk of spreading infections."
   ]
  },
  {
   "cell_type": "code",
   "execution_count": 165,
   "metadata": {},
   "outputs": [],
   "source": [
    "import plotly.graph_objects as go\n",
    "import plotly.express as px\n",
    "import pandas as pd\n",
    "import numpy as np\n",
    "import math"
   ]
  },
  {
   "cell_type": "code",
   "execution_count": 166,
   "metadata": {},
   "outputs": [],
   "source": [
    "data = pd.read_excel('./environments.xlsx', header=0, engine='openpyxl')"
   ]
  },
  {
   "cell_type": "code",
   "execution_count": 167,
   "metadata": {},
   "outputs": [
    {
     "output_type": "execute_result",
     "data": {
      "text/plain": "   environment lockdown  people  attack rate\n0         Home   Indoor       2     0.700000\n1         Home  Outdoor       2     0.050000\n2  Supermarket      Pre    1000     0.031222\n3  Supermarket     Post    1000     0.034667\n4   Restaurant      Pre     150     0.270000\n5     Pharmacy     Post      20     0.030000\n6  Post Office      Pre     100     0.022889\n7  Post Office     Post     100     0.011806",
      "text/html": "<div>\n<style scoped>\n    .dataframe tbody tr th:only-of-type {\n        vertical-align: middle;\n    }\n\n    .dataframe tbody tr th {\n        vertical-align: top;\n    }\n\n    .dataframe thead th {\n        text-align: right;\n    }\n</style>\n<table border=\"1\" class=\"dataframe\">\n  <thead>\n    <tr style=\"text-align: right;\">\n      <th></th>\n      <th>environment</th>\n      <th>lockdown</th>\n      <th>people</th>\n      <th>attack rate</th>\n    </tr>\n  </thead>\n  <tbody>\n    <tr>\n      <th>0</th>\n      <td>Home</td>\n      <td>Indoor</td>\n      <td>2</td>\n      <td>0.700000</td>\n    </tr>\n    <tr>\n      <th>1</th>\n      <td>Home</td>\n      <td>Outdoor</td>\n      <td>2</td>\n      <td>0.050000</td>\n    </tr>\n    <tr>\n      <th>2</th>\n      <td>Supermarket</td>\n      <td>Pre</td>\n      <td>1000</td>\n      <td>0.031222</td>\n    </tr>\n    <tr>\n      <th>3</th>\n      <td>Supermarket</td>\n      <td>Post</td>\n      <td>1000</td>\n      <td>0.034667</td>\n    </tr>\n    <tr>\n      <th>4</th>\n      <td>Restaurant</td>\n      <td>Pre</td>\n      <td>150</td>\n      <td>0.270000</td>\n    </tr>\n    <tr>\n      <th>5</th>\n      <td>Pharmacy</td>\n      <td>Post</td>\n      <td>20</td>\n      <td>0.030000</td>\n    </tr>\n    <tr>\n      <th>6</th>\n      <td>Post Office</td>\n      <td>Pre</td>\n      <td>100</td>\n      <td>0.022889</td>\n    </tr>\n    <tr>\n      <th>7</th>\n      <td>Post Office</td>\n      <td>Post</td>\n      <td>100</td>\n      <td>0.011806</td>\n    </tr>\n  </tbody>\n</table>\n</div>"
     },
     "metadata": {},
     "execution_count": 167
    }
   ],
   "source": [
    "data"
   ]
  },
  {
   "cell_type": "code",
   "execution_count": 168,
   "metadata": {},
   "outputs": [],
   "source": [
    "ar = 2 * 0.253 * np.log(data['attack rate']) + 1"
   ]
  },
  {
   "cell_type": "code",
   "execution_count": 169,
   "metadata": {},
   "outputs": [],
   "source": [
    "p = 0.2389 * np.log(data['people']) - 0.912"
   ]
  },
  {
   "cell_type": "code",
   "execution_count": 170,
   "metadata": {},
   "outputs": [],
   "source": [
    "env = data['environment']\n",
    "lockdown = data['lockdown']\n",
    "environment_list = env.drop_duplicates().values"
   ]
  },
  {
   "cell_type": "code",
   "execution_count": 171,
   "metadata": {},
   "outputs": [],
   "source": [
    "data_chart = pd.DataFrame(zip(env, lockdown, p, ar), columns=data.columns)\n",
    "data_chart = data_chart.set_index('environment')"
   ]
  },
  {
   "cell_type": "code",
   "execution_count": 172,
   "metadata": {},
   "outputs": [
    {
     "output_type": "display_data",
     "data": {
      "application/vnd.plotly.v1+json": {
       "config": {
        "plotlyServerURL": "https://plot.ly"
       },
       "data": [
        {
         "marker": {
          "line": {
           "color": "DarkSlateGrey",
           "width": 2
          },
          "size": 12
         },
         "mode": "lines+markers+text",
         "name": "Home",
         "showlegend": false,
         "text": [
          "Home-Indoor",
          "Home-Outdoor"
         ],
         "textfont": {
          "size": 14
         },
         "textposition": "top center",
         "type": "scatter",
         "x": [
          -0.7464071385642291,
          -0.7464071385642291
         ],
         "y": [
          0.8195224783670014,
          -0.5158405304183193
         ]
        },
        {
         "marker": {
          "line": {
           "color": "DarkSlateGrey",
           "width": 2
          },
          "size": 12
         },
         "mode": "lines+markers+text",
         "name": "Supermarket",
         "showlegend": false,
         "text": [
          "Supermarket-Pre",
          "Supermarket-Post"
         ],
         "textfont": {
          "size": 14
         },
         "textposition": "top center",
         "type": "scatter",
         "x": [
          0.7382627361488324,
          0.7382627361488324
         ],
         "y": [
          -0.7541123446142135,
          -0.7011601942654897
         ]
        },
        {
         "marker": {
          "line": {
           "color": "DarkSlateGrey",
           "width": 2
          },
          "size": 12
         },
         "mode": "lines+markers+text",
         "name": "Restaurant",
         "showlegend": false,
         "text": [
          "Restaurant-Pre"
         ],
         "textfont": {
          "size": 14
         },
         "textposition": "top center",
         "type": "scatter",
         "x": [
          0.2850407717595954
         ],
         "y": [
          0.3374773400882163
         ]
        },
        {
         "marker": {
          "line": {
           "color": "DarkSlateGrey",
           "width": 2
          },
          "size": 12
         },
         "mode": "lines+markers+text",
         "name": "Pharmacy",
         "showlegend": false,
         "text": [
          "Pharmacy-Post"
         ],
         "textfont": {
          "size": 14
         },
         "textposition": "top center",
         "type": "scatter",
         "x": [
          -0.19631955984795157
         ],
         "y": [
          -0.7743182960439108
         ]
        },
        {
         "marker": {
          "line": {
           "color": "DarkSlateGrey",
           "width": 2
          },
          "size": 12
         },
         "mode": "lines+markers+text",
         "name": "Post Office",
         "showlegend": false,
         "text": [
          "Post Office-Pre",
          "Post Office-Post"
         ],
         "textfont": {
          "size": 14
         },
         "textposition": "top center",
         "type": "scatter",
         "x": [
          0.18817515743255508,
          0.18817515743255508
         ],
         "y": [
          -0.91121446588956,
          -1.2462276345479961
         ]
        }
       ],
       "layout": {
        "height": 800,
        "plot_bgcolor": "rgb(250, 250, 250)",
        "template": {
         "data": {
          "bar": [
           {
            "error_x": {
             "color": "#2a3f5f"
            },
            "error_y": {
             "color": "#2a3f5f"
            },
            "marker": {
             "line": {
              "color": "#E5ECF6",
              "width": 0.5
             }
            },
            "type": "bar"
           }
          ],
          "barpolar": [
           {
            "marker": {
             "line": {
              "color": "#E5ECF6",
              "width": 0.5
             }
            },
            "type": "barpolar"
           }
          ],
          "carpet": [
           {
            "aaxis": {
             "endlinecolor": "#2a3f5f",
             "gridcolor": "white",
             "linecolor": "white",
             "minorgridcolor": "white",
             "startlinecolor": "#2a3f5f"
            },
            "baxis": {
             "endlinecolor": "#2a3f5f",
             "gridcolor": "white",
             "linecolor": "white",
             "minorgridcolor": "white",
             "startlinecolor": "#2a3f5f"
            },
            "type": "carpet"
           }
          ],
          "choropleth": [
           {
            "colorbar": {
             "outlinewidth": 0,
             "ticks": ""
            },
            "type": "choropleth"
           }
          ],
          "contour": [
           {
            "colorbar": {
             "outlinewidth": 0,
             "ticks": ""
            },
            "colorscale": [
             [
              0,
              "#0d0887"
             ],
             [
              0.1111111111111111,
              "#46039f"
             ],
             [
              0.2222222222222222,
              "#7201a8"
             ],
             [
              0.3333333333333333,
              "#9c179e"
             ],
             [
              0.4444444444444444,
              "#bd3786"
             ],
             [
              0.5555555555555556,
              "#d8576b"
             ],
             [
              0.6666666666666666,
              "#ed7953"
             ],
             [
              0.7777777777777778,
              "#fb9f3a"
             ],
             [
              0.8888888888888888,
              "#fdca26"
             ],
             [
              1,
              "#f0f921"
             ]
            ],
            "type": "contour"
           }
          ],
          "contourcarpet": [
           {
            "colorbar": {
             "outlinewidth": 0,
             "ticks": ""
            },
            "type": "contourcarpet"
           }
          ],
          "heatmap": [
           {
            "colorbar": {
             "outlinewidth": 0,
             "ticks": ""
            },
            "colorscale": [
             [
              0,
              "#0d0887"
             ],
             [
              0.1111111111111111,
              "#46039f"
             ],
             [
              0.2222222222222222,
              "#7201a8"
             ],
             [
              0.3333333333333333,
              "#9c179e"
             ],
             [
              0.4444444444444444,
              "#bd3786"
             ],
             [
              0.5555555555555556,
              "#d8576b"
             ],
             [
              0.6666666666666666,
              "#ed7953"
             ],
             [
              0.7777777777777778,
              "#fb9f3a"
             ],
             [
              0.8888888888888888,
              "#fdca26"
             ],
             [
              1,
              "#f0f921"
             ]
            ],
            "type": "heatmap"
           }
          ],
          "heatmapgl": [
           {
            "colorbar": {
             "outlinewidth": 0,
             "ticks": ""
            },
            "colorscale": [
             [
              0,
              "#0d0887"
             ],
             [
              0.1111111111111111,
              "#46039f"
             ],
             [
              0.2222222222222222,
              "#7201a8"
             ],
             [
              0.3333333333333333,
              "#9c179e"
             ],
             [
              0.4444444444444444,
              "#bd3786"
             ],
             [
              0.5555555555555556,
              "#d8576b"
             ],
             [
              0.6666666666666666,
              "#ed7953"
             ],
             [
              0.7777777777777778,
              "#fb9f3a"
             ],
             [
              0.8888888888888888,
              "#fdca26"
             ],
             [
              1,
              "#f0f921"
             ]
            ],
            "type": "heatmapgl"
           }
          ],
          "histogram": [
           {
            "marker": {
             "colorbar": {
              "outlinewidth": 0,
              "ticks": ""
             }
            },
            "type": "histogram"
           }
          ],
          "histogram2d": [
           {
            "colorbar": {
             "outlinewidth": 0,
             "ticks": ""
            },
            "colorscale": [
             [
              0,
              "#0d0887"
             ],
             [
              0.1111111111111111,
              "#46039f"
             ],
             [
              0.2222222222222222,
              "#7201a8"
             ],
             [
              0.3333333333333333,
              "#9c179e"
             ],
             [
              0.4444444444444444,
              "#bd3786"
             ],
             [
              0.5555555555555556,
              "#d8576b"
             ],
             [
              0.6666666666666666,
              "#ed7953"
             ],
             [
              0.7777777777777778,
              "#fb9f3a"
             ],
             [
              0.8888888888888888,
              "#fdca26"
             ],
             [
              1,
              "#f0f921"
             ]
            ],
            "type": "histogram2d"
           }
          ],
          "histogram2dcontour": [
           {
            "colorbar": {
             "outlinewidth": 0,
             "ticks": ""
            },
            "colorscale": [
             [
              0,
              "#0d0887"
             ],
             [
              0.1111111111111111,
              "#46039f"
             ],
             [
              0.2222222222222222,
              "#7201a8"
             ],
             [
              0.3333333333333333,
              "#9c179e"
             ],
             [
              0.4444444444444444,
              "#bd3786"
             ],
             [
              0.5555555555555556,
              "#d8576b"
             ],
             [
              0.6666666666666666,
              "#ed7953"
             ],
             [
              0.7777777777777778,
              "#fb9f3a"
             ],
             [
              0.8888888888888888,
              "#fdca26"
             ],
             [
              1,
              "#f0f921"
             ]
            ],
            "type": "histogram2dcontour"
           }
          ],
          "mesh3d": [
           {
            "colorbar": {
             "outlinewidth": 0,
             "ticks": ""
            },
            "type": "mesh3d"
           }
          ],
          "parcoords": [
           {
            "line": {
             "colorbar": {
              "outlinewidth": 0,
              "ticks": ""
             }
            },
            "type": "parcoords"
           }
          ],
          "pie": [
           {
            "automargin": true,
            "type": "pie"
           }
          ],
          "scatter": [
           {
            "marker": {
             "colorbar": {
              "outlinewidth": 0,
              "ticks": ""
             }
            },
            "type": "scatter"
           }
          ],
          "scatter3d": [
           {
            "line": {
             "colorbar": {
              "outlinewidth": 0,
              "ticks": ""
             }
            },
            "marker": {
             "colorbar": {
              "outlinewidth": 0,
              "ticks": ""
             }
            },
            "type": "scatter3d"
           }
          ],
          "scattercarpet": [
           {
            "marker": {
             "colorbar": {
              "outlinewidth": 0,
              "ticks": ""
             }
            },
            "type": "scattercarpet"
           }
          ],
          "scattergeo": [
           {
            "marker": {
             "colorbar": {
              "outlinewidth": 0,
              "ticks": ""
             }
            },
            "type": "scattergeo"
           }
          ],
          "scattergl": [
           {
            "marker": {
             "colorbar": {
              "outlinewidth": 0,
              "ticks": ""
             }
            },
            "type": "scattergl"
           }
          ],
          "scattermapbox": [
           {
            "marker": {
             "colorbar": {
              "outlinewidth": 0,
              "ticks": ""
             }
            },
            "type": "scattermapbox"
           }
          ],
          "scatterpolar": [
           {
            "marker": {
             "colorbar": {
              "outlinewidth": 0,
              "ticks": ""
             }
            },
            "type": "scatterpolar"
           }
          ],
          "scatterpolargl": [
           {
            "marker": {
             "colorbar": {
              "outlinewidth": 0,
              "ticks": ""
             }
            },
            "type": "scatterpolargl"
           }
          ],
          "scatterternary": [
           {
            "marker": {
             "colorbar": {
              "outlinewidth": 0,
              "ticks": ""
             }
            },
            "type": "scatterternary"
           }
          ],
          "surface": [
           {
            "colorbar": {
             "outlinewidth": 0,
             "ticks": ""
            },
            "colorscale": [
             [
              0,
              "#0d0887"
             ],
             [
              0.1111111111111111,
              "#46039f"
             ],
             [
              0.2222222222222222,
              "#7201a8"
             ],
             [
              0.3333333333333333,
              "#9c179e"
             ],
             [
              0.4444444444444444,
              "#bd3786"
             ],
             [
              0.5555555555555556,
              "#d8576b"
             ],
             [
              0.6666666666666666,
              "#ed7953"
             ],
             [
              0.7777777777777778,
              "#fb9f3a"
             ],
             [
              0.8888888888888888,
              "#fdca26"
             ],
             [
              1,
              "#f0f921"
             ]
            ],
            "type": "surface"
           }
          ],
          "table": [
           {
            "cells": {
             "fill": {
              "color": "#EBF0F8"
             },
             "line": {
              "color": "white"
             }
            },
            "header": {
             "fill": {
              "color": "#C8D4E3"
             },
             "line": {
              "color": "white"
             }
            },
            "type": "table"
           }
          ]
         },
         "layout": {
          "annotationdefaults": {
           "arrowcolor": "#2a3f5f",
           "arrowhead": 0,
           "arrowwidth": 1
          },
          "coloraxis": {
           "colorbar": {
            "outlinewidth": 0,
            "ticks": ""
           }
          },
          "colorscale": {
           "diverging": [
            [
             0,
             "#8e0152"
            ],
            [
             0.1,
             "#c51b7d"
            ],
            [
             0.2,
             "#de77ae"
            ],
            [
             0.3,
             "#f1b6da"
            ],
            [
             0.4,
             "#fde0ef"
            ],
            [
             0.5,
             "#f7f7f7"
            ],
            [
             0.6,
             "#e6f5d0"
            ],
            [
             0.7,
             "#b8e186"
            ],
            [
             0.8,
             "#7fbc41"
            ],
            [
             0.9,
             "#4d9221"
            ],
            [
             1,
             "#276419"
            ]
           ],
           "sequential": [
            [
             0,
             "#0d0887"
            ],
            [
             0.1111111111111111,
             "#46039f"
            ],
            [
             0.2222222222222222,
             "#7201a8"
            ],
            [
             0.3333333333333333,
             "#9c179e"
            ],
            [
             0.4444444444444444,
             "#bd3786"
            ],
            [
             0.5555555555555556,
             "#d8576b"
            ],
            [
             0.6666666666666666,
             "#ed7953"
            ],
            [
             0.7777777777777778,
             "#fb9f3a"
            ],
            [
             0.8888888888888888,
             "#fdca26"
            ],
            [
             1,
             "#f0f921"
            ]
           ],
           "sequentialminus": [
            [
             0,
             "#0d0887"
            ],
            [
             0.1111111111111111,
             "#46039f"
            ],
            [
             0.2222222222222222,
             "#7201a8"
            ],
            [
             0.3333333333333333,
             "#9c179e"
            ],
            [
             0.4444444444444444,
             "#bd3786"
            ],
            [
             0.5555555555555556,
             "#d8576b"
            ],
            [
             0.6666666666666666,
             "#ed7953"
            ],
            [
             0.7777777777777778,
             "#fb9f3a"
            ],
            [
             0.8888888888888888,
             "#fdca26"
            ],
            [
             1,
             "#f0f921"
            ]
           ]
          },
          "colorway": [
           "#636efa",
           "#EF553B",
           "#00cc96",
           "#ab63fa",
           "#FFA15A",
           "#19d3f3",
           "#FF6692",
           "#B6E880",
           "#FF97FF",
           "#FECB52"
          ],
          "font": {
           "color": "#2a3f5f"
          },
          "geo": {
           "bgcolor": "white",
           "lakecolor": "white",
           "landcolor": "#E5ECF6",
           "showlakes": true,
           "showland": true,
           "subunitcolor": "white"
          },
          "hoverlabel": {
           "align": "left"
          },
          "hovermode": "closest",
          "mapbox": {
           "style": "light"
          },
          "paper_bgcolor": "white",
          "plot_bgcolor": "#E5ECF6",
          "polar": {
           "angularaxis": {
            "gridcolor": "white",
            "linecolor": "white",
            "ticks": ""
           },
           "bgcolor": "#E5ECF6",
           "radialaxis": {
            "gridcolor": "white",
            "linecolor": "white",
            "ticks": ""
           }
          },
          "scene": {
           "xaxis": {
            "backgroundcolor": "#E5ECF6",
            "gridcolor": "white",
            "gridwidth": 2,
            "linecolor": "white",
            "showbackground": true,
            "ticks": "",
            "zerolinecolor": "white"
           },
           "yaxis": {
            "backgroundcolor": "#E5ECF6",
            "gridcolor": "white",
            "gridwidth": 2,
            "linecolor": "white",
            "showbackground": true,
            "ticks": "",
            "zerolinecolor": "white"
           },
           "zaxis": {
            "backgroundcolor": "#E5ECF6",
            "gridcolor": "white",
            "gridwidth": 2,
            "linecolor": "white",
            "showbackground": true,
            "ticks": "",
            "zerolinecolor": "white"
           }
          },
          "shapedefaults": {
           "line": {
            "color": "#2a3f5f"
           }
          },
          "ternary": {
           "aaxis": {
            "gridcolor": "white",
            "linecolor": "white",
            "ticks": ""
           },
           "baxis": {
            "gridcolor": "white",
            "linecolor": "white",
            "ticks": ""
           },
           "bgcolor": "#E5ECF6",
           "caxis": {
            "gridcolor": "white",
            "linecolor": "white",
            "ticks": ""
           }
          },
          "title": {
           "x": 0.05
          },
          "xaxis": {
           "automargin": true,
           "gridcolor": "white",
           "linecolor": "white",
           "ticks": "",
           "title": {
            "standoff": 15
           },
           "zerolinecolor": "white",
           "zerolinewidth": 2
          },
          "yaxis": {
           "automargin": true,
           "gridcolor": "white",
           "linecolor": "white",
           "ticks": "",
           "title": {
            "standoff": 15
           },
           "zerolinecolor": "white",
           "zerolinewidth": 2
          }
         }
        },
        "width": 800,
        "xaxis": {
         "gridcolor": "rgb(255, 255, 255)",
         "linecolor": "DarkSlateGrey",
         "linewidth": 4,
         "mirror": true,
         "range": [
          -1,
          1
         ],
         "showgrid": false,
         "showline": true,
         "tickfont": {
          "size": 18
         },
         "tickmode": "array",
         "ticktext": [
          "",
          "Few",
          "",
          "Many",
          ""
         ],
         "tickvals": [
          -1,
          -0.5,
          0,
          0.5,
          1
         ],
         "title": {
          "font": {
           "size": 24
          },
          "standoff": 10,
          "text": "People"
         },
         "type": "linear",
         "zerolinecolor": "DarkSlateGrey",
         "zerolinewidth": 1
        },
        "yaxis": {
         "gridcolor": "rgb(255, 255, 255)",
         "linecolor": "DarkSlateGrey",
         "linewidth": 4,
         "mirror": true,
         "range": [
          -1,
          1
         ],
         "showgrid": false,
         "showline": true,
         "tickangle": -90,
         "tickfont": {
          "size": 18
         },
         "tickmode": "array",
         "ticktext": [
          "",
          "Low",
          "",
          "High",
          ""
         ],
         "tickvals": [
          -1,
          -0.5,
          0,
          0.5,
          1
         ],
         "title": {
          "font": {
           "size": 24
          },
          "standoff": 0,
          "text": "Attack rate"
         },
         "type": "linear",
         "zerolinecolor": "DarkSlateGrey",
         "zerolinewidth": 1
        }
       }
      }
     },
     "metadata": {}
    }
   ],
   "source": [
    "fig = go.Figure()\n",
    "\n",
    "for environment in environment_list:\n",
    "    row = data_chart.filter(like=environment, axis=0)\n",
    "\n",
    "    fig.add_trace(go.Scatter(\n",
    "        x=row['people'].values,\n",
    "        y=row['attack rate'].values,\n",
    "        name=environment,   \n",
    "        mode='lines+markers+text',\n",
    "        showlegend=False,\n",
    "        text=[f\"{environment}-{text}\" for text in row['lockdown'].values],\n",
    "        marker={\n",
    "            'size':12,\n",
    "            'line':{\n",
    "                'width':2,\n",
    "                'color':'DarkSlateGrey'\n",
    "            }\n",
    "        },\n",
    "        textposition='top center',\n",
    "        textfont={\n",
    "            'size':14\n",
    "        }\n",
    "    ))\n",
    "\n",
    "\n",
    "fig.update_layout(\n",
    "    # title='Attack rate Vs people',\n",
    "    width = 800,\n",
    "    height = 800,\n",
    "    xaxis= {\n",
    "        'type':'linear',\n",
    "        'title':'People',\n",
    "        'title_standoff':10,\n",
    "        'title_font':{\n",
    "            'size':24\n",
    "        },\n",
    "        'range':[-1, 1],\n",
    "        'showgrid':False,\n",
    "        'tickfont':{\n",
    "            'size':18\n",
    "        },\n",
    "        'tickmode':'array',\n",
    "        'tickvals':[-1, -0.5, 0., 0.5, 1],\n",
    "        'ticktext':['', 'Few', '', 'Many',''],\n",
    "        'gridcolor':'rgb(255, 255, 255)',\n",
    "        'zerolinewidth':1,\n",
    "        'zerolinecolor':'DarkSlateGrey'\n",
    "    },\n",
    "    yaxis={\n",
    "        'type':'linear',\n",
    "        'title':{\n",
    "            'text':'Attack rate',\n",
    "            'standoff':0\n",
    "        },\n",
    "        'title_font':{\n",
    "            'size':24\n",
    "        },\n",
    "        #'scaleanchor':\"x\",\n",
    "        #'scaleratio':1,\n",
    "        'range':[-1, 1],\n",
    "        'showgrid':False,\n",
    "        'tickangle':-90,\n",
    "        'tickfont':{\n",
    "            'size':18\n",
    "        },\n",
    "        'tickmode':'array',\n",
    "        'tickvals':[-1, -0.5, 0., 0.5, 1],\n",
    "        'ticktext':['', 'Low', '', 'High',''],\n",
    "        'gridcolor':'rgb(255, 255, 255)',\n",
    "        'zerolinewidth':1,\n",
    "        'zerolinecolor':'DarkSlateGrey'\n",
    "    },\n",
    "    # paper_bgcolor='rgb(243, 243, 243)',\n",
    "    plot_bgcolor='rgb(250, 250, 250)',\n",
    ")\n",
    "fig.update_xaxes(showline=True, linewidth=4, linecolor='DarkSlateGrey', mirror=True)\n",
    "fig.update_yaxes(showline=True, linewidth=4, linecolor='DarkSlateGrey', mirror=True)\n",
    "fig.show()"
   ]
  },
  {
   "cell_type": "code",
   "execution_count": null,
   "metadata": {},
   "outputs": [],
   "source": []
  }
 ],
 "metadata": {
  "language_info": {
   "codemirror_mode": {
    "name": "ipython",
    "version": 3
   },
   "file_extension": ".py",
   "mimetype": "text/x-python",
   "name": "python",
   "nbconvert_exporter": "python",
   "pygments_lexer": "ipython3",
   "version": "3.7.7-final"
  },
  "orig_nbformat": 2,
  "kernelspec": {
   "name": "python37764bitdes2020conda06b03b1cd12e49f4a2bda6a10d24292b",
   "display_name": "Python 3.7.7 64-bit ('DES2020': conda)"
  }
 },
 "nbformat": 4,
 "nbformat_minor": 2
}