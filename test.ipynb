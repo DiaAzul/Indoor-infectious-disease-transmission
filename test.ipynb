{
 "metadata": {
  "language_info": {
   "codemirror_mode": {
    "name": "ipython",
    "version": 3
   },
   "file_extension": ".py",
   "mimetype": "text/x-python",
   "name": "python",
   "nbconvert_exporter": "python",
   "pygments_lexer": "ipython3",
   "version": "3.7.8-final"
  },
  "orig_nbformat": 2,
  "kernelspec": {
   "name": "python_defaultSpec_1597405163697",
   "display_name": "Python 3.7.8 64-bit ('DES2020': conda)"
  }
 },
 "nbformat": 4,
 "nbformat_minor": 2,
 "cells": [
  {
   "cell_type": "code",
   "execution_count": 33,
   "metadata": {},
   "outputs": [],
   "source": [
    "from typing import Union, Iterable, Tuple\n",
    "from collections.abc import MutableMapping\n",
    "\n",
    "AttrDict_KT = str\n",
    "AttrDict_VT = Union[bool, bytes, str, int, float, complex, frozenset, None]\n",
    "\n",
    "\n",
    "class AttrDict(MutableMapping):\n",
    "\n",
    "    def __init__(self) -> None:\n",
    "        self.mapping = {}\n",
    "\n",
    "    def __getitem__(self, key: AttrDict_KT):\n",
    "        try:\n",
    "            return self.mapping[key]\n",
    "        except KeyError:\n",
    "            print(\"Ooops\")\n",
    "\n",
    "    def __delitem__(self, key: AttrDict_KT) -> None:\n",
    "        value = self[key]\n",
    "        del self.mapping[key]\n",
    "        self.pop(value, None)\n",
    "\n",
    "    def __setitem__(self, key: AttrDict_KT, value: AttrDict_VT) -> None:\n",
    "        self.mapping[key] = value if value <= 1000 else 1000\n",
    "\n",
    "    def __iter__(self) -> Iterable[Tuple[AttrDict_KT, AttrDict_VT]]:\n",
    "        return iter(self.mapping)\n",
    "\n",
    "    def __len__(self) -> int:\n",
    "        return len(self.mapping)\n",
    "\n",
    "    def __repr__(self) -> str:\n",
    "        return f\"{type(self).__name__}({self.mapping})\""
   ]
  },
  {
   "cell_type": "code",
   "execution_count": 34,
   "metadata": {},
   "outputs": [],
   "source": [
    "class P:\n",
    "\n",
    "    def __init__(self, name, x):\n",
    "        self.__x = AttrDict()\n",
    "        self.x[name] = x\n",
    "        print(self.__dict__)\n",
    "        print(type(self._P__x))\n",
    "\n",
    "    @property\n",
    "    def x(self):\n",
    "        return self.__x\n",
    "\n",
    "    @x.setter\n",
    "    def x(self, name, x):\n",
    "        if x < 0:\n",
    "            self.__x[name] = 0\n",
    "        elif x > 1000:\n",
    "            self.__x[name] = 1000\n",
    "        else:\n",
    "            self.__x[name] = x"
   ]
  },
  {
   "cell_type": "code",
   "execution_count": 35,
   "metadata": {
    "tags": []
   },
   "outputs": [
    {
     "output_type": "stream",
     "name": "stdout",
     "text": "{'_P__x': AttrDict({'data': 1000})}\n<class '__main__.AttrDict'>\n"
    }
   ],
   "source": [
    "p=P('data', 1001)"
   ]
  },
  {
   "cell_type": "code",
   "execution_count": 36,
   "metadata": {},
   "outputs": [
    {
     "output_type": "execute_result",
     "data": {
      "text/plain": "1000"
     },
     "metadata": {},
     "execution_count": 36
    }
   ],
   "source": [
    "p.x['data']"
   ]
  },
  {
   "cell_type": "code",
   "execution_count": 37,
   "metadata": {},
   "outputs": [],
   "source": [
    "p.x['data']=500"
   ]
  },
  {
   "cell_type": "code",
   "execution_count": 38,
   "metadata": {},
   "outputs": [
    {
     "output_type": "execute_result",
     "data": {
      "text/plain": "500"
     },
     "metadata": {},
     "execution_count": 38
    }
   ],
   "source": [
    "p.x['data']"
   ]
  },
  {
   "cell_type": "code",
   "execution_count": 39,
   "metadata": {},
   "outputs": [],
   "source": [
    "p.x['stuff']=35"
   ]
  },
  {
   "cell_type": "code",
   "execution_count": 40,
   "metadata": {},
   "outputs": [
    {
     "output_type": "execute_result",
     "data": {
      "text/plain": "35"
     },
     "metadata": {},
     "execution_count": 40
    }
   ],
   "source": [
    "p.x['stuff']"
   ]
  },
  {
   "cell_type": "code",
   "execution_count": 41,
   "metadata": {
    "tags": []
   },
   "outputs": [
    {
     "output_type": "stream",
     "name": "stdout",
     "text": "Ooops\n"
    }
   ],
   "source": [
    "p.x['turtle']"
   ]
  },
  {
   "cell_type": "code",
   "execution_count": 42,
   "metadata": {},
   "outputs": [],
   "source": [
    "class R:\n",
    "    def __init__(self):\n",
    "        self.a: AttrDict = AttrDict()"
   ]
  },
  {
   "cell_type": "code",
   "execution_count": 43,
   "metadata": {},
   "outputs": [],
   "source": [
    "r = R()"
   ]
  },
  {
   "cell_type": "code",
   "execution_count": 44,
   "metadata": {},
   "outputs": [
    {
     "output_type": "execute_result",
     "data": {
      "text/plain": "1"
     },
     "metadata": {},
     "execution_count": 44
    }
   ],
   "source": [
    "r.a['hello'] = 1\n",
    "r.a['hello']"
   ]
  },
  {
   "cell_type": "code",
   "execution_count": 45,
   "metadata": {
    "tags": []
   },
   "outputs": [
    {
     "output_type": "stream",
     "name": "stdout",
     "text": "Ooops\n"
    }
   ],
   "source": [
    "r.a['turtle']"
   ]
  },
  {
   "cell_type": "code",
   "execution_count": 46,
   "metadata": {},
   "outputs": [],
   "source": [
    "class S:\n",
    "    def __init__(self):\n",
    "        self.a: Dict = {}"
   ]
  },
  {
   "cell_type": "code",
   "execution_count": 47,
   "metadata": {},
   "outputs": [],
   "source": [
    "s = S()"
   ]
  },
  {
   "cell_type": "code",
   "execution_count": 48,
   "metadata": {},
   "outputs": [
    {
     "output_type": "execute_result",
     "data": {
      "text/plain": "1"
     },
     "metadata": {},
     "execution_count": 48
    }
   ],
   "source": [
    "s.a['hello'] = 1\n",
    "s.a['hello']"
   ]
  },
  {
   "cell_type": "code",
   "execution_count": 49,
   "metadata": {},
   "outputs": [
    {
     "output_type": "error",
     "ename": "KeyError",
     "evalue": "'turtle'",
     "traceback": [
      "\u001b[1;31m---------------------------------------------------------------------------\u001b[0m",
      "\u001b[1;31mKeyError\u001b[0m                                  Traceback (most recent call last)",
      "\u001b[1;32m<ipython-input-49-c858bb969e55>\u001b[0m in \u001b[0;36m<module>\u001b[1;34m\u001b[0m\n\u001b[1;32m----> 1\u001b[1;33m \u001b[0ms\u001b[0m\u001b[1;33m.\u001b[0m\u001b[0ma\u001b[0m\u001b[1;33m[\u001b[0m\u001b[1;34m'turtle'\u001b[0m\u001b[1;33m]\u001b[0m\u001b[1;33m\u001b[0m\u001b[1;33m\u001b[0m\u001b[0m\n\u001b[0m",
      "\u001b[1;31mKeyError\u001b[0m: 'turtle'"
     ]
    }
   ],
   "source": [
    "s.a['turtle']"
   ]
  },
  {
   "cell_type": "code",
   "execution_count": 54,
   "metadata": {},
   "outputs": [],
   "source": [
    "class T:\n",
    "\n",
    "    def __init__(self, name, x):\n",
    "        self.__x = dict()\n",
    "        self.x[name] = x\n",
    "        print(self.__dict__)\n",
    "        print(type(self._T__x))\n",
    "\n",
    "    @property\n",
    "    def x(self):\n",
    "        return self.__x\n",
    "\n",
    "    @x.setter\n",
    "    def x(self, name, x):\n",
    "        if x < 0:\n",
    "            self.__x[name] = 0\n",
    "        elif x > 1000:\n",
    "            self.__x[name] = 1000\n",
    "        else:\n",
    "            self.__x[name] = x"
   ]
  },
  {
   "cell_type": "code",
   "execution_count": 55,
   "metadata": {
    "tags": []
   },
   "outputs": [
    {
     "output_type": "stream",
     "name": "stdout",
     "text": "{'_T__x': {'data': 1001}}\n<class 'dict'>\n"
    }
   ],
   "source": [
    "t=T('data', 1001)"
   ]
  },
  {
   "cell_type": "code",
   "execution_count": 57,
   "metadata": {},
   "outputs": [
    {
     "output_type": "execute_result",
     "data": {
      "text/plain": "1"
     },
     "metadata": {},
     "execution_count": 57
    }
   ],
   "source": [
    "t.x['hello'] = 1\n",
    "t.x['hello']"
   ]
  },
  {
   "cell_type": "code",
   "execution_count": null,
   "metadata": {},
   "outputs": [],
   "source": [
    "from HealthDES import ActivityBase"
   ]
  },
  {
   "cell_type": "code",
   "execution_count": null,
   "metadata": {},
   "outputs": [],
   "source": []
  }
 ]
}